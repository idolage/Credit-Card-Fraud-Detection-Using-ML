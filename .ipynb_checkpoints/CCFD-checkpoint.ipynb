{
 "cells": [
  {
   "cell_type": "markdown",
   "id": "242dd7ba",
   "metadata": {},
   "source": [
    "### Importing the dependencies"
   ]
  },
  {
   "cell_type": "code",
   "execution_count": 3,
   "id": "4401af39",
   "metadata": {},
   "outputs": [],
   "source": [
    "import numpy as np\n",
    "import pandas as pd\n",
    "import seaborn as sns\n",
    "from matplotlib import pyplot as plt"
   ]
  },
  {
   "cell_type": "markdown",
   "id": "78cf37b0",
   "metadata": {},
   "source": [
    "### Loading the dataset"
   ]
  },
  {
   "cell_type": "code",
   "execution_count": 4,
   "id": "4d7eb67c",
   "metadata": {},
   "outputs": [
    {
     "name": "stdout",
     "output_type": "stream",
     "text": [
      "dataset_train:  (1296675, 23)\n",
      "dataset_test:  (555719, 23)\n"
     ]
    }
   ],
   "source": [
    "#Loading the dataset to a Pandas DataFrame\n",
    "dataset_train = pd.read_csv(\"fraudTrain.csv\")\n",
    "dataset_test = pd.read_csv(\"fraudTest.csv\")\n",
    "print(\"dataset_train: \" , dataset_train.shape)\n",
    "print(\"dataset_test: \" , dataset_test.shape)"
   ]
  },
  {
   "cell_type": "markdown",
   "id": "45f7715e",
   "metadata": {},
   "source": [
    "### Checking the number of missing values in each col"
   ]
  },
  {
   "cell_type": "code",
   "execution_count": 5,
   "id": "aa48315e",
   "metadata": {},
   "outputs": [
    {
     "name": "stdout",
     "output_type": "stream",
     "text": [
      "Unnamed: 0               0\n",
      "trans_date_trans_time    0\n",
      "cc_num                   0\n",
      "merchant                 0\n",
      "category                 0\n",
      "amt                      0\n",
      "first                    0\n",
      "last                     0\n",
      "gender                   0\n",
      "street                   0\n",
      "city                     0\n",
      "state                    0\n",
      "zip                      0\n",
      "lat                      0\n",
      "long                     0\n",
      "city_pop                 0\n",
      "job                      0\n",
      "dob                      0\n",
      "trans_num                0\n",
      "unix_time                0\n",
      "merch_lat                0\n",
      "merch_long               0\n",
      "is_fraud                 0\n",
      "dtype: int64\n",
      "Unnamed: 0               0\n",
      "trans_date_trans_time    0\n",
      "cc_num                   0\n",
      "merchant                 0\n",
      "category                 0\n",
      "amt                      0\n",
      "first                    0\n",
      "last                     0\n",
      "gender                   0\n",
      "street                   0\n",
      "city                     0\n",
      "state                    0\n",
      "zip                      0\n",
      "lat                      0\n",
      "long                     0\n",
      "city_pop                 0\n",
      "job                      0\n",
      "dob                      0\n",
      "trans_num                0\n",
      "unix_time                0\n",
      "merch_lat                0\n",
      "merch_long               0\n",
      "is_fraud                 0\n",
      "dtype: int64\n"
     ]
    }
   ],
   "source": [
    "print(dataset_train.isnull().sum())\n",
    "print(dataset_test.isnull().sum())"
   ]
  },
  {
   "cell_type": "markdown",
   "id": "5d207187",
   "metadata": {},
   "source": [
    "### Dropping if there are any duplicate entries"
   ]
  },
  {
   "cell_type": "code",
   "execution_count": 6,
   "id": "115687f4",
   "metadata": {},
   "outputs": [
    {
     "name": "stdout",
     "output_type": "stream",
     "text": [
      "dataset_train:  (1296675, 23)\n",
      "dataset_test:  (555719, 23)\n"
     ]
    }
   ],
   "source": [
    "dataset_train.drop_duplicates(inplace=True)\n",
    "print(\"dataset_train: \",dataset_train.shape)\n",
    "\n",
    "dataset_test.drop_duplicates(inplace=True)\n",
    "print(\"dataset_test: \",dataset_test.shape)"
   ]
  },
  {
   "cell_type": "markdown",
   "id": "a442eb78",
   "metadata": {},
   "source": [
    "### Concatenate two datasets"
   ]
  },
  {
   "cell_type": "code",
   "execution_count": 7,
   "id": "5cdbb979",
   "metadata": {},
   "outputs": [
    {
     "name": "stdout",
     "output_type": "stream",
     "text": [
      "New dataset:  (1852394, 23)\n"
     ]
    },
    {
     "data": {
      "text/html": [
       "<div>\n",
       "<style scoped>\n",
       "    .dataframe tbody tr th:only-of-type {\n",
       "        vertical-align: middle;\n",
       "    }\n",
       "\n",
       "    .dataframe tbody tr th {\n",
       "        vertical-align: top;\n",
       "    }\n",
       "\n",
       "    .dataframe thead th {\n",
       "        text-align: right;\n",
       "    }\n",
       "</style>\n",
       "<table border=\"1\" class=\"dataframe\">\n",
       "  <thead>\n",
       "    <tr style=\"text-align: right;\">\n",
       "      <th></th>\n",
       "      <th>Unnamed: 0</th>\n",
       "      <th>trans_date_trans_time</th>\n",
       "      <th>cc_num</th>\n",
       "      <th>merchant</th>\n",
       "      <th>category</th>\n",
       "      <th>amt</th>\n",
       "      <th>first</th>\n",
       "      <th>last</th>\n",
       "      <th>gender</th>\n",
       "      <th>street</th>\n",
       "      <th>...</th>\n",
       "      <th>lat</th>\n",
       "      <th>long</th>\n",
       "      <th>city_pop</th>\n",
       "      <th>job</th>\n",
       "      <th>dob</th>\n",
       "      <th>trans_num</th>\n",
       "      <th>unix_time</th>\n",
       "      <th>merch_lat</th>\n",
       "      <th>merch_long</th>\n",
       "      <th>is_fraud</th>\n",
       "    </tr>\n",
       "  </thead>\n",
       "  <tbody>\n",
       "    <tr>\n",
       "      <th>0</th>\n",
       "      <td>0</td>\n",
       "      <td>2019-01-01 00:00:18</td>\n",
       "      <td>2703186189652095</td>\n",
       "      <td>fraud_Rippin, Kub and Mann</td>\n",
       "      <td>misc_net</td>\n",
       "      <td>4.97</td>\n",
       "      <td>Jennifer</td>\n",
       "      <td>Banks</td>\n",
       "      <td>F</td>\n",
       "      <td>561 Perry Cove</td>\n",
       "      <td>...</td>\n",
       "      <td>36.0788</td>\n",
       "      <td>-81.1781</td>\n",
       "      <td>3495</td>\n",
       "      <td>Psychologist, counselling</td>\n",
       "      <td>1988-03-09</td>\n",
       "      <td>0b242abb623afc578575680df30655b9</td>\n",
       "      <td>1325376018</td>\n",
       "      <td>36.011293</td>\n",
       "      <td>-82.048315</td>\n",
       "      <td>0</td>\n",
       "    </tr>\n",
       "    <tr>\n",
       "      <th>1</th>\n",
       "      <td>1</td>\n",
       "      <td>2019-01-01 00:00:44</td>\n",
       "      <td>630423337322</td>\n",
       "      <td>fraud_Heller, Gutmann and Zieme</td>\n",
       "      <td>grocery_pos</td>\n",
       "      <td>107.23</td>\n",
       "      <td>Stephanie</td>\n",
       "      <td>Gill</td>\n",
       "      <td>F</td>\n",
       "      <td>43039 Riley Greens Suite 393</td>\n",
       "      <td>...</td>\n",
       "      <td>48.8878</td>\n",
       "      <td>-118.2105</td>\n",
       "      <td>149</td>\n",
       "      <td>Special educational needs teacher</td>\n",
       "      <td>1978-06-21</td>\n",
       "      <td>1f76529f8574734946361c461b024d99</td>\n",
       "      <td>1325376044</td>\n",
       "      <td>49.159047</td>\n",
       "      <td>-118.186462</td>\n",
       "      <td>0</td>\n",
       "    </tr>\n",
       "    <tr>\n",
       "      <th>2</th>\n",
       "      <td>2</td>\n",
       "      <td>2019-01-01 00:00:51</td>\n",
       "      <td>38859492057661</td>\n",
       "      <td>fraud_Lind-Buckridge</td>\n",
       "      <td>entertainment</td>\n",
       "      <td>220.11</td>\n",
       "      <td>Edward</td>\n",
       "      <td>Sanchez</td>\n",
       "      <td>M</td>\n",
       "      <td>594 White Dale Suite 530</td>\n",
       "      <td>...</td>\n",
       "      <td>42.1808</td>\n",
       "      <td>-112.2620</td>\n",
       "      <td>4154</td>\n",
       "      <td>Nature conservation officer</td>\n",
       "      <td>1962-01-19</td>\n",
       "      <td>a1a22d70485983eac12b5b88dad1cf95</td>\n",
       "      <td>1325376051</td>\n",
       "      <td>43.150704</td>\n",
       "      <td>-112.154481</td>\n",
       "      <td>0</td>\n",
       "    </tr>\n",
       "    <tr>\n",
       "      <th>3</th>\n",
       "      <td>3</td>\n",
       "      <td>2019-01-01 00:01:16</td>\n",
       "      <td>3534093764340240</td>\n",
       "      <td>fraud_Kutch, Hermiston and Farrell</td>\n",
       "      <td>gas_transport</td>\n",
       "      <td>45.00</td>\n",
       "      <td>Jeremy</td>\n",
       "      <td>White</td>\n",
       "      <td>M</td>\n",
       "      <td>9443 Cynthia Court Apt. 038</td>\n",
       "      <td>...</td>\n",
       "      <td>46.2306</td>\n",
       "      <td>-112.1138</td>\n",
       "      <td>1939</td>\n",
       "      <td>Patent attorney</td>\n",
       "      <td>1967-01-12</td>\n",
       "      <td>6b849c168bdad6f867558c3793159a81</td>\n",
       "      <td>1325376076</td>\n",
       "      <td>47.034331</td>\n",
       "      <td>-112.561071</td>\n",
       "      <td>0</td>\n",
       "    </tr>\n",
       "    <tr>\n",
       "      <th>4</th>\n",
       "      <td>4</td>\n",
       "      <td>2019-01-01 00:03:06</td>\n",
       "      <td>375534208663984</td>\n",
       "      <td>fraud_Keeling-Crist</td>\n",
       "      <td>misc_pos</td>\n",
       "      <td>41.96</td>\n",
       "      <td>Tyler</td>\n",
       "      <td>Garcia</td>\n",
       "      <td>M</td>\n",
       "      <td>408 Bradley Rest</td>\n",
       "      <td>...</td>\n",
       "      <td>38.4207</td>\n",
       "      <td>-79.4629</td>\n",
       "      <td>99</td>\n",
       "      <td>Dance movement psychotherapist</td>\n",
       "      <td>1986-03-28</td>\n",
       "      <td>a41d7549acf90789359a9aa5346dcb46</td>\n",
       "      <td>1325376186</td>\n",
       "      <td>38.674999</td>\n",
       "      <td>-78.632459</td>\n",
       "      <td>0</td>\n",
       "    </tr>\n",
       "  </tbody>\n",
       "</table>\n",
       "<p>5 rows × 23 columns</p>\n",
       "</div>"
      ],
      "text/plain": [
       "   Unnamed: 0 trans_date_trans_time            cc_num  \\\n",
       "0           0   2019-01-01 00:00:18  2703186189652095   \n",
       "1           1   2019-01-01 00:00:44      630423337322   \n",
       "2           2   2019-01-01 00:00:51    38859492057661   \n",
       "3           3   2019-01-01 00:01:16  3534093764340240   \n",
       "4           4   2019-01-01 00:03:06   375534208663984   \n",
       "\n",
       "                             merchant       category     amt      first  \\\n",
       "0          fraud_Rippin, Kub and Mann       misc_net    4.97   Jennifer   \n",
       "1     fraud_Heller, Gutmann and Zieme    grocery_pos  107.23  Stephanie   \n",
       "2                fraud_Lind-Buckridge  entertainment  220.11     Edward   \n",
       "3  fraud_Kutch, Hermiston and Farrell  gas_transport   45.00     Jeremy   \n",
       "4                 fraud_Keeling-Crist       misc_pos   41.96      Tyler   \n",
       "\n",
       "      last gender                        street  ...      lat      long  \\\n",
       "0    Banks      F                561 Perry Cove  ...  36.0788  -81.1781   \n",
       "1     Gill      F  43039 Riley Greens Suite 393  ...  48.8878 -118.2105   \n",
       "2  Sanchez      M      594 White Dale Suite 530  ...  42.1808 -112.2620   \n",
       "3    White      M   9443 Cynthia Court Apt. 038  ...  46.2306 -112.1138   \n",
       "4   Garcia      M              408 Bradley Rest  ...  38.4207  -79.4629   \n",
       "\n",
       "   city_pop                                job         dob  \\\n",
       "0      3495          Psychologist, counselling  1988-03-09   \n",
       "1       149  Special educational needs teacher  1978-06-21   \n",
       "2      4154        Nature conservation officer  1962-01-19   \n",
       "3      1939                    Patent attorney  1967-01-12   \n",
       "4        99     Dance movement psychotherapist  1986-03-28   \n",
       "\n",
       "                          trans_num   unix_time  merch_lat  merch_long  \\\n",
       "0  0b242abb623afc578575680df30655b9  1325376018  36.011293  -82.048315   \n",
       "1  1f76529f8574734946361c461b024d99  1325376044  49.159047 -118.186462   \n",
       "2  a1a22d70485983eac12b5b88dad1cf95  1325376051  43.150704 -112.154481   \n",
       "3  6b849c168bdad6f867558c3793159a81  1325376076  47.034331 -112.561071   \n",
       "4  a41d7549acf90789359a9aa5346dcb46  1325376186  38.674999  -78.632459   \n",
       "\n",
       "   is_fraud  \n",
       "0         0  \n",
       "1         0  \n",
       "2         0  \n",
       "3         0  \n",
       "4         0  \n",
       "\n",
       "[5 rows x 23 columns]"
      ]
     },
     "execution_count": 7,
     "metadata": {},
     "output_type": "execute_result"
    }
   ],
   "source": [
    "# create a new dataframe\n",
    "df1 = pd.concat([dataset_train,dataset_test], axis=0)\n",
    "print(\"New dataset: \",df1.shape)\n",
    "df1.head()"
   ]
  },
  {
   "cell_type": "code",
   "execution_count": 8,
   "id": "5103a251",
   "metadata": {},
   "outputs": [
    {
     "data": {
      "text/plain": [
       "Unnamed: 0               1296675\n",
       "trans_date_trans_time    1819551\n",
       "cc_num                       999\n",
       "merchant                     693\n",
       "category                      14\n",
       "amt                        60616\n",
       "first                        355\n",
       "last                         486\n",
       "gender                         2\n",
       "street                       999\n",
       "city                         906\n",
       "state                         51\n",
       "zip                          985\n",
       "lat                          983\n",
       "long                         983\n",
       "city_pop                     891\n",
       "job                          497\n",
       "dob                          984\n",
       "trans_num                1852394\n",
       "unix_time                1819583\n",
       "merch_lat                1754157\n",
       "merch_long               1809753\n",
       "is_fraud                       2\n",
       "dtype: int64"
      ]
     },
     "execution_count": 8,
     "metadata": {},
     "output_type": "execute_result"
    }
   ],
   "source": [
    "df1.nunique()"
   ]
  },
  {
   "cell_type": "code",
   "execution_count": 9,
   "id": "021d0463",
   "metadata": {},
   "outputs": [
    {
     "data": {
      "text/html": [
       "<div>\n",
       "<style scoped>\n",
       "    .dataframe tbody tr th:only-of-type {\n",
       "        vertical-align: middle;\n",
       "    }\n",
       "\n",
       "    .dataframe tbody tr th {\n",
       "        vertical-align: top;\n",
       "    }\n",
       "\n",
       "    .dataframe thead th {\n",
       "        text-align: right;\n",
       "    }\n",
       "</style>\n",
       "<table border=\"1\" class=\"dataframe\">\n",
       "  <thead>\n",
       "    <tr style=\"text-align: right;\">\n",
       "      <th></th>\n",
       "      <th>cc_num</th>\n",
       "      <th>category</th>\n",
       "      <th>amt</th>\n",
       "      <th>gender</th>\n",
       "      <th>state</th>\n",
       "      <th>city_pop</th>\n",
       "      <th>unix_time</th>\n",
       "      <th>is_fraud</th>\n",
       "    </tr>\n",
       "  </thead>\n",
       "  <tbody>\n",
       "    <tr>\n",
       "      <th>0</th>\n",
       "      <td>2703186189652095</td>\n",
       "      <td>misc_net</td>\n",
       "      <td>4.97</td>\n",
       "      <td>F</td>\n",
       "      <td>NC</td>\n",
       "      <td>3495</td>\n",
       "      <td>1325376018</td>\n",
       "      <td>0</td>\n",
       "    </tr>\n",
       "    <tr>\n",
       "      <th>1</th>\n",
       "      <td>630423337322</td>\n",
       "      <td>grocery_pos</td>\n",
       "      <td>107.23</td>\n",
       "      <td>F</td>\n",
       "      <td>WA</td>\n",
       "      <td>149</td>\n",
       "      <td>1325376044</td>\n",
       "      <td>0</td>\n",
       "    </tr>\n",
       "    <tr>\n",
       "      <th>2</th>\n",
       "      <td>38859492057661</td>\n",
       "      <td>entertainment</td>\n",
       "      <td>220.11</td>\n",
       "      <td>M</td>\n",
       "      <td>ID</td>\n",
       "      <td>4154</td>\n",
       "      <td>1325376051</td>\n",
       "      <td>0</td>\n",
       "    </tr>\n",
       "    <tr>\n",
       "      <th>3</th>\n",
       "      <td>3534093764340240</td>\n",
       "      <td>gas_transport</td>\n",
       "      <td>45.00</td>\n",
       "      <td>M</td>\n",
       "      <td>MT</td>\n",
       "      <td>1939</td>\n",
       "      <td>1325376076</td>\n",
       "      <td>0</td>\n",
       "    </tr>\n",
       "    <tr>\n",
       "      <th>4</th>\n",
       "      <td>375534208663984</td>\n",
       "      <td>misc_pos</td>\n",
       "      <td>41.96</td>\n",
       "      <td>M</td>\n",
       "      <td>VA</td>\n",
       "      <td>99</td>\n",
       "      <td>1325376186</td>\n",
       "      <td>0</td>\n",
       "    </tr>\n",
       "  </tbody>\n",
       "</table>\n",
       "</div>"
      ],
      "text/plain": [
       "             cc_num       category     amt gender state  city_pop   unix_time  \\\n",
       "0  2703186189652095       misc_net    4.97      F    NC      3495  1325376018   \n",
       "1      630423337322    grocery_pos  107.23      F    WA       149  1325376044   \n",
       "2    38859492057661  entertainment  220.11      M    ID      4154  1325376051   \n",
       "3  3534093764340240  gas_transport   45.00      M    MT      1939  1325376076   \n",
       "4   375534208663984       misc_pos   41.96      M    VA        99  1325376186   \n",
       "\n",
       "   is_fraud  \n",
       "0         0  \n",
       "1         0  \n",
       "2         0  \n",
       "3         0  \n",
       "4         0  "
      ]
     },
     "execution_count": 9,
     "metadata": {},
     "output_type": "execute_result"
    }
   ],
   "source": [
    "df2 = df1.drop(['Unnamed: 0','trans_date_trans_time','merchant','first','last','street','city','zip','lat','long','job','dob',\n",
    "                'trans_num','merch_lat','merch_long'],axis='columns')\n",
    "df2.head()"
   ]
  },
  {
   "cell_type": "code",
   "execution_count": 10,
   "id": "aec73b08",
   "metadata": {},
   "outputs": [
    {
     "data": {
      "text/html": [
       "<div>\n",
       "<style scoped>\n",
       "    .dataframe tbody tr th:only-of-type {\n",
       "        vertical-align: middle;\n",
       "    }\n",
       "\n",
       "    .dataframe tbody tr th {\n",
       "        vertical-align: top;\n",
       "    }\n",
       "\n",
       "    .dataframe thead th {\n",
       "        text-align: right;\n",
       "    }\n",
       "</style>\n",
       "<table border=\"1\" class=\"dataframe\">\n",
       "  <thead>\n",
       "    <tr style=\"text-align: right;\">\n",
       "      <th></th>\n",
       "      <th>cc_num</th>\n",
       "      <th>category</th>\n",
       "      <th>amt</th>\n",
       "      <th>gender</th>\n",
       "      <th>state</th>\n",
       "      <th>city_pop</th>\n",
       "      <th>unix_time</th>\n",
       "      <th>is_fraud</th>\n",
       "    </tr>\n",
       "  </thead>\n",
       "  <tbody>\n",
       "    <tr>\n",
       "      <th>0</th>\n",
       "      <td>2703186189652095</td>\n",
       "      <td>misc_net</td>\n",
       "      <td>4.97</td>\n",
       "      <td>0</td>\n",
       "      <td>NC</td>\n",
       "      <td>3495</td>\n",
       "      <td>1325376018</td>\n",
       "      <td>0</td>\n",
       "    </tr>\n",
       "    <tr>\n",
       "      <th>1</th>\n",
       "      <td>630423337322</td>\n",
       "      <td>grocery_pos</td>\n",
       "      <td>107.23</td>\n",
       "      <td>0</td>\n",
       "      <td>WA</td>\n",
       "      <td>149</td>\n",
       "      <td>1325376044</td>\n",
       "      <td>0</td>\n",
       "    </tr>\n",
       "    <tr>\n",
       "      <th>2</th>\n",
       "      <td>38859492057661</td>\n",
       "      <td>entertainment</td>\n",
       "      <td>220.11</td>\n",
       "      <td>1</td>\n",
       "      <td>ID</td>\n",
       "      <td>4154</td>\n",
       "      <td>1325376051</td>\n",
       "      <td>0</td>\n",
       "    </tr>\n",
       "    <tr>\n",
       "      <th>3</th>\n",
       "      <td>3534093764340240</td>\n",
       "      <td>gas_transport</td>\n",
       "      <td>45.00</td>\n",
       "      <td>1</td>\n",
       "      <td>MT</td>\n",
       "      <td>1939</td>\n",
       "      <td>1325376076</td>\n",
       "      <td>0</td>\n",
       "    </tr>\n",
       "    <tr>\n",
       "      <th>4</th>\n",
       "      <td>375534208663984</td>\n",
       "      <td>misc_pos</td>\n",
       "      <td>41.96</td>\n",
       "      <td>1</td>\n",
       "      <td>VA</td>\n",
       "      <td>99</td>\n",
       "      <td>1325376186</td>\n",
       "      <td>0</td>\n",
       "    </tr>\n",
       "  </tbody>\n",
       "</table>\n",
       "</div>"
      ],
      "text/plain": [
       "             cc_num       category     amt  gender state  city_pop  \\\n",
       "0  2703186189652095       misc_net    4.97       0    NC      3495   \n",
       "1      630423337322    grocery_pos  107.23       0    WA       149   \n",
       "2    38859492057661  entertainment  220.11       1    ID      4154   \n",
       "3  3534093764340240  gas_transport   45.00       1    MT      1939   \n",
       "4   375534208663984       misc_pos   41.96       1    VA        99   \n",
       "\n",
       "    unix_time  is_fraud  \n",
       "0  1325376018         0  \n",
       "1  1325376044         0  \n",
       "2  1325376051         0  \n",
       "3  1325376076         0  \n",
       "4  1325376186         0  "
      ]
     },
     "execution_count": 10,
     "metadata": {},
     "output_type": "execute_result"
    }
   ],
   "source": [
    "df2['gender'] = df2['gender'].replace({'F': 0, 'M': 1})\n",
    "df2.head()"
   ]
  },
  {
   "cell_type": "code",
   "execution_count": 11,
   "id": "fb1daec8",
   "metadata": {},
   "outputs": [
    {
     "data": {
      "text/plain": [
       "cc_num       0\n",
       "category     0\n",
       "amt          0\n",
       "gender       0\n",
       "state        0\n",
       "city_pop     0\n",
       "unix_time    0\n",
       "is_fraud     0\n",
       "dtype: int64"
      ]
     },
     "execution_count": 11,
     "metadata": {},
     "output_type": "execute_result"
    }
   ],
   "source": [
    "#find null values\n",
    "df2.isnull().sum()"
   ]
  },
  {
   "cell_type": "code",
   "execution_count": 12,
   "id": "ddab7920",
   "metadata": {},
   "outputs": [
    {
     "data": {
      "text/plain": [
       "array(['misc_net', 'grocery_pos', 'entertainment', 'gas_transport',\n",
       "       'misc_pos', 'grocery_net', 'shopping_net', 'shopping_pos',\n",
       "       'food_dining', 'personal_care', 'health_fitness', 'travel',\n",
       "       'kids_pets', 'home'], dtype=object)"
      ]
     },
     "execution_count": 12,
     "metadata": {},
     "output_type": "execute_result"
    }
   ],
   "source": [
    "df2['category'].unique()"
   ]
  },
  {
   "cell_type": "code",
   "execution_count": 13,
   "id": "d005d070",
   "metadata": {},
   "outputs": [
    {
     "data": {
      "text/plain": [
       "array(['NC', 'WA', 'ID', 'MT', 'VA', 'PA', 'KS', 'TN', 'IA', 'WV', 'FL',\n",
       "       'CA', 'NM', 'NJ', 'OK', 'IN', 'MA', 'TX', 'WI', 'MI', 'WY', 'HI',\n",
       "       'NE', 'OR', 'LA', 'DC', 'KY', 'NY', 'MS', 'UT', 'AL', 'AR', 'MD',\n",
       "       'GA', 'ME', 'AZ', 'MN', 'OH', 'CO', 'VT', 'MO', 'SC', 'NV', 'IL',\n",
       "       'NH', 'SD', 'AK', 'ND', 'CT', 'RI', 'DE'], dtype=object)"
      ]
     },
     "execution_count": 13,
     "metadata": {},
     "output_type": "execute_result"
    }
   ],
   "source": [
    "df2['state'].unique()"
   ]
  },
  {
   "cell_type": "code",
   "execution_count": 14,
   "id": "f5768ffd",
   "metadata": {},
   "outputs": [
    {
     "data": {
      "text/plain": [
       "cc_num           999\n",
       "category          14\n",
       "amt            60616\n",
       "gender             2\n",
       "state             51\n",
       "city_pop         891\n",
       "unix_time    1819583\n",
       "is_fraud           2\n",
       "dtype: int64"
      ]
     },
     "execution_count": 14,
     "metadata": {},
     "output_type": "execute_result"
    }
   ],
   "source": [
    "df2.nunique()"
   ]
  },
  {
   "cell_type": "markdown",
   "id": "b9ce7254",
   "metadata": {},
   "source": [
    "### Resolving the high dimensionality problem "
   ]
  },
  {
   "cell_type": "markdown",
   "id": "0e9dccc4",
   "metadata": {},
   "source": [
    "#### Dealing with cc numbers"
   ]
  },
  {
   "cell_type": "code",
   "execution_count": 15,
   "id": "785e1512",
   "metadata": {},
   "outputs": [],
   "source": [
    "import re\n",
    "df3 = df2.copy()"
   ]
  },
  {
   "cell_type": "code",
   "execution_count": 16,
   "id": "860adf5c",
   "metadata": {},
   "outputs": [],
   "source": [
    "# define regex patterns for each card type\n",
    "visa_regex = '^4[0-9]{12}(?:[0-9]{3})?$'\n",
    "mastercard_regex = '^5[1-5][0-9]{14}$'\n",
    "amex_regex = '^3[47][0-9]{13}$'\n",
    "discover_regex = '^6(?:011|5[0-9]{2})[0-9]{12}$'\n",
    "diners_regex = '^3(?:0[0-5]|[68][0-9])[0-9]{11}$'\n",
    "jcb_regex = '^(?:2131|1800|35\\d{3})\\d{11}$'"
   ]
  },
  {
   "cell_type": "code",
   "execution_count": 17,
   "id": "7832d441",
   "metadata": {},
   "outputs": [],
   "source": [
    "# create a function to match each card type\n",
    "def get_card_type(cc_num):\n",
    "    if re.match(visa_regex, cc_num):\n",
    "        return 'Visa'\n",
    "    elif re.match(mastercard_regex, cc_num):\n",
    "        return 'MasterCard'\n",
    "    elif re.match(amex_regex, cc_num):\n",
    "        return 'American Express'\n",
    "    elif re.match(discover_regex, cc_num):\n",
    "        return 'Discover'\n",
    "    elif re.match(diners_regex, cc_num):\n",
    "        return 'Diners Club - Carte Blanche'\n",
    "    elif re.match(jcb_regex, cc_num):\n",
    "        return 'JCB'\n",
    "    else:\n",
    "        return 'Other'"
   ]
  },
  {
   "cell_type": "code",
   "execution_count": 18,
   "id": "5adbe615",
   "metadata": {},
   "outputs": [],
   "source": [
    "# apply the get_card_type function to the cc_num column\n",
    "df3['cc_type'] = df3['cc_num'].astype(str).apply(get_card_type)\n",
    "\n",
    "# drop the card number column\n",
    "df3 = df3.drop('cc_num', axis=1)"
   ]
  },
  {
   "cell_type": "code",
   "execution_count": 19,
   "id": "a2fcd3b8",
   "metadata": {},
   "outputs": [
    {
     "data": {
      "text/plain": [
       "array(['Other', 'Diners Club - Carte Blanche', 'JCB', 'American Express',\n",
       "       'Visa', 'Discover', 'MasterCard'], dtype=object)"
      ]
     },
     "execution_count": 19,
     "metadata": {},
     "output_type": "execute_result"
    }
   ],
   "source": [
    "df3['cc_type'].unique()"
   ]
  },
  {
   "cell_type": "code",
   "execution_count": 20,
   "id": "4e5610a9",
   "metadata": {},
   "outputs": [
    {
     "data": {
      "text/html": [
       "<div>\n",
       "<style scoped>\n",
       "    .dataframe tbody tr th:only-of-type {\n",
       "        vertical-align: middle;\n",
       "    }\n",
       "\n",
       "    .dataframe tbody tr th {\n",
       "        vertical-align: top;\n",
       "    }\n",
       "\n",
       "    .dataframe thead th {\n",
       "        text-align: right;\n",
       "    }\n",
       "</style>\n",
       "<table border=\"1\" class=\"dataframe\">\n",
       "  <thead>\n",
       "    <tr style=\"text-align: right;\">\n",
       "      <th></th>\n",
       "      <th>category</th>\n",
       "      <th>amt</th>\n",
       "      <th>gender</th>\n",
       "      <th>state</th>\n",
       "      <th>city_pop</th>\n",
       "      <th>unix_time</th>\n",
       "      <th>is_fraud</th>\n",
       "      <th>cc_type</th>\n",
       "    </tr>\n",
       "  </thead>\n",
       "  <tbody>\n",
       "    <tr>\n",
       "      <th>0</th>\n",
       "      <td>misc_net</td>\n",
       "      <td>4.97</td>\n",
       "      <td>0</td>\n",
       "      <td>NC</td>\n",
       "      <td>3495</td>\n",
       "      <td>1325376018</td>\n",
       "      <td>0</td>\n",
       "      <td>Other</td>\n",
       "    </tr>\n",
       "    <tr>\n",
       "      <th>1</th>\n",
       "      <td>grocery_pos</td>\n",
       "      <td>107.23</td>\n",
       "      <td>0</td>\n",
       "      <td>WA</td>\n",
       "      <td>149</td>\n",
       "      <td>1325376044</td>\n",
       "      <td>0</td>\n",
       "      <td>Other</td>\n",
       "    </tr>\n",
       "    <tr>\n",
       "      <th>2</th>\n",
       "      <td>entertainment</td>\n",
       "      <td>220.11</td>\n",
       "      <td>1</td>\n",
       "      <td>ID</td>\n",
       "      <td>4154</td>\n",
       "      <td>1325376051</td>\n",
       "      <td>0</td>\n",
       "      <td>Diners Club - Carte Blanche</td>\n",
       "    </tr>\n",
       "    <tr>\n",
       "      <th>3</th>\n",
       "      <td>gas_transport</td>\n",
       "      <td>45.00</td>\n",
       "      <td>1</td>\n",
       "      <td>MT</td>\n",
       "      <td>1939</td>\n",
       "      <td>1325376076</td>\n",
       "      <td>0</td>\n",
       "      <td>JCB</td>\n",
       "    </tr>\n",
       "    <tr>\n",
       "      <th>4</th>\n",
       "      <td>misc_pos</td>\n",
       "      <td>41.96</td>\n",
       "      <td>1</td>\n",
       "      <td>VA</td>\n",
       "      <td>99</td>\n",
       "      <td>1325376186</td>\n",
       "      <td>0</td>\n",
       "      <td>American Express</td>\n",
       "    </tr>\n",
       "  </tbody>\n",
       "</table>\n",
       "</div>"
      ],
      "text/plain": [
       "        category     amt  gender state  city_pop   unix_time  is_fraud  \\\n",
       "0       misc_net    4.97       0    NC      3495  1325376018         0   \n",
       "1    grocery_pos  107.23       0    WA       149  1325376044         0   \n",
       "2  entertainment  220.11       1    ID      4154  1325376051         0   \n",
       "3  gas_transport   45.00       1    MT      1939  1325376076         0   \n",
       "4       misc_pos   41.96       1    VA        99  1325376186         0   \n",
       "\n",
       "                       cc_type  \n",
       "0                        Other  \n",
       "1                        Other  \n",
       "2  Diners Club - Carte Blanche  \n",
       "3                          JCB  \n",
       "4             American Express  "
      ]
     },
     "execution_count": 20,
     "metadata": {},
     "output_type": "execute_result"
    }
   ],
   "source": [
    "df3.head()"
   ]
  },
  {
   "cell_type": "code",
   "execution_count": 21,
   "id": "18424c6f",
   "metadata": {},
   "outputs": [
    {
     "data": {
      "text/plain": [
       "category          14\n",
       "amt            60616\n",
       "gender             2\n",
       "state             51\n",
       "city_pop         891\n",
       "unix_time    1819583\n",
       "is_fraud           2\n",
       "cc_type            7\n",
       "dtype: int64"
      ]
     },
     "execution_count": 21,
     "metadata": {},
     "output_type": "execute_result"
    }
   ],
   "source": [
    "df3.nunique()"
   ]
  },
  {
   "cell_type": "markdown",
   "id": "9066efe4",
   "metadata": {},
   "source": [
    "#### Dealing with unix time"
   ]
  },
  {
   "cell_type": "code",
   "execution_count": 22,
   "id": "8dab67c6",
   "metadata": {},
   "outputs": [],
   "source": [
    "import datetime\n",
    "df4 = df3.copy()"
   ]
  },
  {
   "cell_type": "code",
   "execution_count": 23,
   "id": "eeeb8cc6",
   "metadata": {},
   "outputs": [
    {
     "data": {
      "text/html": [
       "<div>\n",
       "<style scoped>\n",
       "    .dataframe tbody tr th:only-of-type {\n",
       "        vertical-align: middle;\n",
       "    }\n",
       "\n",
       "    .dataframe tbody tr th {\n",
       "        vertical-align: top;\n",
       "    }\n",
       "\n",
       "    .dataframe thead th {\n",
       "        text-align: right;\n",
       "    }\n",
       "</style>\n",
       "<table border=\"1\" class=\"dataframe\">\n",
       "  <thead>\n",
       "    <tr style=\"text-align: right;\">\n",
       "      <th></th>\n",
       "      <th>category</th>\n",
       "      <th>amt</th>\n",
       "      <th>gender</th>\n",
       "      <th>state</th>\n",
       "      <th>city_pop</th>\n",
       "      <th>is_fraud</th>\n",
       "      <th>cc_type</th>\n",
       "      <th>day</th>\n",
       "      <th>hour</th>\n",
       "    </tr>\n",
       "  </thead>\n",
       "  <tbody>\n",
       "    <tr>\n",
       "      <th>555714</th>\n",
       "      <td>health_fitness</td>\n",
       "      <td>43.77</td>\n",
       "      <td>1</td>\n",
       "      <td>MO</td>\n",
       "      <td>519</td>\n",
       "      <td>0</td>\n",
       "      <td>Diners Club - Carte Blanche</td>\n",
       "      <td>Tuesday</td>\n",
       "      <td>23</td>\n",
       "    </tr>\n",
       "    <tr>\n",
       "      <th>555715</th>\n",
       "      <td>kids_pets</td>\n",
       "      <td>111.84</td>\n",
       "      <td>1</td>\n",
       "      <td>TX</td>\n",
       "      <td>28739</td>\n",
       "      <td>0</td>\n",
       "      <td>JCB</td>\n",
       "      <td>Tuesday</td>\n",
       "      <td>23</td>\n",
       "    </tr>\n",
       "    <tr>\n",
       "      <th>555716</th>\n",
       "      <td>kids_pets</td>\n",
       "      <td>86.88</td>\n",
       "      <td>0</td>\n",
       "      <td>WA</td>\n",
       "      <td>3684</td>\n",
       "      <td>0</td>\n",
       "      <td>Discover</td>\n",
       "      <td>Tuesday</td>\n",
       "      <td>23</td>\n",
       "    </tr>\n",
       "    <tr>\n",
       "      <th>555717</th>\n",
       "      <td>travel</td>\n",
       "      <td>7.99</td>\n",
       "      <td>1</td>\n",
       "      <td>ID</td>\n",
       "      <td>129</td>\n",
       "      <td>0</td>\n",
       "      <td>Visa</td>\n",
       "      <td>Tuesday</td>\n",
       "      <td>23</td>\n",
       "    </tr>\n",
       "    <tr>\n",
       "      <th>555718</th>\n",
       "      <td>entertainment</td>\n",
       "      <td>38.13</td>\n",
       "      <td>1</td>\n",
       "      <td>OK</td>\n",
       "      <td>116001</td>\n",
       "      <td>0</td>\n",
       "      <td>Visa</td>\n",
       "      <td>Tuesday</td>\n",
       "      <td>23</td>\n",
       "    </tr>\n",
       "  </tbody>\n",
       "</table>\n",
       "</div>"
      ],
      "text/plain": [
       "              category     amt  gender state  city_pop  is_fraud  \\\n",
       "555714  health_fitness   43.77       1    MO       519         0   \n",
       "555715       kids_pets  111.84       1    TX     28739         0   \n",
       "555716       kids_pets   86.88       0    WA      3684         0   \n",
       "555717          travel    7.99       1    ID       129         0   \n",
       "555718   entertainment   38.13       1    OK    116001         0   \n",
       "\n",
       "                            cc_type      day  hour  \n",
       "555714  Diners Club - Carte Blanche  Tuesday    23  \n",
       "555715                          JCB  Tuesday    23  \n",
       "555716                     Discover  Tuesday    23  \n",
       "555717                         Visa  Tuesday    23  \n",
       "555718                         Visa  Tuesday    23  "
      ]
     },
     "execution_count": 23,
     "metadata": {},
     "output_type": "execute_result"
    }
   ],
   "source": [
    "# Convert Unix time to datetime format\n",
    "df4['datetime'] = pd.to_datetime(df4['unix_time'], unit='s')\n",
    "\n",
    "# Extract the day of the week from datetime and create a new column\n",
    "df4['day'] = df4['datetime'].apply(lambda x: x.strftime('%A'))\n",
    "\n",
    "# Extract the hour of the day\n",
    "df4['hour'] = df4['datetime'].dt.hour\n",
    "\n",
    "# Drop the old 'unix_time' and 'datetime' columns\n",
    "df4.drop(['unix_time', 'datetime'], axis=1, inplace=True)\n",
    "\n",
    "df4.tail()"
   ]
  },
  {
   "cell_type": "code",
   "execution_count": 24,
   "id": "a8d0fb9e",
   "metadata": {},
   "outputs": [
    {
     "data": {
      "text/plain": [
       "category       14\n",
       "amt         60616\n",
       "gender          2\n",
       "state          51\n",
       "city_pop      891\n",
       "is_fraud        2\n",
       "cc_type         7\n",
       "day             7\n",
       "hour           24\n",
       "dtype: int64"
      ]
     },
     "execution_count": 24,
     "metadata": {},
     "output_type": "execute_result"
    }
   ],
   "source": [
    "df4.nunique()"
   ]
  },
  {
   "cell_type": "code",
   "execution_count": 25,
   "id": "88b3f92c",
   "metadata": {},
   "outputs": [],
   "source": [
    "def get_time_period(hour):\n",
    "    if 6 <= hour < 12:\n",
    "        return \"morning\"\n",
    "    elif 12 <= hour < 13:\n",
    "        return \"noon\"\n",
    "    elif 13 <= hour < 18:\n",
    "        return \"afternoon\"\n",
    "    elif 18 <= hour < 21:\n",
    "        return \"evening\"\n",
    "    elif 21 <= hour < 24:\n",
    "        return \"night\"\n",
    "    else:\n",
    "        return \"dawn\""
   ]
  },
  {
   "cell_type": "code",
   "execution_count": 26,
   "id": "bf44736e",
   "metadata": {},
   "outputs": [
    {
     "data": {
      "text/plain": [
       "category          14\n",
       "amt            60616\n",
       "gender             2\n",
       "state             51\n",
       "city_pop         891\n",
       "is_fraud           2\n",
       "cc_type            7\n",
       "day                7\n",
       "time_period        6\n",
       "dtype: int64"
      ]
     },
     "execution_count": 26,
     "metadata": {},
     "output_type": "execute_result"
    }
   ],
   "source": [
    "df4['time_period'] = df4['hour'].apply(get_time_period)\n",
    "\n",
    "# Drop the old 'unix_time' and 'datetime' columns\n",
    "df4.drop(['hour'], axis=1, inplace=True)\n",
    "\n",
    "df4.nunique()"
   ]
  },
  {
   "cell_type": "markdown",
   "id": "03fe7a9c",
   "metadata": {},
   "source": [
    "### Removing outliers"
   ]
  },
  {
   "cell_type": "code",
   "execution_count": 27,
   "id": "caff1071",
   "metadata": {},
   "outputs": [
    {
     "data": {
      "text/plain": [
       "category\n",
       "gas_transport     188029\n",
       "grocery_pos       176191\n",
       "home              175460\n",
       "shopping_pos      166463\n",
       "kids_pets         161727\n",
       "shopping_net      139322\n",
       "entertainment     134118\n",
       "food_dining       130729\n",
       "personal_care     130085\n",
       "health_fitness    122553\n",
       "misc_pos          114229\n",
       "misc_net           90654\n",
       "grocery_net        64878\n",
       "travel             57956\n",
       "Name: category, dtype: int64"
      ]
     },
     "execution_count": 27,
     "metadata": {},
     "output_type": "execute_result"
    }
   ],
   "source": [
    "df5 = df4.copy()\n",
    "df5.category = df5.category.apply(lambda x:x.strip())\n",
    "\n",
    "category_stats = df5.groupby('category')['category'].agg('count').sort_values(ascending=False)\n",
    "category_stats"
   ]
  },
  {
   "cell_type": "code",
   "execution_count": 28,
   "id": "b28159ec",
   "metadata": {},
   "outputs": [
    {
     "name": "stdout",
     "output_type": "stream",
     "text": [
      "count    1.852394e+06\n",
      "mean     7.006357e+01\n",
      "std      1.592540e+02\n",
      "min      1.000000e+00\n",
      "25%      9.640000e+00\n",
      "50%      4.745000e+01\n",
      "75%      8.310000e+01\n",
      "max      2.894890e+04\n",
      "Name: amt, dtype: float64\n"
     ]
    }
   ],
   "source": [
    "print(df5['amt'].describe())"
   ]
  },
  {
   "cell_type": "code",
   "execution_count": 29,
   "id": "6572a42f",
   "metadata": {},
   "outputs": [
    {
     "data": {
      "text/plain": [
       "(1852394, 9)"
      ]
     },
     "execution_count": 29,
     "metadata": {},
     "output_type": "execute_result"
    }
   ],
   "source": [
    "df5.shape"
   ]
  },
  {
   "cell_type": "code",
   "execution_count": 30,
   "id": "784eb791",
   "metadata": {},
   "outputs": [],
   "source": [
    "def remove_amt_outliers(df5):\n",
    "    df5_out = pd.DataFrame()\n",
    "    for key, subdf in df5.groupby('is_fraud'):\n",
    "        m = np.mean(subdf.amt)\n",
    "        st = np.std(subdf.amt)\n",
    "        reduced_df5 = subdf[(subdf.amt>(m-st))& (subdf.amt<=(m+st))]\n",
    "        df5_out = pd.concat([df5_out,reduced_df5],ignore_index=True)\n",
    "    return df5_out"
   ]
  },
  {
   "cell_type": "code",
   "execution_count": 31,
   "id": "9536377a",
   "metadata": {},
   "outputs": [
    {
     "data": {
      "text/plain": [
       "(1787623, 9)"
      ]
     },
     "execution_count": 31,
     "metadata": {},
     "output_type": "execute_result"
    }
   ],
   "source": [
    "df6 = remove_amt_outliers(df5)\n",
    "df6.shape"
   ]
  },
  {
   "cell_type": "code",
   "execution_count": 32,
   "id": "fed1c7e4",
   "metadata": {},
   "outputs": [
    {
     "name": "stdout",
     "output_type": "stream",
     "text": [
      "count    1.787623e+06\n",
      "mean     5.432330e+01\n",
      "std      5.606883e+01\n",
      "min      1.000000e+00\n",
      "25%      9.320000e+00\n",
      "50%      4.519000e+01\n",
      "75%      7.855000e+01\n",
      "max      9.216200e+02\n",
      "Name: amt, dtype: float64\n"
     ]
    }
   ],
   "source": [
    "print(df6['amt'].describe())"
   ]
  },
  {
   "cell_type": "code",
   "execution_count": 33,
   "id": "79c6d028",
   "metadata": {},
   "outputs": [
    {
     "data": {
      "text/plain": [
       "0    1782450\n",
       "1       5173\n",
       "Name: is_fraud, dtype: int64"
      ]
     },
     "execution_count": 33,
     "metadata": {},
     "output_type": "execute_result"
    },
    {
     "data": {
      "image/png": "[encoded data removed]",
      "text/plain": [
       "<Figure size 640x480 with 1 Axes>"
      ]
     },
     "metadata": {},
     "output_type": "display_data"
    }
   ],
   "source": [
    "#checking distribution of legit transactions & fraudulent transactions\n",
    "sns.countplot(x=df6['is_fraud'])\n",
    "df6['is_fraud'].value_counts()"
   ]
  },
  {
   "cell_type": "markdown",
   "id": "6d64e5f6",
   "metadata": {},
   "source": [
    "### One-Hot encoding"
   ]
  },
  {
   "cell_type": "code",
   "execution_count": 34,
   "id": "e8b8d57b",
   "metadata": {},
   "outputs": [
    {
     "data": {
      "text/plain": [
       "category          14\n",
       "amt            26765\n",
       "gender             2\n",
       "state             51\n",
       "city_pop         891\n",
       "is_fraud           2\n",
       "cc_type            7\n",
       "day                7\n",
       "time_period        6\n",
       "dtype: int64"
      ]
     },
     "execution_count": 34,
     "metadata": {},
     "output_type": "execute_result"
    }
   ],
   "source": [
    "df7 = df6.copy()\n",
    "df7.nunique()"
   ]
  },
  {
   "cell_type": "code",
   "execution_count": 35,
   "id": "36bb5e54",
   "metadata": {},
   "outputs": [
    {
     "data": {
      "text/html": [
       "<div>\n",
       "<style scoped>\n",
       "    .dataframe tbody tr th:only-of-type {\n",
       "        vertical-align: middle;\n",
       "    }\n",
       "\n",
       "    .dataframe tbody tr th {\n",
       "        vertical-align: top;\n",
       "    }\n",
       "\n",
       "    .dataframe thead th {\n",
       "        text-align: right;\n",
       "    }\n",
       "</style>\n",
       "<table border=\"1\" class=\"dataframe\">\n",
       "  <thead>\n",
       "    <tr style=\"text-align: right;\">\n",
       "      <th></th>\n",
       "      <th>amt</th>\n",
       "      <th>gender</th>\n",
       "      <th>city_pop</th>\n",
       "      <th>is_fraud</th>\n",
       "      <th>category_entertainment</th>\n",
       "      <th>category_food_dining</th>\n",
       "      <th>category_gas_transport</th>\n",
       "      <th>category_grocery_net</th>\n",
       "      <th>category_grocery_pos</th>\n",
       "      <th>category_health_fitness</th>\n",
       "      <th>...</th>\n",
       "      <th>day_Sunday</th>\n",
       "      <th>day_Thursday</th>\n",
       "      <th>day_Tuesday</th>\n",
       "      <th>day_Wednesday</th>\n",
       "      <th>time_period_afternoon</th>\n",
       "      <th>time_period_dawn</th>\n",
       "      <th>time_period_evening</th>\n",
       "      <th>time_period_morning</th>\n",
       "      <th>time_period_night</th>\n",
       "      <th>time_period_noon</th>\n",
       "    </tr>\n",
       "  </thead>\n",
       "  <tbody>\n",
       "    <tr>\n",
       "      <th>0</th>\n",
       "      <td>4.97</td>\n",
       "      <td>0</td>\n",
       "      <td>3495</td>\n",
       "      <td>0</td>\n",
       "      <td>0</td>\n",
       "      <td>0</td>\n",
       "      <td>0</td>\n",
       "      <td>0</td>\n",
       "      <td>0</td>\n",
       "      <td>0</td>\n",
       "      <td>...</td>\n",
       "      <td>1</td>\n",
       "      <td>0</td>\n",
       "      <td>0</td>\n",
       "      <td>0</td>\n",
       "      <td>0</td>\n",
       "      <td>1</td>\n",
       "      <td>0</td>\n",
       "      <td>0</td>\n",
       "      <td>0</td>\n",
       "      <td>0</td>\n",
       "    </tr>\n",
       "    <tr>\n",
       "      <th>1</th>\n",
       "      <td>107.23</td>\n",
       "      <td>0</td>\n",
       "      <td>149</td>\n",
       "      <td>0</td>\n",
       "      <td>0</td>\n",
       "      <td>0</td>\n",
       "      <td>0</td>\n",
       "      <td>0</td>\n",
       "      <td>1</td>\n",
       "      <td>0</td>\n",
       "      <td>...</td>\n",
       "      <td>1</td>\n",
       "      <td>0</td>\n",
       "      <td>0</td>\n",
       "      <td>0</td>\n",
       "      <td>0</td>\n",
       "      <td>1</td>\n",
       "      <td>0</td>\n",
       "      <td>0</td>\n",
       "      <td>0</td>\n",
       "      <td>0</td>\n",
       "    </tr>\n",
       "    <tr>\n",
       "      <th>2</th>\n",
       "      <td>220.11</td>\n",
       "      <td>1</td>\n",
       "      <td>4154</td>\n",
       "      <td>0</td>\n",
       "      <td>1</td>\n",
       "      <td>0</td>\n",
       "      <td>0</td>\n",
       "      <td>0</td>\n",
       "      <td>0</td>\n",
       "      <td>0</td>\n",
       "      <td>...</td>\n",
       "      <td>1</td>\n",
       "      <td>0</td>\n",
       "      <td>0</td>\n",
       "      <td>0</td>\n",
       "      <td>0</td>\n",
       "      <td>1</td>\n",
       "      <td>0</td>\n",
       "      <td>0</td>\n",
       "      <td>0</td>\n",
       "      <td>0</td>\n",
       "    </tr>\n",
       "    <tr>\n",
       "      <th>3</th>\n",
       "      <td>45.00</td>\n",
       "      <td>1</td>\n",
       "      <td>1939</td>\n",
       "      <td>0</td>\n",
       "      <td>0</td>\n",
       "      <td>0</td>\n",
       "      <td>1</td>\n",
       "      <td>0</td>\n",
       "      <td>0</td>\n",
       "      <td>0</td>\n",
       "      <td>...</td>\n",
       "      <td>1</td>\n",
       "      <td>0</td>\n",
       "      <td>0</td>\n",
       "      <td>0</td>\n",
       "      <td>0</td>\n",
       "      <td>1</td>\n",
       "      <td>0</td>\n",
       "      <td>0</td>\n",
       "      <td>0</td>\n",
       "      <td>0</td>\n",
       "    </tr>\n",
       "    <tr>\n",
       "      <th>4</th>\n",
       "      <td>41.96</td>\n",
       "      <td>1</td>\n",
       "      <td>99</td>\n",
       "      <td>0</td>\n",
       "      <td>0</td>\n",
       "      <td>0</td>\n",
       "      <td>0</td>\n",
       "      <td>0</td>\n",
       "      <td>0</td>\n",
       "      <td>0</td>\n",
       "      <td>...</td>\n",
       "      <td>1</td>\n",
       "      <td>0</td>\n",
       "      <td>0</td>\n",
       "      <td>0</td>\n",
       "      <td>0</td>\n",
       "      <td>1</td>\n",
       "      <td>0</td>\n",
       "      <td>0</td>\n",
       "      <td>0</td>\n",
       "      <td>0</td>\n",
       "    </tr>\n",
       "    <tr>\n",
       "      <th>...</th>\n",
       "      <td>...</td>\n",
       "      <td>...</td>\n",
       "      <td>...</td>\n",
       "      <td>...</td>\n",
       "      <td>...</td>\n",
       "      <td>...</td>\n",
       "      <td>...</td>\n",
       "      <td>...</td>\n",
       "      <td>...</td>\n",
       "      <td>...</td>\n",
       "      <td>...</td>\n",
       "      <td>...</td>\n",
       "      <td>...</td>\n",
       "      <td>...</td>\n",
       "      <td>...</td>\n",
       "      <td>...</td>\n",
       "      <td>...</td>\n",
       "      <td>...</td>\n",
       "      <td>...</td>\n",
       "      <td>...</td>\n",
       "      <td>...</td>\n",
       "    </tr>\n",
       "    <tr>\n",
       "      <th>1787618</th>\n",
       "      <td>209.84</td>\n",
       "      <td>0</td>\n",
       "      <td>743</td>\n",
       "      <td>1</td>\n",
       "      <td>0</td>\n",
       "      <td>0</td>\n",
       "      <td>0</td>\n",
       "      <td>0</td>\n",
       "      <td>0</td>\n",
       "      <td>0</td>\n",
       "      <td>...</td>\n",
       "      <td>0</td>\n",
       "      <td>0</td>\n",
       "      <td>0</td>\n",
       "      <td>0</td>\n",
       "      <td>0</td>\n",
       "      <td>0</td>\n",
       "      <td>0</td>\n",
       "      <td>0</td>\n",
       "      <td>1</td>\n",
       "      <td>0</td>\n",
       "    </tr>\n",
       "    <tr>\n",
       "      <th>1787619</th>\n",
       "      <td>219.11</td>\n",
       "      <td>0</td>\n",
       "      <td>743</td>\n",
       "      <td>1</td>\n",
       "      <td>0</td>\n",
       "      <td>0</td>\n",
       "      <td>0</td>\n",
       "      <td>0</td>\n",
       "      <td>0</td>\n",
       "      <td>0</td>\n",
       "      <td>...</td>\n",
       "      <td>0</td>\n",
       "      <td>0</td>\n",
       "      <td>0</td>\n",
       "      <td>0</td>\n",
       "      <td>0</td>\n",
       "      <td>0</td>\n",
       "      <td>0</td>\n",
       "      <td>0</td>\n",
       "      <td>1</td>\n",
       "      <td>0</td>\n",
       "    </tr>\n",
       "    <tr>\n",
       "      <th>1787620</th>\n",
       "      <td>868.09</td>\n",
       "      <td>1</td>\n",
       "      <td>14462</td>\n",
       "      <td>1</td>\n",
       "      <td>0</td>\n",
       "      <td>0</td>\n",
       "      <td>0</td>\n",
       "      <td>0</td>\n",
       "      <td>0</td>\n",
       "      <td>0</td>\n",
       "      <td>...</td>\n",
       "      <td>1</td>\n",
       "      <td>0</td>\n",
       "      <td>0</td>\n",
       "      <td>0</td>\n",
       "      <td>0</td>\n",
       "      <td>0</td>\n",
       "      <td>0</td>\n",
       "      <td>0</td>\n",
       "      <td>1</td>\n",
       "      <td>0</td>\n",
       "    </tr>\n",
       "    <tr>\n",
       "      <th>1787621</th>\n",
       "      <td>289.27</td>\n",
       "      <td>1</td>\n",
       "      <td>14462</td>\n",
       "      <td>1</td>\n",
       "      <td>0</td>\n",
       "      <td>0</td>\n",
       "      <td>0</td>\n",
       "      <td>0</td>\n",
       "      <td>1</td>\n",
       "      <td>0</td>\n",
       "      <td>...</td>\n",
       "      <td>1</td>\n",
       "      <td>0</td>\n",
       "      <td>0</td>\n",
       "      <td>0</td>\n",
       "      <td>0</td>\n",
       "      <td>0</td>\n",
       "      <td>0</td>\n",
       "      <td>0</td>\n",
       "      <td>1</td>\n",
       "      <td>0</td>\n",
       "    </tr>\n",
       "    <tr>\n",
       "      <th>1787622</th>\n",
       "      <td>766.38</td>\n",
       "      <td>1</td>\n",
       "      <td>14462</td>\n",
       "      <td>1</td>\n",
       "      <td>0</td>\n",
       "      <td>0</td>\n",
       "      <td>0</td>\n",
       "      <td>0</td>\n",
       "      <td>0</td>\n",
       "      <td>0</td>\n",
       "      <td>...</td>\n",
       "      <td>1</td>\n",
       "      <td>0</td>\n",
       "      <td>0</td>\n",
       "      <td>0</td>\n",
       "      <td>0</td>\n",
       "      <td>0</td>\n",
       "      <td>0</td>\n",
       "      <td>0</td>\n",
       "      <td>1</td>\n",
       "      <td>0</td>\n",
       "    </tr>\n",
       "  </tbody>\n",
       "</table>\n",
       "<p>1787623 rows × 89 columns</p>\n",
       "</div>"
      ],
      "text/plain": [
       "            amt  gender  city_pop  is_fraud  category_entertainment  \\\n",
       "0          4.97       0      3495         0                       0   \n",
       "1        107.23       0       149         0                       0   \n",
       "2        220.11       1      4154         0                       1   \n",
       "3         45.00       1      1939         0                       0   \n",
       "4         41.96       1        99         0                       0   \n",
       "...         ...     ...       ...       ...                     ...   \n",
       "1787618  209.84       0       743         1                       0   \n",
       "1787619  219.11       0       743         1                       0   \n",
       "1787620  868.09       1     14462         1                       0   \n",
       "1787621  289.27       1     14462         1                       0   \n",
       "1787622  766.38       1     14462         1                       0   \n",
       "\n",
       "         category_food_dining  category_gas_transport  category_grocery_net  \\\n",
       "0                           0                       0                     0   \n",
       "1                           0                       0                     0   \n",
       "2                           0                       0                     0   \n",
       "3                           0                       1                     0   \n",
       "4                           0                       0                     0   \n",
       "...                       ...                     ...                   ...   \n",
       "1787618                     0                       0                     0   \n",
       "1787619                     0                       0                     0   \n",
       "1787620                     0                       0                     0   \n",
       "1787621                     0                       0                     0   \n",
       "1787622                     0                       0                     0   \n",
       "\n",
       "         category_grocery_pos  category_health_fitness  ...  day_Sunday  \\\n",
       "0                           0                        0  ...           1   \n",
       "1                           1                        0  ...           1   \n",
       "2                           0                        0  ...           1   \n",
       "3                           0                        0  ...           1   \n",
       "4                           0                        0  ...           1   \n",
       "...                       ...                      ...  ...         ...   \n",
       "1787618                     0                        0  ...           0   \n",
       "1787619                     0                        0  ...           0   \n",
       "1787620                     0                        0  ...           1   \n",
       "1787621                     1                        0  ...           1   \n",
       "1787622                     0                        0  ...           1   \n",
       "\n",
       "         day_Thursday  day_Tuesday  day_Wednesday  time_period_afternoon  \\\n",
       "0                   0            0              0                      0   \n",
       "1                   0            0              0                      0   \n",
       "2                   0            0              0                      0   \n",
       "3                   0            0              0                      0   \n",
       "4                   0            0              0                      0   \n",
       "...               ...          ...            ...                    ...   \n",
       "1787618             0            0              0                      0   \n",
       "1787619             0            0              0                      0   \n",
       "1787620             0            0              0                      0   \n",
       "1787621             0            0              0                      0   \n",
       "1787622             0            0              0                      0   \n",
       "\n",
       "         time_period_dawn  time_period_evening  time_period_morning  \\\n",
       "0                       1                    0                    0   \n",
       "1                       1                    0                    0   \n",
       "2                       1                    0                    0   \n",
       "3                       1                    0                    0   \n",
       "4                       1                    0                    0   \n",
       "...                   ...                  ...                  ...   \n",
       "1787618                 0                    0                    0   \n",
       "1787619                 0                    0                    0   \n",
       "1787620                 0                    0                    0   \n",
       "1787621                 0                    0                    0   \n",
       "1787622                 0                    0                    0   \n",
       "\n",
       "         time_period_night  time_period_noon  \n",
       "0                        0                 0  \n",
       "1                        0                 0  \n",
       "2                        0                 0  \n",
       "3                        0                 0  \n",
       "4                        0                 0  \n",
       "...                    ...               ...  \n",
       "1787618                  1                 0  \n",
       "1787619                  1                 0  \n",
       "1787620                  1                 0  \n",
       "1787621                  1                 0  \n",
       "1787622                  1                 0  \n",
       "\n",
       "[1787623 rows x 89 columns]"
      ]
     },
     "execution_count": 35,
     "metadata": {},
     "output_type": "execute_result"
    }
   ],
   "source": [
    "# One-hot encode the categorical columns\n",
    "cat_cols = ['category', 'state', 'cc_type', 'day','time_period']\n",
    "df7 = pd.get_dummies(df7, columns=cat_cols)\n",
    "pd.get_dummies(df7)"
   ]
  },
  {
   "cell_type": "code",
   "execution_count": 36,
   "id": "014bbba7",
   "metadata": {},
   "outputs": [
    {
     "data": {
      "text/plain": [
       "amt                       26765\n",
       "gender                        2\n",
       "city_pop                    891\n",
       "is_fraud                      2\n",
       "category_entertainment        2\n",
       "                          ...  \n",
       "time_period_dawn              2\n",
       "time_period_evening           2\n",
       "time_period_morning           2\n",
       "time_period_night             2\n",
       "time_period_noon              2\n",
       "Length: 89, dtype: int64"
      ]
     },
     "execution_count": 36,
     "metadata": {},
     "output_type": "execute_result"
    }
   ],
   "source": [
    "df7.nunique()"
   ]
  },
  {
   "cell_type": "code",
   "execution_count": 37,
   "id": "e14eac10",
   "metadata": {},
   "outputs": [
    {
     "name": "stdout",
     "output_type": "stream",
     "text": [
      "Index(['amt', 'gender', 'city_pop', 'is_fraud', 'category_entertainment',\n",
      "       'category_food_dining', 'category_gas_transport',\n",
      "       'category_grocery_net', 'category_grocery_pos',\n",
      "       'category_health_fitness', 'category_home', 'category_kids_pets',\n",
      "       'category_misc_net', 'category_misc_pos', 'category_personal_care',\n",
      "       'category_shopping_net', 'category_shopping_pos', 'category_travel',\n",
      "       'state_AK', 'state_AL', 'state_AR', 'state_AZ', 'state_CA', 'state_CO',\n",
      "       'state_CT', 'state_DC', 'state_DE', 'state_FL', 'state_GA', 'state_HI',\n",
      "       'state_IA', 'state_ID', 'state_IL', 'state_IN', 'state_KS', 'state_KY',\n",
      "       'state_LA', 'state_MA', 'state_MD', 'state_ME', 'state_MI', 'state_MN',\n",
      "       'state_MO', 'state_MS', 'state_MT', 'state_NC', 'state_ND', 'state_NE',\n",
      "       'state_NH', 'state_NJ', 'state_NM', 'state_NV', 'state_NY', 'state_OH',\n",
      "       'state_OK', 'state_OR', 'state_PA', 'state_RI', 'state_SC', 'state_SD',\n",
      "       'state_TN', 'state_TX', 'state_UT', 'state_VA', 'state_VT', 'state_WA',\n",
      "       'state_WI', 'state_WV', 'state_WY', 'cc_type_American Express',\n",
      "       'cc_type_Diners Club - Carte Blanche', 'cc_type_Discover',\n",
      "       'cc_type_JCB', 'cc_type_MasterCard', 'cc_type_Other', 'cc_type_Visa',\n",
      "       'day_Friday', 'day_Monday', 'day_Saturday', 'day_Sunday',\n",
      "       'day_Thursday', 'day_Tuesday', 'day_Wednesday', 'time_period_afternoon',\n",
      "       'time_period_dawn', 'time_period_evening', 'time_period_morning',\n",
      "       'time_period_night', 'time_period_noon'],\n",
      "      dtype='object')\n"
     ]
    }
   ],
   "source": [
    "print(df7.columns)"
   ]
  },
  {
   "cell_type": "markdown",
   "id": "b3f212b2",
   "metadata": {},
   "source": [
    "### Splitting the data into features and target"
   ]
  },
  {
   "cell_type": "code",
   "execution_count": 109,
   "id": "0866ce07",
   "metadata": {},
   "outputs": [
    {
     "data": {
      "text/html": [
       "<div>\n",
       "<style scoped>\n",
       "    .dataframe tbody tr th:only-of-type {\n",
       "        vertical-align: middle;\n",
       "    }\n",
       "\n",
       "    .dataframe tbody tr th {\n",
       "        vertical-align: top;\n",
       "    }\n",
       "\n",
       "    .dataframe thead th {\n",
       "        text-align: right;\n",
       "    }\n",
       "</style>\n",
       "<table border=\"1\" class=\"dataframe\">\n",
       "  <thead>\n",
       "    <tr style=\"text-align: right;\">\n",
       "      <th></th>\n",
       "      <th>amt</th>\n",
       "      <th>gender</th>\n",
       "      <th>city_pop</th>\n",
       "      <th>category_entertainment</th>\n",
       "      <th>category_food_dining</th>\n",
       "      <th>category_gas_transport</th>\n",
       "      <th>category_grocery_net</th>\n",
       "      <th>category_grocery_pos</th>\n",
       "      <th>category_health_fitness</th>\n",
       "      <th>category_home</th>\n",
       "      <th>...</th>\n",
       "      <th>day_Sunday</th>\n",
       "      <th>day_Thursday</th>\n",
       "      <th>day_Tuesday</th>\n",
       "      <th>day_Wednesday</th>\n",
       "      <th>time_period_afternoon</th>\n",
       "      <th>time_period_dawn</th>\n",
       "      <th>time_period_evening</th>\n",
       "      <th>time_period_morning</th>\n",
       "      <th>time_period_night</th>\n",
       "      <th>time_period_noon</th>\n",
       "    </tr>\n",
       "  </thead>\n",
       "  <tbody>\n",
       "    <tr>\n",
       "      <th>0</th>\n",
       "      <td>4.97</td>\n",
       "      <td>0</td>\n",
       "      <td>3495</td>\n",
       "      <td>0</td>\n",
       "      <td>0</td>\n",
       "      <td>0</td>\n",
       "      <td>0</td>\n",
       "      <td>0</td>\n",
       "      <td>0</td>\n",
       "      <td>0</td>\n",
       "      <td>...</td>\n",
       "      <td>1</td>\n",
       "      <td>0</td>\n",
       "      <td>0</td>\n",
       "      <td>0</td>\n",
       "      <td>0</td>\n",
       "      <td>1</td>\n",
       "      <td>0</td>\n",
       "      <td>0</td>\n",
       "      <td>0</td>\n",
       "      <td>0</td>\n",
       "    </tr>\n",
       "    <tr>\n",
       "      <th>1</th>\n",
       "      <td>107.23</td>\n",
       "      <td>0</td>\n",
       "      <td>149</td>\n",
       "      <td>0</td>\n",
       "      <td>0</td>\n",
       "      <td>0</td>\n",
       "      <td>0</td>\n",
       "      <td>1</td>\n",
       "      <td>0</td>\n",
       "      <td>0</td>\n",
       "      <td>...</td>\n",
       "      <td>1</td>\n",
       "      <td>0</td>\n",
       "      <td>0</td>\n",
       "      <td>0</td>\n",
       "      <td>0</td>\n",
       "      <td>1</td>\n",
       "      <td>0</td>\n",
       "      <td>0</td>\n",
       "      <td>0</td>\n",
       "      <td>0</td>\n",
       "    </tr>\n",
       "    <tr>\n",
       "      <th>2</th>\n",
       "      <td>220.11</td>\n",
       "      <td>1</td>\n",
       "      <td>4154</td>\n",
       "      <td>1</td>\n",
       "      <td>0</td>\n",
       "      <td>0</td>\n",
       "      <td>0</td>\n",
       "      <td>0</td>\n",
       "      <td>0</td>\n",
       "      <td>0</td>\n",
       "      <td>...</td>\n",
       "      <td>1</td>\n",
       "      <td>0</td>\n",
       "      <td>0</td>\n",
       "      <td>0</td>\n",
       "      <td>0</td>\n",
       "      <td>1</td>\n",
       "      <td>0</td>\n",
       "      <td>0</td>\n",
       "      <td>0</td>\n",
       "      <td>0</td>\n",
       "    </tr>\n",
       "    <tr>\n",
       "      <th>3</th>\n",
       "      <td>45.00</td>\n",
       "      <td>1</td>\n",
       "      <td>1939</td>\n",
       "      <td>0</td>\n",
       "      <td>0</td>\n",
       "      <td>1</td>\n",
       "      <td>0</td>\n",
       "      <td>0</td>\n",
       "      <td>0</td>\n",
       "      <td>0</td>\n",
       "      <td>...</td>\n",
       "      <td>1</td>\n",
       "      <td>0</td>\n",
       "      <td>0</td>\n",
       "      <td>0</td>\n",
       "      <td>0</td>\n",
       "      <td>1</td>\n",
       "      <td>0</td>\n",
       "      <td>0</td>\n",
       "      <td>0</td>\n",
       "      <td>0</td>\n",
       "    </tr>\n",
       "    <tr>\n",
       "      <th>4</th>\n",
       "      <td>41.96</td>\n",
       "      <td>1</td>\n",
       "      <td>99</td>\n",
       "      <td>0</td>\n",
       "      <td>0</td>\n",
       "      <td>0</td>\n",
       "      <td>0</td>\n",
       "      <td>0</td>\n",
       "      <td>0</td>\n",
       "      <td>0</td>\n",
       "      <td>...</td>\n",
       "      <td>1</td>\n",
       "      <td>0</td>\n",
       "      <td>0</td>\n",
       "      <td>0</td>\n",
       "      <td>0</td>\n",
       "      <td>1</td>\n",
       "      <td>0</td>\n",
       "      <td>0</td>\n",
       "      <td>0</td>\n",
       "      <td>0</td>\n",
       "    </tr>\n",
       "  </tbody>\n",
       "</table>\n",
       "<p>5 rows × 88 columns</p>\n",
       "</div>"
      ],
      "text/plain": [
       "      amt  gender  city_pop  category_entertainment  category_food_dining  \\\n",
       "0    4.97       0      3495                       0                     0   \n",
       "1  107.23       0       149                       0                     0   \n",
       "2  220.11       1      4154                       1                     0   \n",
       "3   45.00       1      1939                       0                     0   \n",
       "4   41.96       1        99                       0                     0   \n",
       "\n",
       "   category_gas_transport  category_grocery_net  category_grocery_pos  \\\n",
       "0                       0                     0                     0   \n",
       "1                       0                     0                     1   \n",
       "2                       0                     0                     0   \n",
       "3                       1                     0                     0   \n",
       "4                       0                     0                     0   \n",
       "\n",
       "   category_health_fitness  category_home  ...  day_Sunday  day_Thursday  \\\n",
       "0                        0              0  ...           1             0   \n",
       "1                        0              0  ...           1             0   \n",
       "2                        0              0  ...           1             0   \n",
       "3                        0              0  ...           1             0   \n",
       "4                        0              0  ...           1             0   \n",
       "\n",
       "   day_Tuesday  day_Wednesday  time_period_afternoon  time_period_dawn  \\\n",
       "0            0              0                      0                 1   \n",
       "1            0              0                      0                 1   \n",
       "2            0              0                      0                 1   \n",
       "3            0              0                      0                 1   \n",
       "4            0              0                      0                 1   \n",
       "\n",
       "   time_period_evening  time_period_morning  time_period_night  \\\n",
       "0                    0                    0                  0   \n",
       "1                    0                    0                  0   \n",
       "2                    0                    0                  0   \n",
       "3                    0                    0                  0   \n",
       "4                    0                    0                  0   \n",
       "\n",
       "   time_period_noon  \n",
       "0                 0  \n",
       "1                 0  \n",
       "2                 0  \n",
       "3                 0  \n",
       "4                 0  \n",
       "\n",
       "[5 rows x 88 columns]"
      ]
     },
     "execution_count": 109,
     "metadata": {},
     "output_type": "execute_result"
    }
   ],
   "source": [
    "X = df7.drop('is_fraud',axis='columns')\n",
    "X.head()"
   ]
  },
  {
   "cell_type": "code",
   "execution_count": 110,
   "id": "8244b2b0",
   "metadata": {},
   "outputs": [
    {
     "data": {
      "text/plain": [
       "0    0\n",
       "1    0\n",
       "2    0\n",
       "3    0\n",
       "4    0\n",
       "Name: is_fraud, dtype: int64"
      ]
     },
     "execution_count": 110,
     "metadata": {},
     "output_type": "execute_result"
    }
   ],
   "source": [
    "Y = df7.is_fraud\n",
    "Y.head()"
   ]
  },
  {
   "cell_type": "code",
   "execution_count": 111,
   "id": "683183da",
   "metadata": {},
   "outputs": [
    {
     "data": {
      "text/plain": [
       "0    1782450\n",
       "1       5173\n",
       "Name: is_fraud, dtype: int64"
      ]
     },
     "execution_count": 111,
     "metadata": {},
     "output_type": "execute_result"
    }
   ],
   "source": [
    "Y.value_counts()"
   ]
  },
  {
   "cell_type": "markdown",
   "id": "236aa92b",
   "metadata": {},
   "source": [
    " ### Splitting the train and test datasets"
   ]
  },
  {
   "cell_type": "code",
   "execution_count": 112,
   "id": "5068ea04",
   "metadata": {},
   "outputs": [
    {
     "name": "stdout",
     "output_type": "stream",
     "text": [
      "(1787623, 88) (1430098, 88) (357525, 88)\n"
     ]
    }
   ],
   "source": [
    "# stratify=Y -> equally distribute y values in testing and training datasets\n",
    "X_train, X_test, Y_train, Y_test = train_test_split(X,Y,test_size=0.2, stratify=Y, random_state=2)\n",
    "print(X.shape, X_train.shape, X_test.shape)"
   ]
  },
  {
   "cell_type": "code",
   "execution_count": 113,
   "id": "5de3f15b",
   "metadata": {},
   "outputs": [
    {
     "data": {
      "text/plain": [
       "0    1425960\n",
       "1       4138\n",
       "Name: is_fraud, dtype: int64"
      ]
     },
     "execution_count": 113,
     "metadata": {},
     "output_type": "execute_result"
    }
   ],
   "source": [
    "Y_train.value_counts()"
   ]
  },
  {
   "cell_type": "code",
   "execution_count": 114,
   "id": "2a5c0a5d",
   "metadata": {},
   "outputs": [
    {
     "data": {
      "text/plain": [
       "0    356490\n",
       "1      1035\n",
       "Name: is_fraud, dtype: int64"
      ]
     },
     "execution_count": 114,
     "metadata": {},
     "output_type": "execute_result"
    }
   ],
   "source": [
    "Y_test.value_counts()"
   ]
  },
  {
   "cell_type": "markdown",
   "id": "09f10dbc",
   "metadata": {},
   "source": [
    "### Dealing with imbalanced data"
   ]
  },
  {
   "cell_type": "code",
   "execution_count": 122,
   "id": "e609b8c8",
   "metadata": {},
   "outputs": [],
   "source": [
    "train_df = pd.concat([X_train, Y_train], axis=1)"
   ]
  },
  {
   "cell_type": "markdown",
   "id": "6b9d0481",
   "metadata": {},
   "source": [
    "#### Using Random undersampling"
   ]
  },
  {
   "cell_type": "code",
   "execution_count": 123,
   "id": "e88e3439",
   "metadata": {},
   "outputs": [],
   "source": [
    "from sklearn.utils import resample\n",
    "\n",
    "# Separate majority and minority classes\n",
    "majority_class = train_df[train_df['is_fraud']==0]\n",
    "minority_class = train_df[train_df['is_fraud']==1]\n",
    "\n",
    "# Downsample majority class\n",
    "downsampled_majority = resample(majority_class, \n",
    "                                 replace=False,    # sample without replacement\n",
    "                                 n_samples=8276, # to match minority class\n",
    "                                 random_state=42) # reproducible results\n",
    "\n",
    "# Combine minority class with downsampled majority class\n",
    "undersampled_df = pd.concat([downsampled_majority, minority_class])\n",
    "\n",
    "# Shuffle the data\n",
    "undersampled_df = undersampled_df.sample(frac=1, random_state=42)"
   ]
  },
  {
   "cell_type": "code",
   "execution_count": 124,
   "id": "eb2bb23d",
   "metadata": {},
   "outputs": [
    {
     "data": {
      "text/plain": [
       "0    8276\n",
       "1    4138\n",
       "Name: is_fraud, dtype: int64"
      ]
     },
     "execution_count": 124,
     "metadata": {},
     "output_type": "execute_result"
    }
   ],
   "source": [
    "undersampled_df['is_fraud'].value_counts()"
   ]
  },
  {
   "cell_type": "code",
   "execution_count": 125,
   "id": "3925afbe",
   "metadata": {},
   "outputs": [
    {
     "data": {
      "text/plain": [
       "(12414, 89)"
      ]
     },
     "execution_count": 125,
     "metadata": {},
     "output_type": "execute_result"
    }
   ],
   "source": [
    "undersampled_df.shape"
   ]
  },
  {
   "cell_type": "markdown",
   "id": "7646e4b3",
   "metadata": {},
   "source": [
    "#### Splitting the data into features and target"
   ]
  },
  {
   "cell_type": "code",
   "execution_count": 126,
   "id": "bbe3f5ac",
   "metadata": {},
   "outputs": [
    {
     "data": {
      "text/plain": [
       "0    8276\n",
       "1    4138\n",
       "Name: is_fraud, dtype: int64"
      ]
     },
     "execution_count": 126,
     "metadata": {},
     "output_type": "execute_result"
    }
   ],
   "source": [
    "X = undersampled_df.drop('is_fraud',axis='columns')\n",
    "Y = undersampled_df.is_fraud\n",
    "Y.value_counts()"
   ]
  },
  {
   "cell_type": "markdown",
   "id": "2d9551a6",
   "metadata": {},
   "source": [
    "#### Using ADASYN (Adaptive Synthetic Sampling)"
   ]
  },
  {
   "cell_type": "code",
   "execution_count": 127,
   "id": "4a274597",
   "metadata": {},
   "outputs": [],
   "source": [
    "X_resampled = X.copy()\n",
    "Y_resampled = Y.copy()"
   ]
  },
  {
   "cell_type": "code",
   "execution_count": 128,
   "id": "0a422ec1",
   "metadata": {},
   "outputs": [],
   "source": [
    "from imblearn.over_sampling import ADASYN\n",
    "\n",
    "# 1:1 ratio\n",
    "ada = ADASYN(sampling_strategy=1)\n",
    "X_ADASYN, Y_ADASYN = ada.fit_resample(X_resampled, Y_resampled)\n"
   ]
  },
  {
   "cell_type": "code",
   "execution_count": 129,
   "id": "5f418e53",
   "metadata": {},
   "outputs": [
    {
     "data": {
      "text/plain": [
       "0    8276\n",
       "1    8251\n",
       "Name: is_fraud, dtype: int64"
      ]
     },
     "execution_count": 129,
     "metadata": {},
     "output_type": "execute_result"
    }
   ],
   "source": [
    "Y_ADASYN.value_counts()"
   ]
  },
  {
   "cell_type": "markdown",
   "id": "0520dc8a",
   "metadata": {},
   "source": [
    "#### Using SMOTE (Synthetic Minority Over-sampling Technique)"
   ]
  },
  {
   "cell_type": "code",
   "execution_count": 130,
   "id": "fdc025d6",
   "metadata": {},
   "outputs": [],
   "source": [
    "X_resampled = X.copy()\n",
    "Y_resampled = Y.copy()"
   ]
  },
  {
   "cell_type": "code",
   "execution_count": 131,
   "id": "e96bd17f",
   "metadata": {},
   "outputs": [],
   "source": [
    "from imblearn.over_sampling import SMOTE\n",
    "\n",
    "smote = SMOTE()\n",
    "X_SMOTE, Y_SMOTE = smote.fit_resample(X_resampled, Y_resampled)"
   ]
  },
  {
   "cell_type": "code",
   "execution_count": 132,
   "id": "94a81d65",
   "metadata": {},
   "outputs": [
    {
     "data": {
      "text/plain": [
       "0    8276\n",
       "1    8276\n",
       "Name: is_fraud, dtype: int64"
      ]
     },
     "execution_count": 132,
     "metadata": {},
     "output_type": "execute_result"
    }
   ],
   "source": [
    "Y_SMOTE.value_counts()"
   ]
  },
  {
   "cell_type": "markdown",
   "id": "e6b8ef90",
   "metadata": {},
   "source": [
    "#### Using Cluster Centroids"
   ]
  },
  {
   "cell_type": "code",
   "execution_count": 133,
   "id": "020e39ca",
   "metadata": {},
   "outputs": [],
   "source": [
    "X_resampled = X.copy()\n",
    "Y_resampled = Y.copy()"
   ]
  },
  {
   "cell_type": "code",
   "execution_count": 134,
   "id": "3572e275",
   "metadata": {},
   "outputs": [],
   "source": [
    "from imblearn.under_sampling import ClusterCentroids\n",
    "\n",
    "# define the ClusterCentroids undersampling object\n",
    "cc = ClusterCentroids(sampling_strategy='auto', random_state=42)\n",
    "\n",
    "# fit and apply the undersampling to the data\n",
    "X_cc, Y_cc = cc.fit_resample(X_resampled, Y_resampled)"
   ]
  },
  {
   "cell_type": "code",
   "execution_count": 135,
   "id": "a9404dc4",
   "metadata": {},
   "outputs": [
    {
     "data": {
      "text/plain": [
       "0    4138\n",
       "1    4138\n",
       "Name: is_fraud, dtype: int64"
      ]
     },
     "execution_count": 135,
     "metadata": {},
     "output_type": "execute_result"
    }
   ],
   "source": [
    "Y_cc.value_counts()"
   ]
  },
  {
   "cell_type": "markdown",
   "id": "0be92561",
   "metadata": {},
   "source": [
    "#### Saving resampled data"
   ]
  },
  {
   "cell_type": "code",
   "execution_count": 136,
   "id": "bd2e4bef",
   "metadata": {},
   "outputs": [],
   "source": [
    "np.save('X_ADASYN.npy', X_ADASYN)\n",
    "np.save('Y_ADASYN.npy', Y_ADASYN)\n",
    "\n",
    "np.save('X_SMOTE.npy', X_SMOTE)\n",
    "np.save('Y_SMOTE.npy', Y_SMOTE)\n",
    "\n",
    "np.save('X_cc.npy', X_cc)\n",
    "np.save('Y_cc.npy', Y_cc)\n",
    "\n",
    "np.save('X_test.npy', X_test)\n",
    "np.save('Y_test.npy', Y_test)"
   ]
  },
  {
   "cell_type": "markdown",
   "id": "e8b17bce",
   "metadata": {},
   "source": [
    "#### Loading data"
   ]
  },
  {
   "cell_type": "code",
   "execution_count": 137,
   "id": "44b27a07",
   "metadata": {},
   "outputs": [],
   "source": [
    "X_ADASYN = np.load('X_ADASYN.npy')\n",
    "Y_ADASYN = np.load('Y_ADASYN.npy')\n",
    "\n",
    "X_SMOTE = np.load('X_SMOTE.npy')\n",
    "Y_SMOTE = np.load('Y_SMOTE.npy')\n",
    "\n",
    "X_cc = np.load('X_cc.npy')\n",
    "Y_cc = np.load('Y_cc.npy')\n",
    "\n",
    "X_test = np.load('X_test.npy')\n",
    "Y_test = np.load('Y_test.npy')"
   ]
  },
  {
   "cell_type": "markdown",
   "id": "83e05b54",
   "metadata": {},
   "source": [
    "### Building the Binary Classification model"
   ]
  },
  {
   "cell_type": "code",
   "execution_count": 138,
   "id": "5430bb04",
   "metadata": {},
   "outputs": [],
   "source": [
    "from sklearn.model_selection import GridSearchCV\n",
    "from sklearn.neighbors import KNeighborsClassifier\n",
    "from sklearn.svm import SVC\n",
    "from sklearn.tree import DecisionTreeClassifier\n",
    "from sklearn.ensemble import BaggingClassifier, AdaBoostClassifier, RandomForestClassifier\n",
    "from sklearn.metrics import f1_score, confusion_matrix, PrecisionRecallDisplay\n",
    "from sklearn import metrics"
   ]
  },
  {
   "cell_type": "code",
   "execution_count": 139,
   "id": "f5c02833",
   "metadata": {},
   "outputs": [],
   "source": [
    "# Define the models to evaluate\n",
    "models = {\n",
    "    'KNN': KNeighborsClassifier(),\n",
    "    'Bagging+DT': BaggingClassifier(base_estimator=DecisionTreeClassifier()),\n",
    "    'Boosting+DT': AdaBoostClassifier(base_estimator=DecisionTreeClassifier()),\n",
    "    'Random Forest': RandomForestClassifier()\n",
    "}"
   ]
  },
  {
   "cell_type": "code",
   "execution_count": 191,
   "id": "7c3388b4",
   "metadata": {},
   "outputs": [],
   "source": [
    "# Define the hyperparameters to search over\n",
    "params = {\n",
    "    'KNN': {'n_neighbors': [2, 5, 10]},\n",
    "    'Bagging+DT': {'n_estimators': [100, 120, 150], 'max_samples': [0.5, 0.8]},\n",
    "    'Boosting+DT': {'n_estimators': [150, 200, 250], 'learning_rate': [0.8, 1]},\n",
    "    'Random Forest': {'n_estimators': [50, 100, 150], 'max_depth': [15, 20]}\n",
    "}"
   ]
  },
  {
   "cell_type": "code",
   "execution_count": 187,
   "id": "15b34143",
   "metadata": {},
   "outputs": [],
   "source": [
    "def get_f1score(Y_true, X_prediction):\n",
    "    return f1_score(Y_true, X_prediction,average='binary', zero_division='warn')\n",
    "\n",
    "def get_CM(Y_true,X_prediction):\n",
    "    confusion_matrix = metrics.confusion_matrix(Y_true, X_prediction)\n",
    "    cm_display = metrics.ConfusionMatrixDisplay(confusion_matrix = confusion_matrix, display_labels = [False, True])\n",
    "    cm_display.plot()\n",
    "    plt.show()\n",
    "    \n",
    "def get_AUPRC(clssifier, name, X, Y):\n",
    "    display = PrecisionRecallDisplay.from_estimator(clssifier, X, Y,name=name)\n",
    "    return display\n",
    "\n",
    "def get_precision(y_true, y_pred):\n",
    "    y_true = np.array(y_true)\n",
    "    y_pred = np.array(y_pred)\n",
    "    tp = 0\n",
    "    fp = 0\n",
    "    for i in range(len(y_true)):\n",
    "        if y_pred[i] == 1 and y_true[i] == 1:\n",
    "            tp += 1\n",
    "        elif y_pred[i] == 1 and y_true[i] == 0:\n",
    "            fp += 1\n",
    "    if tp + fp == 0:\n",
    "        return 0\n",
    "    return tp / (tp + fp)\n",
    "\n",
    "def get_recall(y_true, y_pred):\n",
    "    y_true = np.array(y_true)\n",
    "    y_pred = np.array(y_pred)\n",
    "    tp = 0\n",
    "    fn = 0\n",
    "    for i in range(len(y_true)):\n",
    "        if y_pred[i] == 1 and y_true[i] == 1:\n",
    "            tp += 1\n",
    "        elif y_pred[i] == 0 and y_true[i] == 1:\n",
    "            fn += 1\n",
    "    if tp + fn == 0:\n",
    "        return 0\n",
    "    return tp / (tp + fn)"
   ]
  },
  {
   "cell_type": "code",
   "execution_count": 188,
   "id": "ed51c603",
   "metadata": {},
   "outputs": [],
   "source": [
    "# Create a function to perform the grid search and return the best model\n",
    "def grid_search(X_train, y_train, X_test, y_test, models, params):\n",
    "    best_model = None\n",
    "    best_score = 0\n",
    "    best_params = None\n",
    "    \n",
    "    for name, model in models.items():\n",
    "        print(f'Running GridSearchCV for {name}')\n",
    "        clf = GridSearchCV(model, params[name], cv=5, n_jobs=-1)\n",
    "        clf.fit(X_train, y_train)\n",
    "        \n",
    "        # Evaluate the model on the test set\n",
    "        y_pred = clf.predict(X_test)\n",
    "        f1_score_test = get_f1score(y_test, y_pred)\n",
    "        f1_score_train = get_f1score(y_train, clf.predict(X_train))\n",
    "        precision = get_precision(y_test, y_pred)\n",
    "        recall = get_recall(y_test, y_pred)\n",
    "        \n",
    "        print(f'Best Parameters: {clf.best_params_}')\n",
    "        print(f'F1 Score test: {f1_score_test}')\n",
    "        print(f'F1 Score train: {f1_score_train}')\n",
    "        print(f'Precision: {precision}')\n",
    "        print(f'Recall: {recall}')\n",
    "        get_CM(y_test,y_pred)\n",
    "        print('----------------------------------------------------------------------------------------------------')\n",
    "        \n",
    "        # Update the best model if necessary\n",
    "        if f1_score_test > best_score:\n",
    "            best_model = clf.best_estimator_\n",
    "            best_score = f1_score_test\n",
    "            best_params = clf.best_params_\n",
    "    \n",
    "    print(f'\\nBest Model: {type(best_model).__name__}')\n",
    "    print(f'Best Parameters: {best_params}')\n",
    "    print(f'F1 Score Score: {best_score}')\n",
    "    \n",
    "    return best_model"
   ]
  },
  {
   "cell_type": "code",
   "execution_count": 192,
   "id": "94ed1eeb",
   "metadata": {
    "scrolled": false
   },
   "outputs": [
    {
     "name": "stdout",
     "output_type": "stream",
     "text": [
      "Running GridSearchCV for KNN\n"
     ]
    },
    {
     "name": "stderr",
     "output_type": "stream",
     "text": [
      "C:\\ProgramData\\Anaconda3\\lib\\site-packages\\sklearn\\neighbors\\_classification.py:228: FutureWarning: Unlike other reduction functions (e.g. `skew`, `kurtosis`), the default behavior of `mode` typically preserves the axis it acts along. In SciPy 1.11.0, this behavior will change: the default value of `keepdims` will become False, the `axis` over which the statistic is taken will be eliminated, and the value None will no longer be accepted. Set `keepdims` to True or False to avoid this warning.\n",
      "  mode, _ = stats.mode(_y[neigh_ind, k], axis=1)\n",
      "C:\\ProgramData\\Anaconda3\\lib\\site-packages\\sklearn\\neighbors\\_classification.py:228: FutureWarning: Unlike other reduction functions (e.g. `skew`, `kurtosis`), the default behavior of `mode` typically preserves the axis it acts along. In SciPy 1.11.0, this behavior will change: the default value of `keepdims` will become False, the `axis` over which the statistic is taken will be eliminated, and the value None will no longer be accepted. Set `keepdims` to True or False to avoid this warning.\n",
      "  mode, _ = stats.mode(_y[neigh_ind, k], axis=1)\n"
     ]
    },
    {
     "name": "stdout",
     "output_type": "stream",
     "text": [
      "Best Parameters: {'n_neighbors': 2}\n",
      "F1 Score test: 0.7995169082125604\n",
      "F1 Score train: 0.9893759921846379\n",
      "Precision: 0.6853002070393375\n",
      "Recall: 0.9594202898550724\n"
     ]
    },
    {
     "data": {
      "image/png": "[encoded data removed]",
      "text/plain": [
       "<Figure size 640x480 with 2 Axes>"
      ]
     },
     "metadata": {},
     "output_type": "display_data"
    },
    {
     "name": "stdout",
     "output_type": "stream",
     "text": [
      "----------------------------------------------------------------------------------------------------\n",
      "Running GridSearchCV for Bagging+DT\n",
      "Best Parameters: {'max_samples': 0.8, 'n_estimators': 120}\n",
      "F1 Score test: 0.8546583850931678\n",
      "F1 Score train: 1.0\n",
      "Precision: 0.7478260869565218\n",
      "Recall: 0.9971014492753624\n"
     ]
    },
    {
     "data": {
      "image/png": "[encoded data removed]",
      "text/plain": [
       "<Figure size 640x480 with 2 Axes>"
      ]
     },
     "metadata": {},
     "output_type": "display_data"
    },
    {
     "name": "stdout",
     "output_type": "stream",
     "text": [
      "----------------------------------------------------------------------------------------------------\n",
      "Running GridSearchCV for Boosting+DT\n",
      "Best Parameters: {'learning_rate': 1, 'n_estimators': 150}\n",
      "F1 Score test: 0.7065663474692202\n",
      "F1 Score train: 1.0\n",
      "Precision: 0.5468501852832186\n",
      "Recall: 0.9980676328502416\n"
     ]
    },
    {
     "data": {
      "image/png": "[encoded data removed]",
      "text/plain": [
       "<Figure size 640x480 with 2 Axes>"
      ]
     },
     "metadata": {},
     "output_type": "display_data"
    },
    {
     "name": "stdout",
     "output_type": "stream",
     "text": [
      "----------------------------------------------------------------------------------------------------\n",
      "Running GridSearchCV for Random Forest\n",
      "Best Parameters: {'max_depth': 20, 'n_estimators': 100}\n",
      "F1 Score test: 0.9362477231329691\n",
      "F1 Score train: 1.0\n",
      "Precision: 0.8854435831180018\n",
      "Recall: 0.9932367149758454\n"
     ]
    },
    {
     "data": {
      "image/png": "[encoded data removed]",
      "text/plain": [
       "<Figure size 640x480 with 2 Axes>"
      ]
     },
     "metadata": {},
     "output_type": "display_data"
    },
    {
     "name": "stdout",
     "output_type": "stream",
     "text": [
      "----------------------------------------------------------------------------------------------------\n",
      "\n",
      "Best Model: RandomForestClassifier\n",
      "Best Parameters: {'max_depth': 20, 'n_estimators': 100}\n",
      "F1 Score Score: 0.9362477231329691\n"
     ]
    }
   ],
   "source": [
    "# Call the grid_search function with the specified models and hyperparameters\n",
    "best_model = grid_search(X_cc, Y_cc, X_test, Y_test, models, params)"
   ]
  },
  {
   "cell_type": "code",
   "execution_count": 193,
   "id": "72327fb6",
   "metadata": {
    "scrolled": false
   },
   "outputs": [
    {
     "name": "stdout",
     "output_type": "stream",
     "text": [
      "Running GridSearchCV for KNN\n"
     ]
    },
    {
     "name": "stderr",
     "output_type": "stream",
     "text": [
      "C:\\ProgramData\\Anaconda3\\lib\\site-packages\\sklearn\\neighbors\\_classification.py:228: FutureWarning: Unlike other reduction functions (e.g. `skew`, `kurtosis`), the default behavior of `mode` typically preserves the axis it acts along. In SciPy 1.11.0, this behavior will change: the default value of `keepdims` will become False, the `axis` over which the statistic is taken will be eliminated, and the value None will no longer be accepted. Set `keepdims` to True or False to avoid this warning.\n",
      "  mode, _ = stats.mode(_y[neigh_ind, k], axis=1)\n",
      "C:\\ProgramData\\Anaconda3\\lib\\site-packages\\sklearn\\neighbors\\_classification.py:228: FutureWarning: Unlike other reduction functions (e.g. `skew`, `kurtosis`), the default behavior of `mode` typically preserves the axis it acts along. In SciPy 1.11.0, this behavior will change: the default value of `keepdims` will become False, the `axis` over which the statistic is taken will be eliminated, and the value None will no longer be accepted. Set `keepdims` to True or False to avoid this warning.\n",
      "  mode, _ = stats.mode(_y[neigh_ind, k], axis=1)\n"
     ]
    },
    {
     "name": "stdout",
     "output_type": "stream",
     "text": [
      "Best Parameters: {'n_neighbors': 2}\n",
      "F1 Score test: 0.7233273056057866\n",
      "F1 Score train: 0.9962401455427531\n",
      "Precision: 0.5780346820809249\n",
      "Recall: 0.966183574879227\n"
     ]
    },
    {
     "data": {
      "image/png": "[encoded data removed]",
      "text/plain": [
       "<Figure size 640x480 with 2 Axes>"
      ]
     },
     "metadata": {},
     "output_type": "display_data"
    },
    {
     "name": "stdout",
     "output_type": "stream",
     "text": [
      "----------------------------------------------------------------------------------------------------\n",
      "Running GridSearchCV for Bagging+DT\n",
      "Best Parameters: {'max_samples': 0.5, 'n_estimators': 100}\n",
      "F1 Score test: 0.7800075728890573\n",
      "F1 Score train: 0.999456029011786\n",
      "Precision: 0.6413449564134496\n",
      "Recall: 0.9951690821256038\n"
     ]
    },
    {
     "data": {
      "image/png": "[encoded data removed]",
      "text/plain": [
       "<Figure size 640x480 with 2 Axes>"
      ]
     },
     "metadata": {},
     "output_type": "display_data"
    },
    {
     "name": "stdout",
     "output_type": "stream",
     "text": [
      "----------------------------------------------------------------------------------------------------\n",
      "Running GridSearchCV for Boosting+DT\n",
      "Best Parameters: {'learning_rate': 0.8, 'n_estimators': 150}\n",
      "F1 Score test: 0.6747303040209219\n",
      "F1 Score train: 1.0\n",
      "Precision: 0.5098814229249012\n",
      "Recall: 0.9971014492753624\n"
     ]
    },
    {
     "data": {
      "image/png": "[encoded data removed]",
      "text/plain": [
       "<Figure size 640x480 with 2 Axes>"
      ]
     },
     "metadata": {},
     "output_type": "display_data"
    },
    {
     "name": "stdout",
     "output_type": "stream",
     "text": [
      "----------------------------------------------------------------------------------------------------\n",
      "Running GridSearchCV for Random Forest\n",
      "Best Parameters: {'max_depth': 20, 'n_estimators': 100}\n",
      "F1 Score test: 0.8947826086956521\n",
      "F1 Score train: 1.0\n",
      "Precision: 0.8134387351778656\n",
      "Recall: 0.9942028985507246\n"
     ]
    },
    {
     "data": {
      "image/png": "[encoded data removed]",
      "text/plain": [
       "<Figure size 640x480 with 2 Axes>"
      ]
     },
     "metadata": {},
     "output_type": "display_data"
    },
    {
     "name": "stdout",
     "output_type": "stream",
     "text": [
      "----------------------------------------------------------------------------------------------------\n",
      "\n",
      "Best Model: RandomForestClassifier\n",
      "Best Parameters: {'max_depth': 20, 'n_estimators': 100}\n",
      "F1 Score Score: 0.8947826086956521\n"
     ]
    }
   ],
   "source": [
    "# Call the grid_search function with the specified models and hyperparameters\n",
    "best_model = grid_search(X_SMOTE, Y_SMOTE, X_test, Y_test, models, params)"
   ]
  },
  {
   "cell_type": "code",
   "execution_count": 194,
   "id": "0213f1b0",
   "metadata": {
    "scrolled": false
   },
   "outputs": [
    {
     "name": "stdout",
     "output_type": "stream",
     "text": [
      "Running GridSearchCV for KNN\n"
     ]
    },
    {
     "name": "stderr",
     "output_type": "stream",
     "text": [
      "C:\\ProgramData\\Anaconda3\\lib\\site-packages\\sklearn\\neighbors\\_classification.py:228: FutureWarning: Unlike other reduction functions (e.g. `skew`, `kurtosis`), the default behavior of `mode` typically preserves the axis it acts along. In SciPy 1.11.0, this behavior will change: the default value of `keepdims` will become False, the `axis` over which the statistic is taken will be eliminated, and the value None will no longer be accepted. Set `keepdims` to True or False to avoid this warning.\n",
      "  mode, _ = stats.mode(_y[neigh_ind, k], axis=1)\n",
      "C:\\ProgramData\\Anaconda3\\lib\\site-packages\\sklearn\\neighbors\\_classification.py:228: FutureWarning: Unlike other reduction functions (e.g. `skew`, `kurtosis`), the default behavior of `mode` typically preserves the axis it acts along. In SciPy 1.11.0, this behavior will change: the default value of `keepdims` will become False, the `axis` over which the statistic is taken will be eliminated, and the value None will no longer be accepted. Set `keepdims` to True or False to avoid this warning.\n",
      "  mode, _ = stats.mode(_y[neigh_ind, k], axis=1)\n"
     ]
    },
    {
     "name": "stdout",
     "output_type": "stream",
     "text": [
      "Best Parameters: {'n_neighbors': 2}\n",
      "F1 Score test: 0.4672811059907833\n",
      "F1 Score train: 0.998361153262519\n",
      "Precision: 0.30680786686838124\n",
      "Recall: 0.9797101449275363\n"
     ]
    },
    {
     "data": {
      "image/png": "[encoded data removed]",
      "text/plain": [
       "<Figure size 640x480 with 2 Axes>"
      ]
     },
     "metadata": {},
     "output_type": "display_data"
    },
    {
     "name": "stdout",
     "output_type": "stream",
     "text": [
      "----------------------------------------------------------------------------------------------------\n",
      "Running GridSearchCV for Bagging+DT\n",
      "Best Parameters: {'max_samples': 0.8, 'n_estimators': 100}\n",
      "F1 Score test: 0.640298972282778\n",
      "F1 Score train: 0.999939397612266\n",
      "Precision: 0.4724264705882353\n",
      "Recall: 0.9932367149758454\n"
     ]
    },
    {
     "data": {
      "image/png": "[encoded data removed]",
      "text/plain": [
       "<Figure size 640x480 with 2 Axes>"
      ]
     },
     "metadata": {},
     "output_type": "display_data"
    },
    {
     "name": "stdout",
     "output_type": "stream",
     "text": [
      "----------------------------------------------------------------------------------------------------\n",
      "Running GridSearchCV for Boosting+DT\n",
      "Best Parameters: {'learning_rate': 0.8, 'n_estimators': 150}\n",
      "F1 Score test: 0.6326153846153846\n",
      "F1 Score train: 1.0\n",
      "Precision: 0.46410835214446955\n",
      "Recall: 0.9932367149758454\n"
     ]
    },
    {
     "data": {
      "image/png": "[encoded data removed]",
      "text/plain": [
       "<Figure size 640x480 with 2 Axes>"
      ]
     },
     "metadata": {},
     "output_type": "display_data"
    },
    {
     "name": "stdout",
     "output_type": "stream",
     "text": [
      "----------------------------------------------------------------------------------------------------\n",
      "Running GridSearchCV for Random Forest\n",
      "Best Parameters: {'max_depth': 20, 'n_estimators': 50}\n",
      "F1 Score test: 0.7805987116331944\n",
      "F1 Score train: 0.9999394049566744\n",
      "Precision: 0.64214463840399\n",
      "Recall: 0.9951690821256038\n"
     ]
    },
    {
     "data": {
      "image/png": "[encoded data removed]",
      "text/plain": [
       "<Figure size 640x480 with 2 Axes>"
      ]
     },
     "metadata": {},
     "output_type": "display_data"
    },
    {
     "name": "stdout",
     "output_type": "stream",
     "text": [
      "----------------------------------------------------------------------------------------------------\n",
      "\n",
      "Best Model: RandomForestClassifier\n",
      "Best Parameters: {'max_depth': 20, 'n_estimators': 50}\n",
      "F1 Score Score: 0.7805987116331944\n"
     ]
    }
   ],
   "source": [
    "# Call the grid_search function with the specified models and hyperparameters\n",
    "best_model = grid_search(X_ADASYN, Y_ADASYN, X_test, Y_test, models, params)"
   ]
  },
  {
   "cell_type": "code",
   "execution_count": 147,
   "id": "0bb01830",
   "metadata": {
    "collapsed": true
   },
   "outputs": [
    {
     "name": "stderr",
     "output_type": "stream",
     "text": [
      "C:\\ProgramData\\Anaconda3\\lib\\site-packages\\sklearn\\svm\\_base.py:1206: ConvergenceWarning: Liblinear failed to converge, increase the number of iterations.\n",
      "  warnings.warn(\n"
     ]
    },
    {
     "name": "stdout",
     "output_type": "stream",
     "text": [
      "F1 score on training data:  0.8676269582588582\n",
      "F1 score on test data:  0.023193937692955375\n",
      "Precision test data:  0.011733303044070878\n",
      "Recall test data:  0.9980676328502416\n"
     ]
    },
    {
     "data": {
      "image/png": "[encoded data removed]",
      "text/plain": [
       "<Figure size 640x480 with 1 Axes>"
      ]
     },
     "metadata": {},
     "output_type": "display_data"
    },
    {
     "data": {
      "image/png": "[encoded data removed]",
      "text/plain": [
       "<Figure size 640x480 with 2 Axes>"
      ]
     },
     "metadata": {},
     "output_type": "display_data"
    }
   ],
   "source": [
    "from sklearn.svm import LinearSVC\n",
    "\n",
    "# Support Vector Machine\n",
    "svm=LinearSVC(C=100)\n",
    "svm.fit(X_cc, Y_cc)\n",
    "\n",
    "X_train_prediction = svm.predict(X_cc)\n",
    "X_test_prediction= svm.predict(X_test)\n",
    "\n",
    "training_data_F1Score = get_f1score(Y_cc, X_train_prediction)\n",
    "test_data_F1Score = get_f1score(Y_test, X_test_prediction)\n",
    "\n",
    "precision = get_precision(Y_test, X_test_prediction)\n",
    "recall = get_recall(Y_test, X_test_prediction)\n",
    "\n",
    "print('F1 score on training data: ', training_data_F1Score)\n",
    "print('F1 score on test data: ', test_data_F1Score)\n",
    "print('Precision test data: ', precision)\n",
    "print('Recall test data: ', recall)\n",
    "get_AUPRC(svm, \"LinearSVC\", X_test, Y_test)\n",
    "get_CM(Y_test,X_test_prediction)"
   ]
  },
  {
   "cell_type": "code",
   "execution_count": 148,
   "id": "0112f1ff",
   "metadata": {
    "collapsed": true
   },
   "outputs": [
    {
     "name": "stderr",
     "output_type": "stream",
     "text": [
      "C:\\ProgramData\\Anaconda3\\lib\\site-packages\\sklearn\\svm\\_base.py:1206: ConvergenceWarning: Liblinear failed to converge, increase the number of iterations.\n",
      "  warnings.warn(\n"
     ]
    },
    {
     "name": "stdout",
     "output_type": "stream",
     "text": [
      "F1 score on training data:  0.900066181336863\n",
      "F1 score on test data:  0.5220338983050848\n",
      "Precision test data:  0.3832579185520362\n",
      "Recall test data:  0.8183574879227054\n"
     ]
    },
    {
     "data": {
      "image/png": "[encoded data removed]",
      "text/plain": [
       "<Figure size 640x480 with 1 Axes>"
      ]
     },
     "metadata": {},
     "output_type": "display_data"
    },
    {
     "data": {
      "image/png": "[encoded data removed]",
      "text/plain": [
       "<Figure size 640x480 with 2 Axes>"
      ]
     },
     "metadata": {},
     "output_type": "display_data"
    }
   ],
   "source": [
    "from sklearn.svm import LinearSVC\n",
    "\n",
    "# Support Vector Machine\n",
    "svm=LinearSVC(C=100)\n",
    "svm.fit(X_SMOTE, Y_SMOTE)\n",
    "\n",
    "X_train_prediction = svm.predict(X_SMOTE)\n",
    "X_test_prediction= svm.predict(X_test)\n",
    "\n",
    "training_data_F1Score = get_f1score(Y_SMOTE, X_train_prediction)\n",
    "test_data_F1Score = get_f1score(Y_test, X_test_prediction)\n",
    "\n",
    "precision = get_precision(Y_test, X_test_prediction)\n",
    "recall = get_recall(Y_test, X_test_prediction)\n",
    "\n",
    "print('F1 score on training data: ', training_data_F1Score)\n",
    "print('F1 score on test data: ', test_data_F1Score)\n",
    "print('Precision test data: ', precision)\n",
    "print('Recall test data: ', recall)\n",
    "get_AUPRC(svm, \"LinearSVC\", X_test, Y_test)\n",
    "get_CM(Y_test,X_test_prediction)"
   ]
  },
  {
   "cell_type": "code",
   "execution_count": 149,
   "id": "685d7ef3",
   "metadata": {
    "collapsed": true
   },
   "outputs": [
    {
     "name": "stderr",
     "output_type": "stream",
     "text": [
      "C:\\ProgramData\\Anaconda3\\lib\\site-packages\\sklearn\\svm\\_base.py:1206: ConvergenceWarning: Liblinear failed to converge, increase the number of iterations.\n",
      "  warnings.warn(\n"
     ]
    },
    {
     "name": "stdout",
     "output_type": "stream",
     "text": [
      "F1 score on training data:  0.9910311202070669\n",
      "F1 score on test data:  0.299840046531918\n",
      "Precision test data:  0.1764806573091407\n",
      "Recall test data:  0.996135265700483\n"
     ]
    },
    {
     "data": {
      "image/png": "[encoded data removed]",
      "text/plain": [
       "<Figure size 640x480 with 1 Axes>"
      ]
     },
     "metadata": {},
     "output_type": "display_data"
    },
    {
     "data": {
      "image/png": "[encoded data removed]",
      "text/plain": [
       "<Figure size 640x480 with 2 Axes>"
      ]
     },
     "metadata": {},
     "output_type": "display_data"
    }
   ],
   "source": [
    "from sklearn.svm import LinearSVC\n",
    "\n",
    "# Support Vector Machine\n",
    "svm=LinearSVC(C=100)\n",
    "svm.fit(X_ADASYN, Y_ADASYN)\n",
    "\n",
    "X_train_prediction = svm.predict(X_ADASYN)\n",
    "X_test_prediction= svm.predict(X_test)\n",
    "\n",
    "training_data_F1Score = get_f1score(Y_ADASYN, X_train_prediction)\n",
    "test_data_F1Score = get_f1score(Y_test, X_test_prediction)\n",
    "\n",
    "precision = get_precision(Y_test, X_test_prediction)\n",
    "recall = get_recall(Y_test, X_test_prediction)\n",
    "\n",
    "print('F1 score on training data: ', training_data_F1Score)\n",
    "print('F1 score on test data: ', test_data_F1Score)\n",
    "print('Precision test data: ', precision)\n",
    "print('Recall test data: ', recall)\n",
    "get_AUPRC(svm, \"LinearSVC\", X_test, Y_test)\n",
    "get_CM(Y_test,X_test_prediction)"
   ]
  },
  {
   "cell_type": "code",
   "execution_count": 195,
   "id": "15cba6de",
   "metadata": {
    "scrolled": true
   },
   "outputs": [
    {
     "data": {
      "text/markdown": [
       "**Summary**"
      ],
      "text/plain": [
       "<IPython.core.display.Markdown object>"
      ]
     },
     "metadata": {},
     "output_type": "display_data"
    },
    {
     "data": {
      "text/html": [
       "<div>\n",
       "<style scoped>\n",
       "    .dataframe tbody tr th:only-of-type {\n",
       "        vertical-align: middle;\n",
       "    }\n",
       "\n",
       "    .dataframe tbody tr th {\n",
       "        vertical-align: top;\n",
       "    }\n",
       "\n",
       "    .dataframe thead th {\n",
       "        text-align: right;\n",
       "    }\n",
       "</style>\n",
       "<table border=\"1\" class=\"dataframe\">\n",
       "  <thead>\n",
       "    <tr style=\"text-align: right;\">\n",
       "      <th></th>\n",
       "      <th>Resample method</th>\n",
       "      <th>Classifier</th>\n",
       "      <th>False positives</th>\n",
       "      <th>False negatives</th>\n",
       "    </tr>\n",
       "  </thead>\n",
       "  <tbody>\n",
       "    <tr>\n",
       "      <th>0</th>\n",
       "      <td>CC</td>\n",
       "      <td>KNN</td>\n",
       "      <td>456</td>\n",
       "      <td>42</td>\n",
       "    </tr>\n",
       "    <tr>\n",
       "      <th>1</th>\n",
       "      <td>SMOTE</td>\n",
       "      <td>KNN</td>\n",
       "      <td>730</td>\n",
       "      <td>35</td>\n",
       "    </tr>\n",
       "    <tr>\n",
       "      <th>2</th>\n",
       "      <td>ADASYN</td>\n",
       "      <td>KNN</td>\n",
       "      <td>2291</td>\n",
       "      <td>21</td>\n",
       "    </tr>\n",
       "    <tr>\n",
       "      <th>3</th>\n",
       "      <td>CC</td>\n",
       "      <td>Bagging+DT</td>\n",
       "      <td>348</td>\n",
       "      <td>3</td>\n",
       "    </tr>\n",
       "    <tr>\n",
       "      <th>4</th>\n",
       "      <td>SMOTE</td>\n",
       "      <td>Bagging+DT</td>\n",
       "      <td>576</td>\n",
       "      <td>5</td>\n",
       "    </tr>\n",
       "    <tr>\n",
       "      <th>5</th>\n",
       "      <td>ADASYN</td>\n",
       "      <td>Bagging+DT</td>\n",
       "      <td>1148</td>\n",
       "      <td>7</td>\n",
       "    </tr>\n",
       "    <tr>\n",
       "      <th>6</th>\n",
       "      <td>CC</td>\n",
       "      <td>Boosting+DT</td>\n",
       "      <td>856</td>\n",
       "      <td>2</td>\n",
       "    </tr>\n",
       "    <tr>\n",
       "      <th>7</th>\n",
       "      <td>SMOTE</td>\n",
       "      <td>Boosting+DT</td>\n",
       "      <td>992</td>\n",
       "      <td>3</td>\n",
       "    </tr>\n",
       "    <tr>\n",
       "      <th>8</th>\n",
       "      <td>ADASYN</td>\n",
       "      <td>Boosting+DT</td>\n",
       "      <td>1187</td>\n",
       "      <td>7</td>\n",
       "    </tr>\n",
       "    <tr>\n",
       "      <th>9</th>\n",
       "      <td>CC</td>\n",
       "      <td>Random Forest</td>\n",
       "      <td>133</td>\n",
       "      <td>7</td>\n",
       "    </tr>\n",
       "    <tr>\n",
       "      <th>10</th>\n",
       "      <td>SMOTE</td>\n",
       "      <td>Random Forest</td>\n",
       "      <td>236</td>\n",
       "      <td>6</td>\n",
       "    </tr>\n",
       "    <tr>\n",
       "      <th>11</th>\n",
       "      <td>ADASYN</td>\n",
       "      <td>Random Forest</td>\n",
       "      <td>574</td>\n",
       "      <td>5</td>\n",
       "    </tr>\n",
       "  </tbody>\n",
       "</table>\n",
       "</div>"
      ],
      "text/plain": [
       "   Resample method     Classifier  False positives  False negatives\n",
       "0               CC           KNN               456               42\n",
       "1            SMOTE           KNN               730               35\n",
       "2           ADASYN           KNN              2291               21\n",
       "3               CC     Bagging+DT              348                3\n",
       "4            SMOTE     Bagging+DT              576                5\n",
       "5           ADASYN     Bagging+DT             1148                7\n",
       "6               CC    Boosting+DT              856                2\n",
       "7            SMOTE    Boosting+DT              992                3\n",
       "8           ADASYN    Boosting+DT             1187                7\n",
       "9               CC  Random Forest              133                7\n",
       "10           SMOTE  Random Forest              236                6\n",
       "11          ADASYN  Random Forest              574                5"
      ]
     },
     "metadata": {},
     "output_type": "display_data"
    }
   ],
   "source": [
    "from IPython.display import display, Markdown\n",
    "# define a title for the table\n",
    "title = 'Summary'\n",
    "\n",
    "# display the title and the DataFrame\n",
    "display(Markdown(f'**{title}**'))\n",
    "data = {\n",
    "    'Resample method': ['CC','SMOTE', 'ADASYN','CC','SMOTE', 'ADASYN','CC','SMOTE', 'ADASYN','CC','SMOTE', 'ADASYN'],\n",
    "    'Classifier': ['KNN ', 'KNN ','KNN ','Bagging+DT','Bagging+DT','Bagging+DT', 'Boosting+DT', 'Boosting+DT','Boosting+DT','Random Forest', 'Random Forest', 'Random Forest'],\n",
    "    'False positives': [456,730,2291,348,576,1148,856,992,1187,133,236,574],\n",
    "    'False negatives': [42,35,21,3,5,7,2,3,7,7,6,5],\n",
    "}\n",
    "\n",
    "display(pd.DataFrame(data))\n"
   ]
  },
  {
   "cell_type": "markdown",
   "id": "ee0dd9bd",
   "metadata": {},
   "source": [
    "### Summary\n",
    " Models trained with cc has the least total false predictions "
   ]
  },
  {
   "cell_type": "markdown",
   "id": "6655087d",
   "metadata": {},
   "source": [
    "### Building a hybrid model"
   ]
  },
  {
   "cell_type": "markdown",
   "id": "ad891b27",
   "metadata": {},
   "source": [
    "#### Train the classifiers with the best hyperparameters"
   ]
  },
  {
   "cell_type": "code",
   "execution_count": 196,
   "id": "6fed47c5",
   "metadata": {},
   "outputs": [
    {
     "data": {
      "text/plain": [
       "RandomForestClassifier(max_depth=20)"
      ]
     },
     "execution_count": 196,
     "metadata": {},
     "output_type": "execute_result"
    }
   ],
   "source": [
    "knn_best = KNeighborsClassifier(n_neighbors= 2)\n",
    "bagging_dt_best = BaggingClassifier(base_estimator=DecisionTreeClassifier(),max_samples= 0.8, n_estimators= 120)\n",
    "boosting_dt_best = AdaBoostClassifier(base_estimator=DecisionTreeClassifier(),n_estimators=150,learning_rate=1)\n",
    "rf_best = RandomForestClassifier(max_depth= 20, n_estimators=100)\n",
    "\n",
    "X_train = X_cc\n",
    "y_train = Y_cc\n",
    "\n",
    "knn_best.fit(X_train, y_train)\n",
    "bagging_dt_best.fit(X_train, y_train)\n",
    "boosting_dt_best.fit(X_train, y_train)\n",
    "rf_best.fit(X_train, y_train)"
   ]
  },
  {
   "cell_type": "code",
   "execution_count": 197,
   "id": "8990b3dd",
   "metadata": {},
   "outputs": [
    {
     "name": "stderr",
     "output_type": "stream",
     "text": [
      "C:\\ProgramData\\Anaconda3\\lib\\site-packages\\sklearn\\neighbors\\_classification.py:228: FutureWarning: Unlike other reduction functions (e.g. `skew`, `kurtosis`), the default behavior of `mode` typically preserves the axis it acts along. In SciPy 1.11.0, this behavior will change: the default value of `keepdims` will become False, the `axis` over which the statistic is taken will be eliminated, and the value None will no longer be accepted. Set `keepdims` to True or False to avoid this warning.\n",
      "  mode, _ = stats.mode(_y[neigh_ind, k], axis=1)\n"
     ]
    }
   ],
   "source": [
    "# make predictions using each classifier\n",
    "knn_preds = knn_best.predict(X_test)\n",
    "bagging_dt_preds = bagging_dt_best.predict(X_test)\n",
    "boosting_dt_preds = boosting_dt_best.predict(X_test)\n",
    "rf_preds = rf_best.predict(X_test)"
   ]
  },
  {
   "cell_type": "markdown",
   "id": "02306399",
   "metadata": {},
   "source": [
    "#### Combine the predictions using a voting classifier"
   ]
  },
  {
   "cell_type": "code",
   "execution_count": 198,
   "id": "d34efe6e",
   "metadata": {},
   "outputs": [
    {
     "data": {
      "text/plain": [
       "VotingClassifier(estimators=[('knn', KNeighborsClassifier(n_neighbors=2)),\n",
       "                             ('bagging_dt',\n",
       "                              BaggingClassifier(base_estimator=DecisionTreeClassifier(),\n",
       "                                                max_samples=0.8,\n",
       "                                                n_estimators=120)),\n",
       "                             ('boosting_dt',\n",
       "                              AdaBoostClassifier(base_estimator=DecisionTreeClassifier(),\n",
       "                                                 learning_rate=1,\n",
       "                                                 n_estimators=150)),\n",
       "                             ('rf', RandomForestClassifier(max_depth=20))])"
      ]
     },
     "execution_count": 198,
     "metadata": {},
     "output_type": "execute_result"
    }
   ],
   "source": [
    "from sklearn.ensemble import VotingClassifier\n",
    "\n",
    "estimators = [('knn', knn_best), ('bagging_dt', bagging_dt_best), ('boosting_dt', boosting_dt_best), ('rf', rf_best)]\n",
    "voting_clf = VotingClassifier(estimators=estimators, voting='hard')\n",
    "voting_clf.fit(X_train, y_train)"
   ]
  },
  {
   "cell_type": "code",
   "execution_count": 199,
   "id": "5493b75d",
   "metadata": {},
   "outputs": [
    {
     "name": "stderr",
     "output_type": "stream",
     "text": [
      "C:\\ProgramData\\Anaconda3\\lib\\site-packages\\sklearn\\neighbors\\_classification.py:228: FutureWarning: Unlike other reduction functions (e.g. `skew`, `kurtosis`), the default behavior of `mode` typically preserves the axis it acts along. In SciPy 1.11.0, this behavior will change: the default value of `keepdims` will become False, the `axis` over which the statistic is taken will be eliminated, and the value None will no longer be accepted. Set `keepdims` to True or False to avoid this warning.\n",
      "  mode, _ = stats.mode(_y[neigh_ind, k], axis=1)\n",
      "C:\\ProgramData\\Anaconda3\\lib\\site-packages\\sklearn\\neighbors\\_classification.py:228: FutureWarning: Unlike other reduction functions (e.g. `skew`, `kurtosis`), the default behavior of `mode` typically preserves the axis it acts along. In SciPy 1.11.0, this behavior will change: the default value of `keepdims` will become False, the `axis` over which the statistic is taken will be eliminated, and the value None will no longer be accepted. Set `keepdims` to True or False to avoid this warning.\n",
      "  mode, _ = stats.mode(_y[neigh_ind, k], axis=1)\n"
     ]
    },
    {
     "name": "stdout",
     "output_type": "stream",
     "text": [
      "F1 score on training data:  0.9998791540785499\n",
      "F1 score on test data:  0.9580615097856476\n",
      "Precision test data:  0.9252925292529253\n",
      "Recall test data:  0.9932367149758454\n"
     ]
    },
    {
     "data": {
      "image/png": "[encoded data removed]",
      "text/plain": [
       "<Figure size 640x480 with 2 Axes>"
      ]
     },
     "metadata": {},
     "output_type": "display_data"
    }
   ],
   "source": [
    "# Evaluate the voting classifier\n",
    "\n",
    "y_test = Y_test\n",
    "\n",
    "voting_preds_test = voting_clf.predict(X_test)\n",
    "voting_preds_train = voting_clf.predict(X_train)\n",
    "\n",
    "training_F1Score = get_f1score(y_train, voting_preds_train)\n",
    "test_F1Score = get_f1score(y_test, voting_preds_test)\n",
    "\n",
    "precision = get_precision(y_test, voting_preds_test)\n",
    "recall = get_recall(y_test, voting_preds_test)\n",
    "\n",
    "print('F1 score on training data: ', training_F1Score)\n",
    "print('F1 score on test data: ', test_F1Score)\n",
    "print('Precision test data: ', precision)\n",
    "print('Recall test data: ', recall)\n",
    "get_CM(y_test,voting_preds_test)"
   ]
  },
  {
   "cell_type": "code",
   "execution_count": 201,
   "id": "45ecb725",
   "metadata": {},
   "outputs": [
    {
     "data": {
      "text/plain": [
       "Index(['amt', 'gender', 'city_pop', 'category_entertainment',\n",
       "       'category_food_dining', 'category_gas_transport',\n",
       "       'category_grocery_net', 'category_grocery_pos',\n",
       "       'category_health_fitness', 'category_home', 'category_kids_pets',\n",
       "       'category_misc_net', 'category_misc_pos', 'category_personal_care',\n",
       "       'category_shopping_net', 'category_shopping_pos', 'category_travel',\n",
       "       'state_AK', 'state_AL', 'state_AR', 'state_AZ', 'state_CA', 'state_CO',\n",
       "       'state_CT', 'state_DC', 'state_DE', 'state_FL', 'state_GA', 'state_HI',\n",
       "       'state_IA', 'state_ID', 'state_IL', 'state_IN', 'state_KS', 'state_KY',\n",
       "       'state_LA', 'state_MA', 'state_MD', 'state_ME', 'state_MI', 'state_MN',\n",
       "       'state_MO', 'state_MS', 'state_MT', 'state_NC', 'state_ND', 'state_NE',\n",
       "       'state_NH', 'state_NJ', 'state_NM', 'state_NV', 'state_NY', 'state_OH',\n",
       "       'state_OK', 'state_OR', 'state_PA', 'state_RI', 'state_SC', 'state_SD',\n",
       "       'state_TN', 'state_TX', 'state_UT', 'state_VA', 'state_VT', 'state_WA',\n",
       "       'state_WI', 'state_WV', 'state_WY', 'cc_type_American Express',\n",
       "       'cc_type_Diners Club - Carte Blanche', 'cc_type_Discover',\n",
       "       'cc_type_JCB', 'cc_type_MasterCard', 'cc_type_Other', 'cc_type_Visa',\n",
       "       'day_Friday', 'day_Monday', 'day_Saturday', 'day_Sunday',\n",
       "       'day_Thursday', 'day_Tuesday', 'day_Wednesday', 'time_period_afternoon',\n",
       "       'time_period_dawn', 'time_period_evening', 'time_period_morning',\n",
       "       'time_period_night', 'time_period_noon'],\n",
       "      dtype='object')"
      ]
     },
     "execution_count": 201,
     "metadata": {},
     "output_type": "execute_result"
    }
   ],
   "source": [
    "X.columns"
   ]
  },
  {
   "cell_type": "code",
   "execution_count": 203,
   "id": "0d58e268",
   "metadata": {},
   "outputs": [
    {
     "data": {
      "text/plain": [
       "3"
      ]
     },
     "execution_count": 203,
     "metadata": {},
     "output_type": "execute_result"
    }
   ],
   "source": [
    "category = 'entertainment'\n",
    "np.where(X.columns =='category_'+category)[0][0]    "
   ]
  },
  {
   "cell_type": "code",
   "execution_count": null,
   "id": "b0b91c89",
   "metadata": {},
   "outputs": [],
   "source": [
    "def predict_transaction(amnt,gender,city_pop,category,state,\n",
    "                        cc_type,day,time_period):\n",
    "    category_index = np.where(X.columns =='category_'+category)[0][0]  \n",
    "    state_index = np.where(X.columns =='state_'+state)[0][0]  \n",
    "    cc_type_index = np.where(X.columns =='cc_type_'+cc_type)[0][0]\n",
    "    day_index = np.where(X.columns =='day_'+day)[0][0]\n",
    "    time_period_index = np.where(X.columns =='time_period_'+time_period)[0][0]\n",
    "    \n",
    "    x = np.zeros(len(X.columns))\n",
    "    x[0] = amnt\n",
    "    x[1] = gender\n",
    "    x[2] = city_pop\n",
    "    \n",
    "    x[] = 1\n",
    "    x[] = 1\n",
    "    x[] = 1\n",
    "    x[] = 1\n",
    "    x[] = 1"
   ]
  }
 ],
 "metadata": {
  "kernelspec": {
   "display_name": "Python 3 (ipykernel)",
   "language": "python",
   "name": "python3"
  },
  "language_info": {
   "codemirror_mode": {
    "name": "ipython",
    "version": 3
   },
   "file_extension": ".py",
   "mimetype": "text/x-python",
   "name": "python",
   "nbconvert_exporter": "python",
   "pygments_lexer": "ipython3",
   "version": "3.9.13"
  }
 },
 "nbformat": 4,
 "nbformat_minor": 5
}
