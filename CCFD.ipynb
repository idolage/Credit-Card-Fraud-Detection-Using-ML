{
 "cells": [
  {
   "cell_type": "markdown",
   "id": "242dd7ba",
   "metadata": {},
   "source": [
    "### Importing the dependencies"
   ]
  },
  {
   "cell_type": "code",
   "execution_count": 1,
   "id": "4401af39",
   "metadata": {},
   "outputs": [],
   "source": [
    "import numpy as np\n",
    "import pandas as pd\n",
    "import seaborn as sns\n",
    "from matplotlib import pyplot as plt"
   ]
  },
  {
   "cell_type": "markdown",
   "id": "78cf37b0",
   "metadata": {},
   "source": [
    "### Loading the dataset"
   ]
  },
  {
   "cell_type": "code",
   "execution_count": 2,
   "id": "4d7eb67c",
   "metadata": {},
   "outputs": [
    {
     "name": "stdout",
     "output_type": "stream",
     "text": [
      "dataset_train:  (1296675, 23)\n",
      "dataset_test:  (555719, 23)\n"
     ]
    }
   ],
   "source": [
    "#Loading the dataset to a Pandas DataFrame\n",
    "dataset_train = pd.read_csv(\"fraudTrain.csv\")\n",
    "dataset_test = pd.read_csv(\"fraudTest.csv\")\n",
    "print(\"dataset_train: \" , dataset_train.shape)\n",
    "print(\"dataset_test: \" , dataset_test.shape)"
   ]
  },
  {
   "cell_type": "markdown",
   "id": "45f7715e",
   "metadata": {},
   "source": [
    "### Checking the number of missing values in each col"
   ]
  },
  {
   "cell_type": "code",
   "execution_count": 3,
   "id": "aa48315e",
   "metadata": {},
   "outputs": [
    {
     "name": "stdout",
     "output_type": "stream",
     "text": [
      "Unnamed: 0               0\n",
      "trans_date_trans_time    0\n",
      "cc_num                   0\n",
      "merchant                 0\n",
      "category                 0\n",
      "amt                      0\n",
      "first                    0\n",
      "last                     0\n",
      "gender                   0\n",
      "street                   0\n",
      "city                     0\n",
      "state                    0\n",
      "zip                      0\n",
      "lat                      0\n",
      "long                     0\n",
      "city_pop                 0\n",
      "job                      0\n",
      "dob                      0\n",
      "trans_num                0\n",
      "unix_time                0\n",
      "merch_lat                0\n",
      "merch_long               0\n",
      "is_fraud                 0\n",
      "dtype: int64\n",
      "Unnamed: 0               0\n",
      "trans_date_trans_time    0\n",
      "cc_num                   0\n",
      "merchant                 0\n",
      "category                 0\n",
      "amt                      0\n",
      "first                    0\n",
      "last                     0\n",
      "gender                   0\n",
      "street                   0\n",
      "city                     0\n",
      "state                    0\n",
      "zip                      0\n",
      "lat                      0\n",
      "long                     0\n",
      "city_pop                 0\n",
      "job                      0\n",
      "dob                      0\n",
      "trans_num                0\n",
      "unix_time                0\n",
      "merch_lat                0\n",
      "merch_long               0\n",
      "is_fraud                 0\n",
      "dtype: int64\n"
     ]
    }
   ],
   "source": [
    "print(dataset_train.isnull().sum())\n",
    "print(dataset_test.isnull().sum())"
   ]
  },
  {
   "cell_type": "markdown",
   "id": "5d207187",
   "metadata": {},
   "source": [
    "### Dropping if there are any duplicate entries"
   ]
  },
  {
   "cell_type": "code",
   "execution_count": 4,
   "id": "115687f4",
   "metadata": {},
   "outputs": [
    {
     "name": "stdout",
     "output_type": "stream",
     "text": [
      "dataset_train:  (1296675, 23)\n",
      "dataset_test:  (555719, 23)\n"
     ]
    }
   ],
   "source": [
    "dataset_train.drop_duplicates(inplace=True)\n",
    "print(\"dataset_train: \",dataset_train.shape)\n",
    "\n",
    "dataset_test.drop_duplicates(inplace=True)\n",
    "print(\"dataset_test: \",dataset_test.shape)"
   ]
  },
  {
   "cell_type": "markdown",
   "id": "a442eb78",
   "metadata": {},
   "source": [
    "### Concatenate two datasets"
   ]
  },
  {
   "cell_type": "code",
   "execution_count": 5,
   "id": "5cdbb979",
   "metadata": {},
   "outputs": [
    {
     "name": "stdout",
     "output_type": "stream",
     "text": [
      "New dataset:  (1852394, 23)\n"
     ]
    },
    {
     "data": {
      "text/html": [
       "<div>\n",
       "<style scoped>\n",
       "    .dataframe tbody tr th:only-of-type {\n",
       "        vertical-align: middle;\n",
       "    }\n",
       "\n",
       "    .dataframe tbody tr th {\n",
       "        vertical-align: top;\n",
       "    }\n",
       "\n",
       "    .dataframe thead th {\n",
       "        text-align: right;\n",
       "    }\n",
       "</style>\n",
       "<table border=\"1\" class=\"dataframe\">\n",
       "  <thead>\n",
       "    <tr style=\"text-align: right;\">\n",
       "      <th></th>\n",
       "      <th>Unnamed: 0</th>\n",
       "      <th>trans_date_trans_time</th>\n",
       "      <th>cc_num</th>\n",
       "      <th>merchant</th>\n",
       "      <th>category</th>\n",
       "      <th>amt</th>\n",
       "      <th>first</th>\n",
       "      <th>last</th>\n",
       "      <th>gender</th>\n",
       "      <th>street</th>\n",
       "      <th>...</th>\n",
       "      <th>lat</th>\n",
       "      <th>long</th>\n",
       "      <th>city_pop</th>\n",
       "      <th>job</th>\n",
       "      <th>dob</th>\n",
       "      <th>trans_num</th>\n",
       "      <th>unix_time</th>\n",
       "      <th>merch_lat</th>\n",
       "      <th>merch_long</th>\n",
       "      <th>is_fraud</th>\n",
       "    </tr>\n",
       "  </thead>\n",
       "  <tbody>\n",
       "    <tr>\n",
       "      <th>0</th>\n",
       "      <td>0</td>\n",
       "      <td>2019-01-01 00:00:18</td>\n",
       "      <td>2703186189652095</td>\n",
       "      <td>fraud_Rippin, Kub and Mann</td>\n",
       "      <td>misc_net</td>\n",
       "      <td>4.97</td>\n",
       "      <td>Jennifer</td>\n",
       "      <td>Banks</td>\n",
       "      <td>F</td>\n",
       "      <td>561 Perry Cove</td>\n",
       "      <td>...</td>\n",
       "      <td>36.0788</td>\n",
       "      <td>-81.1781</td>\n",
       "      <td>3495</td>\n",
       "      <td>Psychologist, counselling</td>\n",
       "      <td>1988-03-09</td>\n",
       "      <td>0b242abb623afc578575680df30655b9</td>\n",
       "      <td>1325376018</td>\n",
       "      <td>36.011293</td>\n",
       "      <td>-82.048315</td>\n",
       "      <td>0</td>\n",
       "    </tr>\n",
       "    <tr>\n",
       "      <th>1</th>\n",
       "      <td>1</td>\n",
       "      <td>2019-01-01 00:00:44</td>\n",
       "      <td>630423337322</td>\n",
       "      <td>fraud_Heller, Gutmann and Zieme</td>\n",
       "      <td>grocery_pos</td>\n",
       "      <td>107.23</td>\n",
       "      <td>Stephanie</td>\n",
       "      <td>Gill</td>\n",
       "      <td>F</td>\n",
       "      <td>43039 Riley Greens Suite 393</td>\n",
       "      <td>...</td>\n",
       "      <td>48.8878</td>\n",
       "      <td>-118.2105</td>\n",
       "      <td>149</td>\n",
       "      <td>Special educational needs teacher</td>\n",
       "      <td>1978-06-21</td>\n",
       "      <td>1f76529f8574734946361c461b024d99</td>\n",
       "      <td>1325376044</td>\n",
       "      <td>49.159047</td>\n",
       "      <td>-118.186462</td>\n",
       "      <td>0</td>\n",
       "    </tr>\n",
       "    <tr>\n",
       "      <th>2</th>\n",
       "      <td>2</td>\n",
       "      <td>2019-01-01 00:00:51</td>\n",
       "      <td>38859492057661</td>\n",
       "      <td>fraud_Lind-Buckridge</td>\n",
       "      <td>entertainment</td>\n",
       "      <td>220.11</td>\n",
       "      <td>Edward</td>\n",
       "      <td>Sanchez</td>\n",
       "      <td>M</td>\n",
       "      <td>594 White Dale Suite 530</td>\n",
       "      <td>...</td>\n",
       "      <td>42.1808</td>\n",
       "      <td>-112.2620</td>\n",
       "      <td>4154</td>\n",
       "      <td>Nature conservation officer</td>\n",
       "      <td>1962-01-19</td>\n",
       "      <td>a1a22d70485983eac12b5b88dad1cf95</td>\n",
       "      <td>1325376051</td>\n",
       "      <td>43.150704</td>\n",
       "      <td>-112.154481</td>\n",
       "      <td>0</td>\n",
       "    </tr>\n",
       "    <tr>\n",
       "      <th>3</th>\n",
       "      <td>3</td>\n",
       "      <td>2019-01-01 00:01:16</td>\n",
       "      <td>3534093764340240</td>\n",
       "      <td>fraud_Kutch, Hermiston and Farrell</td>\n",
       "      <td>gas_transport</td>\n",
       "      <td>45.00</td>\n",
       "      <td>Jeremy</td>\n",
       "      <td>White</td>\n",
       "      <td>M</td>\n",
       "      <td>9443 Cynthia Court Apt. 038</td>\n",
       "      <td>...</td>\n",
       "      <td>46.2306</td>\n",
       "      <td>-112.1138</td>\n",
       "      <td>1939</td>\n",
       "      <td>Patent attorney</td>\n",
       "      <td>1967-01-12</td>\n",
       "      <td>6b849c168bdad6f867558c3793159a81</td>\n",
       "      <td>1325376076</td>\n",
       "      <td>47.034331</td>\n",
       "      <td>-112.561071</td>\n",
       "      <td>0</td>\n",
       "    </tr>\n",
       "    <tr>\n",
       "      <th>4</th>\n",
       "      <td>4</td>\n",
       "      <td>2019-01-01 00:03:06</td>\n",
       "      <td>375534208663984</td>\n",
       "      <td>fraud_Keeling-Crist</td>\n",
       "      <td>misc_pos</td>\n",
       "      <td>41.96</td>\n",
       "      <td>Tyler</td>\n",
       "      <td>Garcia</td>\n",
       "      <td>M</td>\n",
       "      <td>408 Bradley Rest</td>\n",
       "      <td>...</td>\n",
       "      <td>38.4207</td>\n",
       "      <td>-79.4629</td>\n",
       "      <td>99</td>\n",
       "      <td>Dance movement psychotherapist</td>\n",
       "      <td>1986-03-28</td>\n",
       "      <td>a41d7549acf90789359a9aa5346dcb46</td>\n",
       "      <td>1325376186</td>\n",
       "      <td>38.674999</td>\n",
       "      <td>-78.632459</td>\n",
       "      <td>0</td>\n",
       "    </tr>\n",
       "  </tbody>\n",
       "</table>\n",
       "<p>5 rows × 23 columns</p>\n",
       "</div>"
      ],
      "text/plain": [
       "   Unnamed: 0 trans_date_trans_time            cc_num  \\\n",
       "0           0   2019-01-01 00:00:18  2703186189652095   \n",
       "1           1   2019-01-01 00:00:44      630423337322   \n",
       "2           2   2019-01-01 00:00:51    38859492057661   \n",
       "3           3   2019-01-01 00:01:16  3534093764340240   \n",
       "4           4   2019-01-01 00:03:06   375534208663984   \n",
       "\n",
       "                             merchant       category     amt      first  \\\n",
       "0          fraud_Rippin, Kub and Mann       misc_net    4.97   Jennifer   \n",
       "1     fraud_Heller, Gutmann and Zieme    grocery_pos  107.23  Stephanie   \n",
       "2                fraud_Lind-Buckridge  entertainment  220.11     Edward   \n",
       "3  fraud_Kutch, Hermiston and Farrell  gas_transport   45.00     Jeremy   \n",
       "4                 fraud_Keeling-Crist       misc_pos   41.96      Tyler   \n",
       "\n",
       "      last gender                        street  ...      lat      long  \\\n",
       "0    Banks      F                561 Perry Cove  ...  36.0788  -81.1781   \n",
       "1     Gill      F  43039 Riley Greens Suite 393  ...  48.8878 -118.2105   \n",
       "2  Sanchez      M      594 White Dale Suite 530  ...  42.1808 -112.2620   \n",
       "3    White      M   9443 Cynthia Court Apt. 038  ...  46.2306 -112.1138   \n",
       "4   Garcia      M              408 Bradley Rest  ...  38.4207  -79.4629   \n",
       "\n",
       "   city_pop                                job         dob  \\\n",
       "0      3495          Psychologist, counselling  1988-03-09   \n",
       "1       149  Special educational needs teacher  1978-06-21   \n",
       "2      4154        Nature conservation officer  1962-01-19   \n",
       "3      1939                    Patent attorney  1967-01-12   \n",
       "4        99     Dance movement psychotherapist  1986-03-28   \n",
       "\n",
       "                          trans_num   unix_time  merch_lat  merch_long  \\\n",
       "0  0b242abb623afc578575680df30655b9  1325376018  36.011293  -82.048315   \n",
       "1  1f76529f8574734946361c461b024d99  1325376044  49.159047 -118.186462   \n",
       "2  a1a22d70485983eac12b5b88dad1cf95  1325376051  43.150704 -112.154481   \n",
       "3  6b849c168bdad6f867558c3793159a81  1325376076  47.034331 -112.561071   \n",
       "4  a41d7549acf90789359a9aa5346dcb46  1325376186  38.674999  -78.632459   \n",
       "\n",
       "   is_fraud  \n",
       "0         0  \n",
       "1         0  \n",
       "2         0  \n",
       "3         0  \n",
       "4         0  \n",
       "\n",
       "[5 rows x 23 columns]"
      ]
     },
     "execution_count": 5,
     "metadata": {},
     "output_type": "execute_result"
    }
   ],
   "source": [
    "# create a new dataframe\n",
    "df1 = pd.concat([dataset_train,dataset_test], axis=0)\n",
    "print(\"New dataset: \",df1.shape)\n",
    "df1.head()"
   ]
  },
  {
   "cell_type": "code",
   "execution_count": 6,
   "id": "5103a251",
   "metadata": {},
   "outputs": [
    {
     "data": {
      "text/plain": [
       "Unnamed: 0               1296675\n",
       "trans_date_trans_time    1819551\n",
       "cc_num                       999\n",
       "merchant                     693\n",
       "category                      14\n",
       "amt                        60616\n",
       "first                        355\n",
       "last                         486\n",
       "gender                         2\n",
       "street                       999\n",
       "city                         906\n",
       "state                         51\n",
       "zip                          985\n",
       "lat                          983\n",
       "long                         983\n",
       "city_pop                     891\n",
       "job                          497\n",
       "dob                          984\n",
       "trans_num                1852394\n",
       "unix_time                1819583\n",
       "merch_lat                1754157\n",
       "merch_long               1809753\n",
       "is_fraud                       2\n",
       "dtype: int64"
      ]
     },
     "execution_count": 6,
     "metadata": {},
     "output_type": "execute_result"
    }
   ],
   "source": [
    "df1.nunique()"
   ]
  },
  {
   "cell_type": "code",
   "execution_count": 7,
   "id": "021d0463",
   "metadata": {},
   "outputs": [
    {
     "data": {
      "text/html": [
       "<div>\n",
       "<style scoped>\n",
       "    .dataframe tbody tr th:only-of-type {\n",
       "        vertical-align: middle;\n",
       "    }\n",
       "\n",
       "    .dataframe tbody tr th {\n",
       "        vertical-align: top;\n",
       "    }\n",
       "\n",
       "    .dataframe thead th {\n",
       "        text-align: right;\n",
       "    }\n",
       "</style>\n",
       "<table border=\"1\" class=\"dataframe\">\n",
       "  <thead>\n",
       "    <tr style=\"text-align: right;\">\n",
       "      <th></th>\n",
       "      <th>cc_num</th>\n",
       "      <th>category</th>\n",
       "      <th>amt</th>\n",
       "      <th>gender</th>\n",
       "      <th>state</th>\n",
       "      <th>city_pop</th>\n",
       "      <th>unix_time</th>\n",
       "      <th>is_fraud</th>\n",
       "    </tr>\n",
       "  </thead>\n",
       "  <tbody>\n",
       "    <tr>\n",
       "      <th>0</th>\n",
       "      <td>2703186189652095</td>\n",
       "      <td>misc_net</td>\n",
       "      <td>4.97</td>\n",
       "      <td>F</td>\n",
       "      <td>NC</td>\n",
       "      <td>3495</td>\n",
       "      <td>1325376018</td>\n",
       "      <td>0</td>\n",
       "    </tr>\n",
       "    <tr>\n",
       "      <th>1</th>\n",
       "      <td>630423337322</td>\n",
       "      <td>grocery_pos</td>\n",
       "      <td>107.23</td>\n",
       "      <td>F</td>\n",
       "      <td>WA</td>\n",
       "      <td>149</td>\n",
       "      <td>1325376044</td>\n",
       "      <td>0</td>\n",
       "    </tr>\n",
       "    <tr>\n",
       "      <th>2</th>\n",
       "      <td>38859492057661</td>\n",
       "      <td>entertainment</td>\n",
       "      <td>220.11</td>\n",
       "      <td>M</td>\n",
       "      <td>ID</td>\n",
       "      <td>4154</td>\n",
       "      <td>1325376051</td>\n",
       "      <td>0</td>\n",
       "    </tr>\n",
       "    <tr>\n",
       "      <th>3</th>\n",
       "      <td>3534093764340240</td>\n",
       "      <td>gas_transport</td>\n",
       "      <td>45.00</td>\n",
       "      <td>M</td>\n",
       "      <td>MT</td>\n",
       "      <td>1939</td>\n",
       "      <td>1325376076</td>\n",
       "      <td>0</td>\n",
       "    </tr>\n",
       "    <tr>\n",
       "      <th>4</th>\n",
       "      <td>375534208663984</td>\n",
       "      <td>misc_pos</td>\n",
       "      <td>41.96</td>\n",
       "      <td>M</td>\n",
       "      <td>VA</td>\n",
       "      <td>99</td>\n",
       "      <td>1325376186</td>\n",
       "      <td>0</td>\n",
       "    </tr>\n",
       "  </tbody>\n",
       "</table>\n",
       "</div>"
      ],
      "text/plain": [
       "             cc_num       category     amt gender state  city_pop   unix_time  \\\n",
       "0  2703186189652095       misc_net    4.97      F    NC      3495  1325376018   \n",
       "1      630423337322    grocery_pos  107.23      F    WA       149  1325376044   \n",
       "2    38859492057661  entertainment  220.11      M    ID      4154  1325376051   \n",
       "3  3534093764340240  gas_transport   45.00      M    MT      1939  1325376076   \n",
       "4   375534208663984       misc_pos   41.96      M    VA        99  1325376186   \n",
       "\n",
       "   is_fraud  \n",
       "0         0  \n",
       "1         0  \n",
       "2         0  \n",
       "3         0  \n",
       "4         0  "
      ]
     },
     "execution_count": 7,
     "metadata": {},
     "output_type": "execute_result"
    }
   ],
   "source": [
    "df2 = df1.drop(['Unnamed: 0','trans_date_trans_time','merchant','first','last','street','city','zip','lat','long','job','dob',\n",
    "                'trans_num','merch_lat','merch_long'],axis='columns')\n",
    "df2.head()"
   ]
  },
  {
   "cell_type": "code",
   "execution_count": 8,
   "id": "aec73b08",
   "metadata": {},
   "outputs": [
    {
     "data": {
      "text/html": [
       "<div>\n",
       "<style scoped>\n",
       "    .dataframe tbody tr th:only-of-type {\n",
       "        vertical-align: middle;\n",
       "    }\n",
       "\n",
       "    .dataframe tbody tr th {\n",
       "        vertical-align: top;\n",
       "    }\n",
       "\n",
       "    .dataframe thead th {\n",
       "        text-align: right;\n",
       "    }\n",
       "</style>\n",
       "<table border=\"1\" class=\"dataframe\">\n",
       "  <thead>\n",
       "    <tr style=\"text-align: right;\">\n",
       "      <th></th>\n",
       "      <th>cc_num</th>\n",
       "      <th>category</th>\n",
       "      <th>amt</th>\n",
       "      <th>gender</th>\n",
       "      <th>state</th>\n",
       "      <th>city_pop</th>\n",
       "      <th>unix_time</th>\n",
       "      <th>is_fraud</th>\n",
       "    </tr>\n",
       "  </thead>\n",
       "  <tbody>\n",
       "    <tr>\n",
       "      <th>0</th>\n",
       "      <td>2703186189652095</td>\n",
       "      <td>misc_net</td>\n",
       "      <td>4.97</td>\n",
       "      <td>0</td>\n",
       "      <td>NC</td>\n",
       "      <td>3495</td>\n",
       "      <td>1325376018</td>\n",
       "      <td>0</td>\n",
       "    </tr>\n",
       "    <tr>\n",
       "      <th>1</th>\n",
       "      <td>630423337322</td>\n",
       "      <td>grocery_pos</td>\n",
       "      <td>107.23</td>\n",
       "      <td>0</td>\n",
       "      <td>WA</td>\n",
       "      <td>149</td>\n",
       "      <td>1325376044</td>\n",
       "      <td>0</td>\n",
       "    </tr>\n",
       "    <tr>\n",
       "      <th>2</th>\n",
       "      <td>38859492057661</td>\n",
       "      <td>entertainment</td>\n",
       "      <td>220.11</td>\n",
       "      <td>1</td>\n",
       "      <td>ID</td>\n",
       "      <td>4154</td>\n",
       "      <td>1325376051</td>\n",
       "      <td>0</td>\n",
       "    </tr>\n",
       "    <tr>\n",
       "      <th>3</th>\n",
       "      <td>3534093764340240</td>\n",
       "      <td>gas_transport</td>\n",
       "      <td>45.00</td>\n",
       "      <td>1</td>\n",
       "      <td>MT</td>\n",
       "      <td>1939</td>\n",
       "      <td>1325376076</td>\n",
       "      <td>0</td>\n",
       "    </tr>\n",
       "    <tr>\n",
       "      <th>4</th>\n",
       "      <td>375534208663984</td>\n",
       "      <td>misc_pos</td>\n",
       "      <td>41.96</td>\n",
       "      <td>1</td>\n",
       "      <td>VA</td>\n",
       "      <td>99</td>\n",
       "      <td>1325376186</td>\n",
       "      <td>0</td>\n",
       "    </tr>\n",
       "  </tbody>\n",
       "</table>\n",
       "</div>"
      ],
      "text/plain": [
       "             cc_num       category     amt  gender state  city_pop  \\\n",
       "0  2703186189652095       misc_net    4.97       0    NC      3495   \n",
       "1      630423337322    grocery_pos  107.23       0    WA       149   \n",
       "2    38859492057661  entertainment  220.11       1    ID      4154   \n",
       "3  3534093764340240  gas_transport   45.00       1    MT      1939   \n",
       "4   375534208663984       misc_pos   41.96       1    VA        99   \n",
       "\n",
       "    unix_time  is_fraud  \n",
       "0  1325376018         0  \n",
       "1  1325376044         0  \n",
       "2  1325376051         0  \n",
       "3  1325376076         0  \n",
       "4  1325376186         0  "
      ]
     },
     "execution_count": 8,
     "metadata": {},
     "output_type": "execute_result"
    }
   ],
   "source": [
    "df2['gender'] = df2['gender'].replace({'F': 0, 'M': 1})\n",
    "df2.head()"
   ]
  },
  {
   "cell_type": "code",
   "execution_count": 9,
   "id": "fb1daec8",
   "metadata": {},
   "outputs": [
    {
     "data": {
      "text/plain": [
       "cc_num       0\n",
       "category     0\n",
       "amt          0\n",
       "gender       0\n",
       "state        0\n",
       "city_pop     0\n",
       "unix_time    0\n",
       "is_fraud     0\n",
       "dtype: int64"
      ]
     },
     "execution_count": 9,
     "metadata": {},
     "output_type": "execute_result"
    }
   ],
   "source": [
    "#find null values\n",
    "df2.isnull().sum()"
   ]
  },
  {
   "cell_type": "code",
   "execution_count": 10,
   "id": "ddab7920",
   "metadata": {},
   "outputs": [
    {
     "data": {
      "text/plain": [
       "array(['misc_net', 'grocery_pos', 'entertainment', 'gas_transport',\n",
       "       'misc_pos', 'grocery_net', 'shopping_net', 'shopping_pos',\n",
       "       'food_dining', 'personal_care', 'health_fitness', 'travel',\n",
       "       'kids_pets', 'home'], dtype=object)"
      ]
     },
     "execution_count": 10,
     "metadata": {},
     "output_type": "execute_result"
    }
   ],
   "source": [
    "df2['category'].unique()"
   ]
  },
  {
   "cell_type": "code",
   "execution_count": 11,
   "id": "d005d070",
   "metadata": {},
   "outputs": [
    {
     "data": {
      "text/plain": [
       "array(['NC', 'WA', 'ID', 'MT', 'VA', 'PA', 'KS', 'TN', 'IA', 'WV', 'FL',\n",
       "       'CA', 'NM', 'NJ', 'OK', 'IN', 'MA', 'TX', 'WI', 'MI', 'WY', 'HI',\n",
       "       'NE', 'OR', 'LA', 'DC', 'KY', 'NY', 'MS', 'UT', 'AL', 'AR', 'MD',\n",
       "       'GA', 'ME', 'AZ', 'MN', 'OH', 'CO', 'VT', 'MO', 'SC', 'NV', 'IL',\n",
       "       'NH', 'SD', 'AK', 'ND', 'CT', 'RI', 'DE'], dtype=object)"
      ]
     },
     "execution_count": 11,
     "metadata": {},
     "output_type": "execute_result"
    }
   ],
   "source": [
    "df2['state'].unique()"
   ]
  },
  {
   "cell_type": "code",
   "execution_count": 12,
   "id": "f5768ffd",
   "metadata": {},
   "outputs": [
    {
     "data": {
      "text/plain": [
       "cc_num           999\n",
       "category          14\n",
       "amt            60616\n",
       "gender             2\n",
       "state             51\n",
       "city_pop         891\n",
       "unix_time    1819583\n",
       "is_fraud           2\n",
       "dtype: int64"
      ]
     },
     "execution_count": 12,
     "metadata": {},
     "output_type": "execute_result"
    }
   ],
   "source": [
    "df2.nunique()"
   ]
  },
  {
   "cell_type": "markdown",
   "id": "b9ce7254",
   "metadata": {},
   "source": [
    "### Resolving the high dimensionality problem "
   ]
  },
  {
   "cell_type": "markdown",
   "id": "0e9dccc4",
   "metadata": {},
   "source": [
    "#### Dealing with cc numbers"
   ]
  },
  {
   "cell_type": "code",
   "execution_count": 13,
   "id": "785e1512",
   "metadata": {},
   "outputs": [],
   "source": [
    "import re\n",
    "df3 = df2.copy()"
   ]
  },
  {
   "cell_type": "code",
   "execution_count": 14,
   "id": "860adf5c",
   "metadata": {},
   "outputs": [],
   "source": [
    "# define regex patterns for each card type\n",
    "visa_regex = '^4[0-9]{12}(?:[0-9]{3})?$'\n",
    "mastercard_regex = '^5[1-5][0-9]{14}$'\n",
    "amex_regex = '^3[47][0-9]{13}$'\n",
    "discover_regex = '^6(?:011|5[0-9]{2})[0-9]{12}$'\n",
    "diners_regex = '^3(?:0[0-5]|[68][0-9])[0-9]{11}$'\n",
    "jcb_regex = '^(?:2131|1800|35\\d{3})\\d{11}$'"
   ]
  },
  {
   "cell_type": "code",
   "execution_count": 15,
   "id": "7832d441",
   "metadata": {},
   "outputs": [],
   "source": [
    "# create a function to match each card type\n",
    "def get_card_type(cc_num):\n",
    "    if re.match(visa_regex, cc_num):\n",
    "        return 'Visa'\n",
    "    elif re.match(mastercard_regex, cc_num):\n",
    "        return 'MasterCard'\n",
    "    elif re.match(amex_regex, cc_num):\n",
    "        return 'American Express'\n",
    "    elif re.match(discover_regex, cc_num):\n",
    "        return 'Discover'\n",
    "    elif re.match(diners_regex, cc_num):\n",
    "        return 'Diners Club - Carte Blanche'\n",
    "    elif re.match(jcb_regex, cc_num):\n",
    "        return 'JCB'\n",
    "    else:\n",
    "        return 'Other'"
   ]
  },
  {
   "cell_type": "code",
   "execution_count": 16,
   "id": "5adbe615",
   "metadata": {},
   "outputs": [],
   "source": [
    "# apply the get_card_type function to the cc_num column\n",
    "df3['cc_type'] = df3['cc_num'].astype(str).apply(get_card_type)\n",
    "\n",
    "# drop the card number column\n",
    "df3 = df3.drop('cc_num', axis=1)"
   ]
  },
  {
   "cell_type": "code",
   "execution_count": 17,
   "id": "a2fcd3b8",
   "metadata": {},
   "outputs": [
    {
     "data": {
      "text/plain": [
       "array(['Other', 'Diners Club - Carte Blanche', 'JCB', 'American Express',\n",
       "       'Visa', 'Discover', 'MasterCard'], dtype=object)"
      ]
     },
     "execution_count": 17,
     "metadata": {},
     "output_type": "execute_result"
    }
   ],
   "source": [
    "df3['cc_type'].unique()"
   ]
  },
  {
   "cell_type": "code",
   "execution_count": 18,
   "id": "4e5610a9",
   "metadata": {},
   "outputs": [
    {
     "data": {
      "text/html": [
       "<div>\n",
       "<style scoped>\n",
       "    .dataframe tbody tr th:only-of-type {\n",
       "        vertical-align: middle;\n",
       "    }\n",
       "\n",
       "    .dataframe tbody tr th {\n",
       "        vertical-align: top;\n",
       "    }\n",
       "\n",
       "    .dataframe thead th {\n",
       "        text-align: right;\n",
       "    }\n",
       "</style>\n",
       "<table border=\"1\" class=\"dataframe\">\n",
       "  <thead>\n",
       "    <tr style=\"text-align: right;\">\n",
       "      <th></th>\n",
       "      <th>category</th>\n",
       "      <th>amt</th>\n",
       "      <th>gender</th>\n",
       "      <th>state</th>\n",
       "      <th>city_pop</th>\n",
       "      <th>unix_time</th>\n",
       "      <th>is_fraud</th>\n",
       "      <th>cc_type</th>\n",
       "    </tr>\n",
       "  </thead>\n",
       "  <tbody>\n",
       "    <tr>\n",
       "      <th>0</th>\n",
       "      <td>misc_net</td>\n",
       "      <td>4.97</td>\n",
       "      <td>0</td>\n",
       "      <td>NC</td>\n",
       "      <td>3495</td>\n",
       "      <td>1325376018</td>\n",
       "      <td>0</td>\n",
       "      <td>Other</td>\n",
       "    </tr>\n",
       "    <tr>\n",
       "      <th>1</th>\n",
       "      <td>grocery_pos</td>\n",
       "      <td>107.23</td>\n",
       "      <td>0</td>\n",
       "      <td>WA</td>\n",
       "      <td>149</td>\n",
       "      <td>1325376044</td>\n",
       "      <td>0</td>\n",
       "      <td>Other</td>\n",
       "    </tr>\n",
       "    <tr>\n",
       "      <th>2</th>\n",
       "      <td>entertainment</td>\n",
       "      <td>220.11</td>\n",
       "      <td>1</td>\n",
       "      <td>ID</td>\n",
       "      <td>4154</td>\n",
       "      <td>1325376051</td>\n",
       "      <td>0</td>\n",
       "      <td>Diners Club - Carte Blanche</td>\n",
       "    </tr>\n",
       "    <tr>\n",
       "      <th>3</th>\n",
       "      <td>gas_transport</td>\n",
       "      <td>45.00</td>\n",
       "      <td>1</td>\n",
       "      <td>MT</td>\n",
       "      <td>1939</td>\n",
       "      <td>1325376076</td>\n",
       "      <td>0</td>\n",
       "      <td>JCB</td>\n",
       "    </tr>\n",
       "    <tr>\n",
       "      <th>4</th>\n",
       "      <td>misc_pos</td>\n",
       "      <td>41.96</td>\n",
       "      <td>1</td>\n",
       "      <td>VA</td>\n",
       "      <td>99</td>\n",
       "      <td>1325376186</td>\n",
       "      <td>0</td>\n",
       "      <td>American Express</td>\n",
       "    </tr>\n",
       "  </tbody>\n",
       "</table>\n",
       "</div>"
      ],
      "text/plain": [
       "        category     amt  gender state  city_pop   unix_time  is_fraud  \\\n",
       "0       misc_net    4.97       0    NC      3495  1325376018         0   \n",
       "1    grocery_pos  107.23       0    WA       149  1325376044         0   \n",
       "2  entertainment  220.11       1    ID      4154  1325376051         0   \n",
       "3  gas_transport   45.00       1    MT      1939  1325376076         0   \n",
       "4       misc_pos   41.96       1    VA        99  1325376186         0   \n",
       "\n",
       "                       cc_type  \n",
       "0                        Other  \n",
       "1                        Other  \n",
       "2  Diners Club - Carte Blanche  \n",
       "3                          JCB  \n",
       "4             American Express  "
      ]
     },
     "execution_count": 18,
     "metadata": {},
     "output_type": "execute_result"
    }
   ],
   "source": [
    "df3.head()"
   ]
  },
  {
   "cell_type": "code",
   "execution_count": 19,
   "id": "18424c6f",
   "metadata": {},
   "outputs": [
    {
     "data": {
      "text/plain": [
       "category          14\n",
       "amt            60616\n",
       "gender             2\n",
       "state             51\n",
       "city_pop         891\n",
       "unix_time    1819583\n",
       "is_fraud           2\n",
       "cc_type            7\n",
       "dtype: int64"
      ]
     },
     "execution_count": 19,
     "metadata": {},
     "output_type": "execute_result"
    }
   ],
   "source": [
    "df3.nunique()"
   ]
  },
  {
   "cell_type": "markdown",
   "id": "9066efe4",
   "metadata": {},
   "source": [
    "#### Dealing with unix time"
   ]
  },
  {
   "cell_type": "code",
   "execution_count": 20,
   "id": "8dab67c6",
   "metadata": {},
   "outputs": [],
   "source": [
    "import datetime\n",
    "df4 = df3.copy()"
   ]
  },
  {
   "cell_type": "code",
   "execution_count": 21,
   "id": "eeeb8cc6",
   "metadata": {},
   "outputs": [
    {
     "data": {
      "text/html": [
       "<div>\n",
       "<style scoped>\n",
       "    .dataframe tbody tr th:only-of-type {\n",
       "        vertical-align: middle;\n",
       "    }\n",
       "\n",
       "    .dataframe tbody tr th {\n",
       "        vertical-align: top;\n",
       "    }\n",
       "\n",
       "    .dataframe thead th {\n",
       "        text-align: right;\n",
       "    }\n",
       "</style>\n",
       "<table border=\"1\" class=\"dataframe\">\n",
       "  <thead>\n",
       "    <tr style=\"text-align: right;\">\n",
       "      <th></th>\n",
       "      <th>category</th>\n",
       "      <th>amt</th>\n",
       "      <th>gender</th>\n",
       "      <th>state</th>\n",
       "      <th>city_pop</th>\n",
       "      <th>is_fraud</th>\n",
       "      <th>cc_type</th>\n",
       "      <th>day</th>\n",
       "      <th>hour</th>\n",
       "    </tr>\n",
       "  </thead>\n",
       "  <tbody>\n",
       "    <tr>\n",
       "      <th>555714</th>\n",
       "      <td>health_fitness</td>\n",
       "      <td>43.77</td>\n",
       "      <td>1</td>\n",
       "      <td>MO</td>\n",
       "      <td>519</td>\n",
       "      <td>0</td>\n",
       "      <td>Diners Club - Carte Blanche</td>\n",
       "      <td>Tuesday</td>\n",
       "      <td>23</td>\n",
       "    </tr>\n",
       "    <tr>\n",
       "      <th>555715</th>\n",
       "      <td>kids_pets</td>\n",
       "      <td>111.84</td>\n",
       "      <td>1</td>\n",
       "      <td>TX</td>\n",
       "      <td>28739</td>\n",
       "      <td>0</td>\n",
       "      <td>JCB</td>\n",
       "      <td>Tuesday</td>\n",
       "      <td>23</td>\n",
       "    </tr>\n",
       "    <tr>\n",
       "      <th>555716</th>\n",
       "      <td>kids_pets</td>\n",
       "      <td>86.88</td>\n",
       "      <td>0</td>\n",
       "      <td>WA</td>\n",
       "      <td>3684</td>\n",
       "      <td>0</td>\n",
       "      <td>Discover</td>\n",
       "      <td>Tuesday</td>\n",
       "      <td>23</td>\n",
       "    </tr>\n",
       "    <tr>\n",
       "      <th>555717</th>\n",
       "      <td>travel</td>\n",
       "      <td>7.99</td>\n",
       "      <td>1</td>\n",
       "      <td>ID</td>\n",
       "      <td>129</td>\n",
       "      <td>0</td>\n",
       "      <td>Visa</td>\n",
       "      <td>Tuesday</td>\n",
       "      <td>23</td>\n",
       "    </tr>\n",
       "    <tr>\n",
       "      <th>555718</th>\n",
       "      <td>entertainment</td>\n",
       "      <td>38.13</td>\n",
       "      <td>1</td>\n",
       "      <td>OK</td>\n",
       "      <td>116001</td>\n",
       "      <td>0</td>\n",
       "      <td>Visa</td>\n",
       "      <td>Tuesday</td>\n",
       "      <td>23</td>\n",
       "    </tr>\n",
       "  </tbody>\n",
       "</table>\n",
       "</div>"
      ],
      "text/plain": [
       "              category     amt  gender state  city_pop  is_fraud  \\\n",
       "555714  health_fitness   43.77       1    MO       519         0   \n",
       "555715       kids_pets  111.84       1    TX     28739         0   \n",
       "555716       kids_pets   86.88       0    WA      3684         0   \n",
       "555717          travel    7.99       1    ID       129         0   \n",
       "555718   entertainment   38.13       1    OK    116001         0   \n",
       "\n",
       "                            cc_type      day  hour  \n",
       "555714  Diners Club - Carte Blanche  Tuesday    23  \n",
       "555715                          JCB  Tuesday    23  \n",
       "555716                     Discover  Tuesday    23  \n",
       "555717                         Visa  Tuesday    23  \n",
       "555718                         Visa  Tuesday    23  "
      ]
     },
     "execution_count": 21,
     "metadata": {},
     "output_type": "execute_result"
    }
   ],
   "source": [
    "# Convert Unix time to datetime format\n",
    "df4['datetime'] = pd.to_datetime(df4['unix_time'], unit='s')\n",
    "\n",
    "# Extract the day of the week from datetime and create a new column\n",
    "df4['day'] = df4['datetime'].apply(lambda x: x.strftime('%A'))\n",
    "\n",
    "# Extract the hour of the day\n",
    "df4['hour'] = df4['datetime'].dt.hour\n",
    "\n",
    "# Drop the old 'unix_time' and 'datetime' columns\n",
    "df4.drop(['unix_time', 'datetime'], axis=1, inplace=True)\n",
    "\n",
    "df4.tail()"
   ]
  },
  {
   "cell_type": "code",
   "execution_count": 22,
   "id": "5431a450",
   "metadata": {},
   "outputs": [
    {
     "data": {
      "text/html": [
       "<div>\n",
       "<style scoped>\n",
       "    .dataframe tbody tr th:only-of-type {\n",
       "        vertical-align: middle;\n",
       "    }\n",
       "\n",
       "    .dataframe tbody tr th {\n",
       "        vertical-align: top;\n",
       "    }\n",
       "\n",
       "    .dataframe thead th {\n",
       "        text-align: right;\n",
       "    }\n",
       "</style>\n",
       "<table border=\"1\" class=\"dataframe\">\n",
       "  <thead>\n",
       "    <tr style=\"text-align: right;\">\n",
       "      <th></th>\n",
       "      <th>category</th>\n",
       "      <th>amt</th>\n",
       "      <th>gender</th>\n",
       "      <th>state</th>\n",
       "      <th>city_pop</th>\n",
       "      <th>is_fraud</th>\n",
       "      <th>cc_type</th>\n",
       "      <th>day</th>\n",
       "      <th>hour</th>\n",
       "    </tr>\n",
       "  </thead>\n",
       "  <tbody>\n",
       "    <tr>\n",
       "      <th>0</th>\n",
       "      <td>misc_net</td>\n",
       "      <td>4.97</td>\n",
       "      <td>0</td>\n",
       "      <td>NC</td>\n",
       "      <td>3495</td>\n",
       "      <td>0</td>\n",
       "      <td>Other</td>\n",
       "      <td>Sunday</td>\n",
       "      <td>0</td>\n",
       "    </tr>\n",
       "    <tr>\n",
       "      <th>1</th>\n",
       "      <td>grocery_pos</td>\n",
       "      <td>107.23</td>\n",
       "      <td>0</td>\n",
       "      <td>WA</td>\n",
       "      <td>149</td>\n",
       "      <td>0</td>\n",
       "      <td>Other</td>\n",
       "      <td>Sunday</td>\n",
       "      <td>0</td>\n",
       "    </tr>\n",
       "    <tr>\n",
       "      <th>2</th>\n",
       "      <td>entertainment</td>\n",
       "      <td>220.11</td>\n",
       "      <td>1</td>\n",
       "      <td>ID</td>\n",
       "      <td>4154</td>\n",
       "      <td>0</td>\n",
       "      <td>Diners Club - Carte Blanche</td>\n",
       "      <td>Sunday</td>\n",
       "      <td>0</td>\n",
       "    </tr>\n",
       "    <tr>\n",
       "      <th>3</th>\n",
       "      <td>gas_transport</td>\n",
       "      <td>45.00</td>\n",
       "      <td>1</td>\n",
       "      <td>MT</td>\n",
       "      <td>1939</td>\n",
       "      <td>0</td>\n",
       "      <td>JCB</td>\n",
       "      <td>Sunday</td>\n",
       "      <td>0</td>\n",
       "    </tr>\n",
       "    <tr>\n",
       "      <th>4</th>\n",
       "      <td>misc_pos</td>\n",
       "      <td>41.96</td>\n",
       "      <td>1</td>\n",
       "      <td>VA</td>\n",
       "      <td>99</td>\n",
       "      <td>0</td>\n",
       "      <td>American Express</td>\n",
       "      <td>Sunday</td>\n",
       "      <td>0</td>\n",
       "    </tr>\n",
       "  </tbody>\n",
       "</table>\n",
       "</div>"
      ],
      "text/plain": [
       "        category     amt  gender state  city_pop  is_fraud  \\\n",
       "0       misc_net    4.97       0    NC      3495         0   \n",
       "1    grocery_pos  107.23       0    WA       149         0   \n",
       "2  entertainment  220.11       1    ID      4154         0   \n",
       "3  gas_transport   45.00       1    MT      1939         0   \n",
       "4       misc_pos   41.96       1    VA        99         0   \n",
       "\n",
       "                       cc_type     day  hour  \n",
       "0                        Other  Sunday     0  \n",
       "1                        Other  Sunday     0  \n",
       "2  Diners Club - Carte Blanche  Sunday     0  \n",
       "3                          JCB  Sunday     0  \n",
       "4             American Express  Sunday     0  "
      ]
     },
     "execution_count": 22,
     "metadata": {},
     "output_type": "execute_result"
    }
   ],
   "source": [
    "df4.head()"
   ]
  },
  {
   "cell_type": "code",
   "execution_count": 23,
   "id": "a8d0fb9e",
   "metadata": {},
   "outputs": [
    {
     "data": {
      "text/plain": [
       "category       14\n",
       "amt         60616\n",
       "gender          2\n",
       "state          51\n",
       "city_pop      891\n",
       "is_fraud        2\n",
       "cc_type         7\n",
       "day             7\n",
       "hour           24\n",
       "dtype: int64"
      ]
     },
     "execution_count": 23,
     "metadata": {},
     "output_type": "execute_result"
    }
   ],
   "source": [
    "df4.nunique()"
   ]
  },
  {
   "cell_type": "code",
   "execution_count": 24,
   "id": "88b3f92c",
   "metadata": {},
   "outputs": [],
   "source": [
    "def get_time_period(hour):\n",
    "    if 6 <= hour < 12:\n",
    "        return \"morning\"\n",
    "    elif 12 <= hour < 13:\n",
    "        return \"noon\"\n",
    "    elif 13 <= hour < 18:\n",
    "        return \"afternoon\"\n",
    "    elif 18 <= hour < 21:\n",
    "        return \"evening\"\n",
    "    elif 21 <= hour < 24:\n",
    "        return \"night\"\n",
    "    else:\n",
    "        return \"dawn\""
   ]
  },
  {
   "cell_type": "code",
   "execution_count": 25,
   "id": "bf44736e",
   "metadata": {},
   "outputs": [
    {
     "data": {
      "text/plain": [
       "category          14\n",
       "amt            60616\n",
       "gender             2\n",
       "state             51\n",
       "city_pop         891\n",
       "is_fraud           2\n",
       "cc_type            7\n",
       "day                7\n",
       "time_period        6\n",
       "dtype: int64"
      ]
     },
     "execution_count": 25,
     "metadata": {},
     "output_type": "execute_result"
    }
   ],
   "source": [
    "df4['time_period'] = df4['hour'].apply(get_time_period)\n",
    "\n",
    "# Drop the old 'unix_time' and 'datetime' columns\n",
    "df4.drop(['hour'], axis=1, inplace=True)\n",
    "\n",
    "df4.nunique()"
   ]
  },
  {
   "cell_type": "markdown",
   "id": "03fe7a9c",
   "metadata": {},
   "source": [
    "### Removing outliers"
   ]
  },
  {
   "cell_type": "code",
   "execution_count": 103,
   "id": "caff1071",
   "metadata": {},
   "outputs": [
    {
     "data": {
      "text/plain": [
       "category\n",
       "gas_transport     188029\n",
       "grocery_pos       176191\n",
       "home              175460\n",
       "shopping_pos      166463\n",
       "kids_pets         161727\n",
       "shopping_net      139322\n",
       "entertainment     134118\n",
       "food_dining       130729\n",
       "personal_care     130085\n",
       "health_fitness    122553\n",
       "misc_pos          114229\n",
       "misc_net           90654\n",
       "grocery_net        64878\n",
       "travel             57956\n",
       "Name: category, dtype: int64"
      ]
     },
     "execution_count": 103,
     "metadata": {},
     "output_type": "execute_result"
    }
   ],
   "source": [
    "df5 = df4.copy()\n",
    "df5.category = df5.category.apply(lambda x:x.strip())\n",
    "\n",
    "category_stats = df5.groupby('category')['category'].agg('count').sort_values(ascending=False)\n",
    "category_stats"
   ]
  },
  {
   "cell_type": "code",
   "execution_count": 104,
   "id": "b28159ec",
   "metadata": {},
   "outputs": [
    {
     "name": "stdout",
     "output_type": "stream",
     "text": [
      "count    1.852394e+06\n",
      "mean     7.006357e+01\n",
      "std      1.592540e+02\n",
      "min      1.000000e+00\n",
      "25%      9.640000e+00\n",
      "50%      4.745000e+01\n",
      "75%      8.310000e+01\n",
      "max      2.894890e+04\n",
      "Name: amt, dtype: float64\n"
     ]
    }
   ],
   "source": [
    "print(df5['amt'].describe())"
   ]
  },
  {
   "cell_type": "code",
   "execution_count": 105,
   "id": "6572a42f",
   "metadata": {},
   "outputs": [
    {
     "data": {
      "text/plain": [
       "(1852394, 9)"
      ]
     },
     "execution_count": 105,
     "metadata": {},
     "output_type": "execute_result"
    }
   ],
   "source": [
    "df5.shape"
   ]
  },
  {
   "cell_type": "code",
   "execution_count": 106,
   "id": "784eb791",
   "metadata": {},
   "outputs": [],
   "source": [
    "def remove_amt_outliers(df5):\n",
    "    df5_out = pd.DataFrame()\n",
    "    for key, subdf in df5.groupby('is_fraud'):\n",
    "        m = np.mean(subdf.amt)\n",
    "        st = np.std(subdf.amt)\n",
    "        reduced_df5 = subdf[(subdf.amt>(m-st))& (subdf.amt<=(m+st))]\n",
    "        df5_out = pd.concat([df5_out,reduced_df5],ignore_index=True)\n",
    "    return df5_out"
   ]
  },
  {
   "cell_type": "code",
   "execution_count": 107,
   "id": "9536377a",
   "metadata": {},
   "outputs": [
    {
     "data": {
      "text/plain": [
       "(1787623, 9)"
      ]
     },
     "execution_count": 107,
     "metadata": {},
     "output_type": "execute_result"
    }
   ],
   "source": [
    "df6 = remove_amt_outliers(df5)\n",
    "df6.shape"
   ]
  },
  {
   "cell_type": "code",
   "execution_count": 108,
   "id": "fed1c7e4",
   "metadata": {},
   "outputs": [
    {
     "name": "stdout",
     "output_type": "stream",
     "text": [
      "count    1.787623e+06\n",
      "mean     5.432330e+01\n",
      "std      5.606883e+01\n",
      "min      1.000000e+00\n",
      "25%      9.320000e+00\n",
      "50%      4.519000e+01\n",
      "75%      7.855000e+01\n",
      "max      9.216200e+02\n",
      "Name: amt, dtype: float64\n"
     ]
    }
   ],
   "source": [
    "print(df6['amt'].describe())"
   ]
  },
  {
   "cell_type": "code",
   "execution_count": 32,
   "id": "79c6d028",
   "metadata": {},
   "outputs": [
    {
     "data": {
      "text/plain": [
       "0    1782450\n",
       "1       5173\n",
       "Name: is_fraud, dtype: int64"
      ]
     },
     "execution_count": 32,
     "metadata": {},
     "output_type": "execute_result"
    },
    {
     "data": {
      "image/png": "[encoded data removed]",
      "text/plain": [
       "<Figure size 640x480 with 1 Axes>"
      ]
     },
     "metadata": {},
     "output_type": "display_data"
    }
   ],
   "source": [
    "#checking distribution of legit transactions & fraudulent transactions\n",
    "sns.countplot(x=df6['is_fraud'])\n",
    "df6['is_fraud'].value_counts()"
   ]
  },
  {
   "cell_type": "markdown",
   "id": "6d64e5f6",
   "metadata": {},
   "source": [
    "### One-Hot encoding"
   ]
  },
  {
   "cell_type": "code",
   "execution_count": 109,
   "id": "e8b8d57b",
   "metadata": {},
   "outputs": [
    {
     "data": {
      "text/plain": [
       "category          14\n",
       "amt            26765\n",
       "gender             2\n",
       "state             51\n",
       "city_pop         891\n",
       "is_fraud           2\n",
       "cc_type            7\n",
       "day                7\n",
       "time_period        6\n",
       "dtype: int64"
      ]
     },
     "execution_count": 109,
     "metadata": {},
     "output_type": "execute_result"
    }
   ],
   "source": [
    "df7 = df6.copy()\n",
    "df7.nunique()"
   ]
  },
  {
   "cell_type": "code",
   "execution_count": 110,
   "id": "36bb5e54",
   "metadata": {},
   "outputs": [
    {
     "data": {
      "text/html": [
       "<div>\n",
       "<style scoped>\n",
       "    .dataframe tbody tr th:only-of-type {\n",
       "        vertical-align: middle;\n",
       "    }\n",
       "\n",
       "    .dataframe tbody tr th {\n",
       "        vertical-align: top;\n",
       "    }\n",
       "\n",
       "    .dataframe thead th {\n",
       "        text-align: right;\n",
       "    }\n",
       "</style>\n",
       "<table border=\"1\" class=\"dataframe\">\n",
       "  <thead>\n",
       "    <tr style=\"text-align: right;\">\n",
       "      <th></th>\n",
       "      <th>amt</th>\n",
       "      <th>gender</th>\n",
       "      <th>city_pop</th>\n",
       "      <th>is_fraud</th>\n",
       "      <th>category_entertainment</th>\n",
       "      <th>category_food_dining</th>\n",
       "      <th>category_gas_transport</th>\n",
       "      <th>category_grocery_net</th>\n",
       "      <th>category_grocery_pos</th>\n",
       "      <th>category_health_fitness</th>\n",
       "      <th>...</th>\n",
       "      <th>day_Sunday</th>\n",
       "      <th>day_Thursday</th>\n",
       "      <th>day_Tuesday</th>\n",
       "      <th>day_Wednesday</th>\n",
       "      <th>time_period_afternoon</th>\n",
       "      <th>time_period_dawn</th>\n",
       "      <th>time_period_evening</th>\n",
       "      <th>time_period_morning</th>\n",
       "      <th>time_period_night</th>\n",
       "      <th>time_period_noon</th>\n",
       "    </tr>\n",
       "  </thead>\n",
       "  <tbody>\n",
       "    <tr>\n",
       "      <th>0</th>\n",
       "      <td>4.97</td>\n",
       "      <td>0</td>\n",
       "      <td>3495</td>\n",
       "      <td>0</td>\n",
       "      <td>0</td>\n",
       "      <td>0</td>\n",
       "      <td>0</td>\n",
       "      <td>0</td>\n",
       "      <td>0</td>\n",
       "      <td>0</td>\n",
       "      <td>...</td>\n",
       "      <td>1</td>\n",
       "      <td>0</td>\n",
       "      <td>0</td>\n",
       "      <td>0</td>\n",
       "      <td>0</td>\n",
       "      <td>1</td>\n",
       "      <td>0</td>\n",
       "      <td>0</td>\n",
       "      <td>0</td>\n",
       "      <td>0</td>\n",
       "    </tr>\n",
       "    <tr>\n",
       "      <th>1</th>\n",
       "      <td>107.23</td>\n",
       "      <td>0</td>\n",
       "      <td>149</td>\n",
       "      <td>0</td>\n",
       "      <td>0</td>\n",
       "      <td>0</td>\n",
       "      <td>0</td>\n",
       "      <td>0</td>\n",
       "      <td>1</td>\n",
       "      <td>0</td>\n",
       "      <td>...</td>\n",
       "      <td>1</td>\n",
       "      <td>0</td>\n",
       "      <td>0</td>\n",
       "      <td>0</td>\n",
       "      <td>0</td>\n",
       "      <td>1</td>\n",
       "      <td>0</td>\n",
       "      <td>0</td>\n",
       "      <td>0</td>\n",
       "      <td>0</td>\n",
       "    </tr>\n",
       "    <tr>\n",
       "      <th>2</th>\n",
       "      <td>220.11</td>\n",
       "      <td>1</td>\n",
       "      <td>4154</td>\n",
       "      <td>0</td>\n",
       "      <td>1</td>\n",
       "      <td>0</td>\n",
       "      <td>0</td>\n",
       "      <td>0</td>\n",
       "      <td>0</td>\n",
       "      <td>0</td>\n",
       "      <td>...</td>\n",
       "      <td>1</td>\n",
       "      <td>0</td>\n",
       "      <td>0</td>\n",
       "      <td>0</td>\n",
       "      <td>0</td>\n",
       "      <td>1</td>\n",
       "      <td>0</td>\n",
       "      <td>0</td>\n",
       "      <td>0</td>\n",
       "      <td>0</td>\n",
       "    </tr>\n",
       "    <tr>\n",
       "      <th>3</th>\n",
       "      <td>45.00</td>\n",
       "      <td>1</td>\n",
       "      <td>1939</td>\n",
       "      <td>0</td>\n",
       "      <td>0</td>\n",
       "      <td>0</td>\n",
       "      <td>1</td>\n",
       "      <td>0</td>\n",
       "      <td>0</td>\n",
       "      <td>0</td>\n",
       "      <td>...</td>\n",
       "      <td>1</td>\n",
       "      <td>0</td>\n",
       "      <td>0</td>\n",
       "      <td>0</td>\n",
       "      <td>0</td>\n",
       "      <td>1</td>\n",
       "      <td>0</td>\n",
       "      <td>0</td>\n",
       "      <td>0</td>\n",
       "      <td>0</td>\n",
       "    </tr>\n",
       "    <tr>\n",
       "      <th>4</th>\n",
       "      <td>41.96</td>\n",
       "      <td>1</td>\n",
       "      <td>99</td>\n",
       "      <td>0</td>\n",
       "      <td>0</td>\n",
       "      <td>0</td>\n",
       "      <td>0</td>\n",
       "      <td>0</td>\n",
       "      <td>0</td>\n",
       "      <td>0</td>\n",
       "      <td>...</td>\n",
       "      <td>1</td>\n",
       "      <td>0</td>\n",
       "      <td>0</td>\n",
       "      <td>0</td>\n",
       "      <td>0</td>\n",
       "      <td>1</td>\n",
       "      <td>0</td>\n",
       "      <td>0</td>\n",
       "      <td>0</td>\n",
       "      <td>0</td>\n",
       "    </tr>\n",
       "    <tr>\n",
       "      <th>...</th>\n",
       "      <td>...</td>\n",
       "      <td>...</td>\n",
       "      <td>...</td>\n",
       "      <td>...</td>\n",
       "      <td>...</td>\n",
       "      <td>...</td>\n",
       "      <td>...</td>\n",
       "      <td>...</td>\n",
       "      <td>...</td>\n",
       "      <td>...</td>\n",
       "      <td>...</td>\n",
       "      <td>...</td>\n",
       "      <td>...</td>\n",
       "      <td>...</td>\n",
       "      <td>...</td>\n",
       "      <td>...</td>\n",
       "      <td>...</td>\n",
       "      <td>...</td>\n",
       "      <td>...</td>\n",
       "      <td>...</td>\n",
       "      <td>...</td>\n",
       "    </tr>\n",
       "    <tr>\n",
       "      <th>1787618</th>\n",
       "      <td>209.84</td>\n",
       "      <td>0</td>\n",
       "      <td>743</td>\n",
       "      <td>1</td>\n",
       "      <td>0</td>\n",
       "      <td>0</td>\n",
       "      <td>0</td>\n",
       "      <td>0</td>\n",
       "      <td>0</td>\n",
       "      <td>0</td>\n",
       "      <td>...</td>\n",
       "      <td>0</td>\n",
       "      <td>0</td>\n",
       "      <td>0</td>\n",
       "      <td>0</td>\n",
       "      <td>0</td>\n",
       "      <td>0</td>\n",
       "      <td>0</td>\n",
       "      <td>0</td>\n",
       "      <td>1</td>\n",
       "      <td>0</td>\n",
       "    </tr>\n",
       "    <tr>\n",
       "      <th>1787619</th>\n",
       "      <td>219.11</td>\n",
       "      <td>0</td>\n",
       "      <td>743</td>\n",
       "      <td>1</td>\n",
       "      <td>0</td>\n",
       "      <td>0</td>\n",
       "      <td>0</td>\n",
       "      <td>0</td>\n",
       "      <td>0</td>\n",
       "      <td>0</td>\n",
       "      <td>...</td>\n",
       "      <td>0</td>\n",
       "      <td>0</td>\n",
       "      <td>0</td>\n",
       "      <td>0</td>\n",
       "      <td>0</td>\n",
       "      <td>0</td>\n",
       "      <td>0</td>\n",
       "      <td>0</td>\n",
       "      <td>1</td>\n",
       "      <td>0</td>\n",
       "    </tr>\n",
       "    <tr>\n",
       "      <th>1787620</th>\n",
       "      <td>868.09</td>\n",
       "      <td>1</td>\n",
       "      <td>14462</td>\n",
       "      <td>1</td>\n",
       "      <td>0</td>\n",
       "      <td>0</td>\n",
       "      <td>0</td>\n",
       "      <td>0</td>\n",
       "      <td>0</td>\n",
       "      <td>0</td>\n",
       "      <td>...</td>\n",
       "      <td>1</td>\n",
       "      <td>0</td>\n",
       "      <td>0</td>\n",
       "      <td>0</td>\n",
       "      <td>0</td>\n",
       "      <td>0</td>\n",
       "      <td>0</td>\n",
       "      <td>0</td>\n",
       "      <td>1</td>\n",
       "      <td>0</td>\n",
       "    </tr>\n",
       "    <tr>\n",
       "      <th>1787621</th>\n",
       "      <td>289.27</td>\n",
       "      <td>1</td>\n",
       "      <td>14462</td>\n",
       "      <td>1</td>\n",
       "      <td>0</td>\n",
       "      <td>0</td>\n",
       "      <td>0</td>\n",
       "      <td>0</td>\n",
       "      <td>1</td>\n",
       "      <td>0</td>\n",
       "      <td>...</td>\n",
       "      <td>1</td>\n",
       "      <td>0</td>\n",
       "      <td>0</td>\n",
       "      <td>0</td>\n",
       "      <td>0</td>\n",
       "      <td>0</td>\n",
       "      <td>0</td>\n",
       "      <td>0</td>\n",
       "      <td>1</td>\n",
       "      <td>0</td>\n",
       "    </tr>\n",
       "    <tr>\n",
       "      <th>1787622</th>\n",
       "      <td>766.38</td>\n",
       "      <td>1</td>\n",
       "      <td>14462</td>\n",
       "      <td>1</td>\n",
       "      <td>0</td>\n",
       "      <td>0</td>\n",
       "      <td>0</td>\n",
       "      <td>0</td>\n",
       "      <td>0</td>\n",
       "      <td>0</td>\n",
       "      <td>...</td>\n",
       "      <td>1</td>\n",
       "      <td>0</td>\n",
       "      <td>0</td>\n",
       "      <td>0</td>\n",
       "      <td>0</td>\n",
       "      <td>0</td>\n",
       "      <td>0</td>\n",
       "      <td>0</td>\n",
       "      <td>1</td>\n",
       "      <td>0</td>\n",
       "    </tr>\n",
       "  </tbody>\n",
       "</table>\n",
       "<p>1787623 rows × 89 columns</p>\n",
       "</div>"
      ],
      "text/plain": [
       "            amt  gender  city_pop  is_fraud  category_entertainment  \\\n",
       "0          4.97       0      3495         0                       0   \n",
       "1        107.23       0       149         0                       0   \n",
       "2        220.11       1      4154         0                       1   \n",
       "3         45.00       1      1939         0                       0   \n",
       "4         41.96       1        99         0                       0   \n",
       "...         ...     ...       ...       ...                     ...   \n",
       "1787618  209.84       0       743         1                       0   \n",
       "1787619  219.11       0       743         1                       0   \n",
       "1787620  868.09       1     14462         1                       0   \n",
       "1787621  289.27       1     14462         1                       0   \n",
       "1787622  766.38       1     14462         1                       0   \n",
       "\n",
       "         category_food_dining  category_gas_transport  category_grocery_net  \\\n",
       "0                           0                       0                     0   \n",
       "1                           0                       0                     0   \n",
       "2                           0                       0                     0   \n",
       "3                           0                       1                     0   \n",
       "4                           0                       0                     0   \n",
       "...                       ...                     ...                   ...   \n",
       "1787618                     0                       0                     0   \n",
       "1787619                     0                       0                     0   \n",
       "1787620                     0                       0                     0   \n",
       "1787621                     0                       0                     0   \n",
       "1787622                     0                       0                     0   \n",
       "\n",
       "         category_grocery_pos  category_health_fitness  ...  day_Sunday  \\\n",
       "0                           0                        0  ...           1   \n",
       "1                           1                        0  ...           1   \n",
       "2                           0                        0  ...           1   \n",
       "3                           0                        0  ...           1   \n",
       "4                           0                        0  ...           1   \n",
       "...                       ...                      ...  ...         ...   \n",
       "1787618                     0                        0  ...           0   \n",
       "1787619                     0                        0  ...           0   \n",
       "1787620                     0                        0  ...           1   \n",
       "1787621                     1                        0  ...           1   \n",
       "1787622                     0                        0  ...           1   \n",
       "\n",
       "         day_Thursday  day_Tuesday  day_Wednesday  time_period_afternoon  \\\n",
       "0                   0            0              0                      0   \n",
       "1                   0            0              0                      0   \n",
       "2                   0            0              0                      0   \n",
       "3                   0            0              0                      0   \n",
       "4                   0            0              0                      0   \n",
       "...               ...          ...            ...                    ...   \n",
       "1787618             0            0              0                      0   \n",
       "1787619             0            0              0                      0   \n",
       "1787620             0            0              0                      0   \n",
       "1787621             0            0              0                      0   \n",
       "1787622             0            0              0                      0   \n",
       "\n",
       "         time_period_dawn  time_period_evening  time_period_morning  \\\n",
       "0                       1                    0                    0   \n",
       "1                       1                    0                    0   \n",
       "2                       1                    0                    0   \n",
       "3                       1                    0                    0   \n",
       "4                       1                    0                    0   \n",
       "...                   ...                  ...                  ...   \n",
       "1787618                 0                    0                    0   \n",
       "1787619                 0                    0                    0   \n",
       "1787620                 0                    0                    0   \n",
       "1787621                 0                    0                    0   \n",
       "1787622                 0                    0                    0   \n",
       "\n",
       "         time_period_night  time_period_noon  \n",
       "0                        0                 0  \n",
       "1                        0                 0  \n",
       "2                        0                 0  \n",
       "3                        0                 0  \n",
       "4                        0                 0  \n",
       "...                    ...               ...  \n",
       "1787618                  1                 0  \n",
       "1787619                  1                 0  \n",
       "1787620                  1                 0  \n",
       "1787621                  1                 0  \n",
       "1787622                  1                 0  \n",
       "\n",
       "[1787623 rows x 89 columns]"
      ]
     },
     "execution_count": 110,
     "metadata": {},
     "output_type": "execute_result"
    }
   ],
   "source": [
    "# One-hot encode the categorical columns\n",
    "cat_cols = ['category', 'state', 'cc_type', 'day','time_period']\n",
    "df7 = pd.get_dummies(df7, columns=cat_cols)\n",
    "pd.get_dummies(df7)"
   ]
  },
  {
   "cell_type": "code",
   "execution_count": 111,
   "id": "014bbba7",
   "metadata": {},
   "outputs": [
    {
     "data": {
      "text/plain": [
       "amt                       26765\n",
       "gender                        2\n",
       "city_pop                    891\n",
       "is_fraud                      2\n",
       "category_entertainment        2\n",
       "                          ...  \n",
       "time_period_dawn              2\n",
       "time_period_evening           2\n",
       "time_period_morning           2\n",
       "time_period_night             2\n",
       "time_period_noon              2\n",
       "Length: 89, dtype: int64"
      ]
     },
     "execution_count": 111,
     "metadata": {},
     "output_type": "execute_result"
    }
   ],
   "source": [
    "df7.nunique()"
   ]
  },
  {
   "cell_type": "code",
   "execution_count": 112,
   "id": "e14eac10",
   "metadata": {},
   "outputs": [
    {
     "name": "stdout",
     "output_type": "stream",
     "text": [
      "Index(['amt', 'gender', 'city_pop', 'is_fraud', 'category_entertainment',\n",
      "       'category_food_dining', 'category_gas_transport',\n",
      "       'category_grocery_net', 'category_grocery_pos',\n",
      "       'category_health_fitness', 'category_home', 'category_kids_pets',\n",
      "       'category_misc_net', 'category_misc_pos', 'category_personal_care',\n",
      "       'category_shopping_net', 'category_shopping_pos', 'category_travel',\n",
      "       'state_AK', 'state_AL', 'state_AR', 'state_AZ', 'state_CA', 'state_CO',\n",
      "       'state_CT', 'state_DC', 'state_DE', 'state_FL', 'state_GA', 'state_HI',\n",
      "       'state_IA', 'state_ID', 'state_IL', 'state_IN', 'state_KS', 'state_KY',\n",
      "       'state_LA', 'state_MA', 'state_MD', 'state_ME', 'state_MI', 'state_MN',\n",
      "       'state_MO', 'state_MS', 'state_MT', 'state_NC', 'state_ND', 'state_NE',\n",
      "       'state_NH', 'state_NJ', 'state_NM', 'state_NV', 'state_NY', 'state_OH',\n",
      "       'state_OK', 'state_OR', 'state_PA', 'state_RI', 'state_SC', 'state_SD',\n",
      "       'state_TN', 'state_TX', 'state_UT', 'state_VA', 'state_VT', 'state_WA',\n",
      "       'state_WI', 'state_WV', 'state_WY', 'cc_type_American Express',\n",
      "       'cc_type_Diners Club - Carte Blanche', 'cc_type_Discover',\n",
      "       'cc_type_JCB', 'cc_type_MasterCard', 'cc_type_Other', 'cc_type_Visa',\n",
      "       'day_Friday', 'day_Monday', 'day_Saturday', 'day_Sunday',\n",
      "       'day_Thursday', 'day_Tuesday', 'day_Wednesday', 'time_period_afternoon',\n",
      "       'time_period_dawn', 'time_period_evening', 'time_period_morning',\n",
      "       'time_period_night', 'time_period_noon'],\n",
      "      dtype='object')\n"
     ]
    }
   ],
   "source": [
    "print(df7.columns)"
   ]
  },
  {
   "cell_type": "markdown",
   "id": "b3f212b2",
   "metadata": {},
   "source": [
    "### Splitting the data into features and target"
   ]
  },
  {
   "cell_type": "code",
   "execution_count": 113,
   "id": "0866ce07",
   "metadata": {},
   "outputs": [
    {
     "data": {
      "text/html": [
       "<div>\n",
       "<style scoped>\n",
       "    .dataframe tbody tr th:only-of-type {\n",
       "        vertical-align: middle;\n",
       "    }\n",
       "\n",
       "    .dataframe tbody tr th {\n",
       "        vertical-align: top;\n",
       "    }\n",
       "\n",
       "    .dataframe thead th {\n",
       "        text-align: right;\n",
       "    }\n",
       "</style>\n",
       "<table border=\"1\" class=\"dataframe\">\n",
       "  <thead>\n",
       "    <tr style=\"text-align: right;\">\n",
       "      <th></th>\n",
       "      <th>amt</th>\n",
       "      <th>gender</th>\n",
       "      <th>city_pop</th>\n",
       "      <th>category_entertainment</th>\n",
       "      <th>category_food_dining</th>\n",
       "      <th>category_gas_transport</th>\n",
       "      <th>category_grocery_net</th>\n",
       "      <th>category_grocery_pos</th>\n",
       "      <th>category_health_fitness</th>\n",
       "      <th>category_home</th>\n",
       "      <th>...</th>\n",
       "      <th>day_Sunday</th>\n",
       "      <th>day_Thursday</th>\n",
       "      <th>day_Tuesday</th>\n",
       "      <th>day_Wednesday</th>\n",
       "      <th>time_period_afternoon</th>\n",
       "      <th>time_period_dawn</th>\n",
       "      <th>time_period_evening</th>\n",
       "      <th>time_period_morning</th>\n",
       "      <th>time_period_night</th>\n",
       "      <th>time_period_noon</th>\n",
       "    </tr>\n",
       "  </thead>\n",
       "  <tbody>\n",
       "    <tr>\n",
       "      <th>0</th>\n",
       "      <td>4.97</td>\n",
       "      <td>0</td>\n",
       "      <td>3495</td>\n",
       "      <td>0</td>\n",
       "      <td>0</td>\n",
       "      <td>0</td>\n",
       "      <td>0</td>\n",
       "      <td>0</td>\n",
       "      <td>0</td>\n",
       "      <td>0</td>\n",
       "      <td>...</td>\n",
       "      <td>1</td>\n",
       "      <td>0</td>\n",
       "      <td>0</td>\n",
       "      <td>0</td>\n",
       "      <td>0</td>\n",
       "      <td>1</td>\n",
       "      <td>0</td>\n",
       "      <td>0</td>\n",
       "      <td>0</td>\n",
       "      <td>0</td>\n",
       "    </tr>\n",
       "    <tr>\n",
       "      <th>1</th>\n",
       "      <td>107.23</td>\n",
       "      <td>0</td>\n",
       "      <td>149</td>\n",
       "      <td>0</td>\n",
       "      <td>0</td>\n",
       "      <td>0</td>\n",
       "      <td>0</td>\n",
       "      <td>1</td>\n",
       "      <td>0</td>\n",
       "      <td>0</td>\n",
       "      <td>...</td>\n",
       "      <td>1</td>\n",
       "      <td>0</td>\n",
       "      <td>0</td>\n",
       "      <td>0</td>\n",
       "      <td>0</td>\n",
       "      <td>1</td>\n",
       "      <td>0</td>\n",
       "      <td>0</td>\n",
       "      <td>0</td>\n",
       "      <td>0</td>\n",
       "    </tr>\n",
       "    <tr>\n",
       "      <th>2</th>\n",
       "      <td>220.11</td>\n",
       "      <td>1</td>\n",
       "      <td>4154</td>\n",
       "      <td>1</td>\n",
       "      <td>0</td>\n",
       "      <td>0</td>\n",
       "      <td>0</td>\n",
       "      <td>0</td>\n",
       "      <td>0</td>\n",
       "      <td>0</td>\n",
       "      <td>...</td>\n",
       "      <td>1</td>\n",
       "      <td>0</td>\n",
       "      <td>0</td>\n",
       "      <td>0</td>\n",
       "      <td>0</td>\n",
       "      <td>1</td>\n",
       "      <td>0</td>\n",
       "      <td>0</td>\n",
       "      <td>0</td>\n",
       "      <td>0</td>\n",
       "    </tr>\n",
       "    <tr>\n",
       "      <th>3</th>\n",
       "      <td>45.00</td>\n",
       "      <td>1</td>\n",
       "      <td>1939</td>\n",
       "      <td>0</td>\n",
       "      <td>0</td>\n",
       "      <td>1</td>\n",
       "      <td>0</td>\n",
       "      <td>0</td>\n",
       "      <td>0</td>\n",
       "      <td>0</td>\n",
       "      <td>...</td>\n",
       "      <td>1</td>\n",
       "      <td>0</td>\n",
       "      <td>0</td>\n",
       "      <td>0</td>\n",
       "      <td>0</td>\n",
       "      <td>1</td>\n",
       "      <td>0</td>\n",
       "      <td>0</td>\n",
       "      <td>0</td>\n",
       "      <td>0</td>\n",
       "    </tr>\n",
       "    <tr>\n",
       "      <th>4</th>\n",
       "      <td>41.96</td>\n",
       "      <td>1</td>\n",
       "      <td>99</td>\n",
       "      <td>0</td>\n",
       "      <td>0</td>\n",
       "      <td>0</td>\n",
       "      <td>0</td>\n",
       "      <td>0</td>\n",
       "      <td>0</td>\n",
       "      <td>0</td>\n",
       "      <td>...</td>\n",
       "      <td>1</td>\n",
       "      <td>0</td>\n",
       "      <td>0</td>\n",
       "      <td>0</td>\n",
       "      <td>0</td>\n",
       "      <td>1</td>\n",
       "      <td>0</td>\n",
       "      <td>0</td>\n",
       "      <td>0</td>\n",
       "      <td>0</td>\n",
       "    </tr>\n",
       "  </tbody>\n",
       "</table>\n",
       "<p>5 rows × 88 columns</p>\n",
       "</div>"
      ],
      "text/plain": [
       "      amt  gender  city_pop  category_entertainment  category_food_dining  \\\n",
       "0    4.97       0      3495                       0                     0   \n",
       "1  107.23       0       149                       0                     0   \n",
       "2  220.11       1      4154                       1                     0   \n",
       "3   45.00       1      1939                       0                     0   \n",
       "4   41.96       1        99                       0                     0   \n",
       "\n",
       "   category_gas_transport  category_grocery_net  category_grocery_pos  \\\n",
       "0                       0                     0                     0   \n",
       "1                       0                     0                     1   \n",
       "2                       0                     0                     0   \n",
       "3                       1                     0                     0   \n",
       "4                       0                     0                     0   \n",
       "\n",
       "   category_health_fitness  category_home  ...  day_Sunday  day_Thursday  \\\n",
       "0                        0              0  ...           1             0   \n",
       "1                        0              0  ...           1             0   \n",
       "2                        0              0  ...           1             0   \n",
       "3                        0              0  ...           1             0   \n",
       "4                        0              0  ...           1             0   \n",
       "\n",
       "   day_Tuesday  day_Wednesday  time_period_afternoon  time_period_dawn  \\\n",
       "0            0              0                      0                 1   \n",
       "1            0              0                      0                 1   \n",
       "2            0              0                      0                 1   \n",
       "3            0              0                      0                 1   \n",
       "4            0              0                      0                 1   \n",
       "\n",
       "   time_period_evening  time_period_morning  time_period_night  \\\n",
       "0                    0                    0                  0   \n",
       "1                    0                    0                  0   \n",
       "2                    0                    0                  0   \n",
       "3                    0                    0                  0   \n",
       "4                    0                    0                  0   \n",
       "\n",
       "   time_period_noon  \n",
       "0                 0  \n",
       "1                 0  \n",
       "2                 0  \n",
       "3                 0  \n",
       "4                 0  \n",
       "\n",
       "[5 rows x 88 columns]"
      ]
     },
     "execution_count": 113,
     "metadata": {},
     "output_type": "execute_result"
    }
   ],
   "source": [
    "X = df7.drop('is_fraud',axis='columns')\n",
    "X.head()"
   ]
  },
  {
   "cell_type": "code",
   "execution_count": 114,
   "id": "8244b2b0",
   "metadata": {},
   "outputs": [
    {
     "data": {
      "text/plain": [
       "0    0\n",
       "1    0\n",
       "2    0\n",
       "3    0\n",
       "4    0\n",
       "Name: is_fraud, dtype: int64"
      ]
     },
     "execution_count": 114,
     "metadata": {},
     "output_type": "execute_result"
    }
   ],
   "source": [
    "Y = df7.is_fraud\n",
    "Y.head()"
   ]
  },
  {
   "cell_type": "code",
   "execution_count": 115,
   "id": "683183da",
   "metadata": {},
   "outputs": [
    {
     "data": {
      "text/plain": [
       "0    1782450\n",
       "1       5173\n",
       "Name: is_fraud, dtype: int64"
      ]
     },
     "execution_count": 115,
     "metadata": {},
     "output_type": "execute_result"
    }
   ],
   "source": [
    "Y.value_counts()"
   ]
  },
  {
   "cell_type": "markdown",
   "id": "5c364412",
   "metadata": {},
   "source": [
    " ### Splitting the train and test datasets"
   ]
  },
  {
   "cell_type": "code",
   "execution_count": 116,
   "id": "abf58f62",
   "metadata": {},
   "outputs": [
    {
     "name": "stdout",
     "output_type": "stream",
     "text": [
      "(1787623, 88) (1430098, 88) (357525, 88)\n"
     ]
    }
   ],
   "source": [
    "from sklearn.model_selection import train_test_split\n",
    "# stratify=Y -> equally distribute y values in testing and training datasets\n",
    "X_train, X_test, Y_train, Y_test = train_test_split(X,Y,test_size=0.2, stratify=Y, random_state=2)\n",
    "print(X.shape, X_train.shape, X_test.shape)"
   ]
  },
  {
   "cell_type": "code",
   "execution_count": 117,
   "id": "420cd526",
   "metadata": {},
   "outputs": [
    {
     "data": {
      "text/plain": [
       "0    1425960\n",
       "1       4138\n",
       "Name: is_fraud, dtype: int64"
      ]
     },
     "execution_count": 117,
     "metadata": {},
     "output_type": "execute_result"
    }
   ],
   "source": [
    "Y_train.value_counts()"
   ]
  },
  {
   "cell_type": "code",
   "execution_count": 118,
   "id": "5f8893fe",
   "metadata": {},
   "outputs": [
    {
     "data": {
      "text/plain": [
       "0    356490\n",
       "1      1035\n",
       "Name: is_fraud, dtype: int64"
      ]
     },
     "execution_count": 118,
     "metadata": {},
     "output_type": "execute_result"
    }
   ],
   "source": [
    "Y_test.value_counts()"
   ]
  },
  {
   "cell_type": "code",
   "execution_count": 119,
   "id": "e0d52353",
   "metadata": {},
   "outputs": [],
   "source": [
    "X_test.to_csv('testData.csv', index=False)"
   ]
  },
  {
   "cell_type": "markdown",
   "id": "09f10dbc",
   "metadata": {},
   "source": [
    "### Dealing with imbalanced data"
   ]
  },
  {
   "cell_type": "code",
   "execution_count": 120,
   "id": "952abc28",
   "metadata": {},
   "outputs": [],
   "source": [
    "train_df = pd.concat([X_train, Y_train], axis=1)"
   ]
  },
  {
   "cell_type": "markdown",
   "id": "6b9d0481",
   "metadata": {},
   "source": [
    "#### Using Random undersampling"
   ]
  },
  {
   "cell_type": "code",
   "execution_count": 121,
   "id": "e88e3439",
   "metadata": {},
   "outputs": [],
   "source": [
    "from sklearn.utils import resample\n",
    "\n",
    "# Separate majority and minority classes\n",
    "majority_class = train_df[train_df['is_fraud']==0]\n",
    "minority_class = train_df[train_df['is_fraud']==1]\n",
    "\n",
    "# Downsample majority class\n",
    "downsampled_majority = resample(majority_class, \n",
    "                                 replace=False,    # sample without replacement\n",
    "                                 n_samples=8276, # to match minority class\n",
    "                                 random_state=42) # reproducible results\n",
    "\n",
    "# Combine minority class with downsampled majority class\n",
    "undersampled_df = pd.concat([downsampled_majority, minority_class])\n",
    "\n",
    "# Shuffle the data\n",
    "undersampled_df = undersampled_df.sample(frac=1, random_state=42)"
   ]
  },
  {
   "cell_type": "code",
   "execution_count": 122,
   "id": "eb2bb23d",
   "metadata": {},
   "outputs": [
    {
     "data": {
      "text/plain": [
       "0    8276\n",
       "1    4138\n",
       "Name: is_fraud, dtype: int64"
      ]
     },
     "execution_count": 122,
     "metadata": {},
     "output_type": "execute_result"
    }
   ],
   "source": [
    "undersampled_df['is_fraud'].value_counts()"
   ]
  },
  {
   "cell_type": "code",
   "execution_count": 123,
   "id": "3925afbe",
   "metadata": {},
   "outputs": [
    {
     "data": {
      "text/plain": [
       "(12414, 89)"
      ]
     },
     "execution_count": 123,
     "metadata": {},
     "output_type": "execute_result"
    }
   ],
   "source": [
    "undersampled_df.shape"
   ]
  },
  {
   "cell_type": "markdown",
   "id": "7646e4b3",
   "metadata": {},
   "source": [
    "#### Splitting the data into features and target"
   ]
  },
  {
   "cell_type": "code",
   "execution_count": 124,
   "id": "bbe3f5ac",
   "metadata": {},
   "outputs": [
    {
     "data": {
      "text/plain": [
       "0    8276\n",
       "1    4138\n",
       "Name: is_fraud, dtype: int64"
      ]
     },
     "execution_count": 124,
     "metadata": {},
     "output_type": "execute_result"
    }
   ],
   "source": [
    "X = undersampled_df.drop('is_fraud',axis='columns')\n",
    "Y = undersampled_df.is_fraud\n",
    "Y.value_counts()"
   ]
  },
  {
   "cell_type": "markdown",
   "id": "2d9551a6",
   "metadata": {},
   "source": [
    "#### Using ADASYN (Adaptive Synthetic Sampling)"
   ]
  },
  {
   "cell_type": "code",
   "execution_count": 125,
   "id": "4a274597",
   "metadata": {},
   "outputs": [],
   "source": [
    "X_resampled = X.copy()\n",
    "Y_resampled = Y.copy()"
   ]
  },
  {
   "cell_type": "code",
   "execution_count": 126,
   "id": "0a422ec1",
   "metadata": {},
   "outputs": [],
   "source": [
    "from imblearn.over_sampling import ADASYN\n",
    "\n",
    "# 1:1 ratio\n",
    "ada = ADASYN(sampling_strategy=1)\n",
    "X_ADASYN, Y_ADASYN = ada.fit_resample(X_resampled, Y_resampled)\n"
   ]
  },
  {
   "cell_type": "code",
   "execution_count": 127,
   "id": "5f418e53",
   "metadata": {},
   "outputs": [
    {
     "data": {
      "text/plain": [
       "0    8276\n",
       "1    8251\n",
       "Name: is_fraud, dtype: int64"
      ]
     },
     "execution_count": 127,
     "metadata": {},
     "output_type": "execute_result"
    }
   ],
   "source": [
    "Y_ADASYN.value_counts()"
   ]
  },
  {
   "cell_type": "markdown",
   "id": "0520dc8a",
   "metadata": {},
   "source": [
    "#### Using SMOTE (Synthetic Minority Over-sampling Technique)"
   ]
  },
  {
   "cell_type": "code",
   "execution_count": 128,
   "id": "fdc025d6",
   "metadata": {},
   "outputs": [],
   "source": [
    "X_resampled = X.copy()\n",
    "Y_resampled = Y.copy()"
   ]
  },
  {
   "cell_type": "code",
   "execution_count": 129,
   "id": "e96bd17f",
   "metadata": {},
   "outputs": [],
   "source": [
    "from imblearn.over_sampling import SMOTE\n",
    "\n",
    "smote = SMOTE()\n",
    "X_SMOTE, Y_SMOTE = smote.fit_resample(X_resampled, Y_resampled)"
   ]
  },
  {
   "cell_type": "code",
   "execution_count": 130,
   "id": "94a81d65",
   "metadata": {},
   "outputs": [
    {
     "data": {
      "text/plain": [
       "0    8276\n",
       "1    8276\n",
       "Name: is_fraud, dtype: int64"
      ]
     },
     "execution_count": 130,
     "metadata": {},
     "output_type": "execute_result"
    }
   ],
   "source": [
    "Y_SMOTE.value_counts()"
   ]
  },
  {
   "cell_type": "markdown",
   "id": "e6b8ef90",
   "metadata": {},
   "source": [
    "#### Using Cluster Centroids"
   ]
  },
  {
   "cell_type": "code",
   "execution_count": 131,
   "id": "020e39ca",
   "metadata": {},
   "outputs": [],
   "source": [
    "X_resampled = X.copy()\n",
    "Y_resampled = Y.copy()"
   ]
  },
  {
   "cell_type": "code",
   "execution_count": 132,
   "id": "3572e275",
   "metadata": {},
   "outputs": [],
   "source": [
    "from imblearn.under_sampling import ClusterCentroids\n",
    "\n",
    "# define the ClusterCentroids undersampling object\n",
    "cc = ClusterCentroids(sampling_strategy='auto', random_state=42)\n",
    "\n",
    "# fit and apply the undersampling to the data\n",
    "X_cc, Y_cc = cc.fit_resample(X_resampled, Y_resampled)"
   ]
  },
  {
   "cell_type": "code",
   "execution_count": 133,
   "id": "a9404dc4",
   "metadata": {},
   "outputs": [
    {
     "data": {
      "text/plain": [
       "0    4138\n",
       "1    4138\n",
       "Name: is_fraud, dtype: int64"
      ]
     },
     "execution_count": 133,
     "metadata": {},
     "output_type": "execute_result"
    }
   ],
   "source": [
    "Y_cc.value_counts()"
   ]
  },
  {
   "cell_type": "markdown",
   "id": "0be92561",
   "metadata": {},
   "source": [
    "#### Saving resampled data"
   ]
  },
  {
   "cell_type": "code",
   "execution_count": 134,
   "id": "bd2e4bef",
   "metadata": {},
   "outputs": [],
   "source": [
    "np.save('X_ADASYN.npy', X_ADASYN)\n",
    "np.save('Y_ADASYN.npy', Y_ADASYN)\n",
    "\n",
    "np.save('X_SMOTE.npy', X_SMOTE)\n",
    "np.save('Y_SMOTE.npy', Y_SMOTE)\n",
    "\n",
    "np.save('X_cc.npy', X_cc)\n",
    "np.save('Y_cc.npy', Y_cc)\n",
    "\n",
    "np.save('X_test.npy', X_test)\n",
    "np.save('Y_test.npy', Y_test)"
   ]
  },
  {
   "cell_type": "markdown",
   "id": "e8b17bce",
   "metadata": {},
   "source": [
    "#### Loading data"
   ]
  },
  {
   "cell_type": "code",
   "execution_count": 135,
   "id": "44b27a07",
   "metadata": {},
   "outputs": [],
   "source": [
    "X_ADASYN = np.load('X_ADASYN.npy')\n",
    "Y_ADASYN = np.load('Y_ADASYN.npy')\n",
    "\n",
    "X_SMOTE = np.load('X_SMOTE.npy')\n",
    "Y_SMOTE = np.load('Y_SMOTE.npy')\n",
    "\n",
    "X_cc = np.load('X_cc.npy')\n",
    "Y_cc = np.load('Y_cc.npy')\n",
    "\n",
    "X_test = np.load('X_test.npy')\n",
    "Y_test = np.load('Y_test.npy')"
   ]
  },
  {
   "cell_type": "markdown",
   "id": "83e05b54",
   "metadata": {},
   "source": [
    "### Building the Binary Classification model"
   ]
  },
  {
   "cell_type": "code",
   "execution_count": 136,
   "id": "5430bb04",
   "metadata": {},
   "outputs": [],
   "source": [
    "from sklearn.model_selection import GridSearchCV\n",
    "from sklearn.neighbors import KNeighborsClassifier\n",
    "from sklearn.svm import SVC\n",
    "from sklearn.tree import DecisionTreeClassifier\n",
    "from sklearn.ensemble import BaggingClassifier, AdaBoostClassifier, RandomForestClassifier\n",
    "from sklearn.metrics import f1_score, confusion_matrix, PrecisionRecallDisplay\n",
    "from sklearn import metrics"
   ]
  },
  {
   "cell_type": "code",
   "execution_count": 137,
   "id": "f5c02833",
   "metadata": {},
   "outputs": [],
   "source": [
    "# Define the models to evaluate\n",
    "models = {\n",
    "    'KNN': KNeighborsClassifier(),\n",
    "    'Bagging+DT': BaggingClassifier(base_estimator=DecisionTreeClassifier()),\n",
    "    'Boosting+DT': AdaBoostClassifier(base_estimator=DecisionTreeClassifier()),\n",
    "    'Random Forest': RandomForestClassifier()\n",
    "}"
   ]
  },
  {
   "cell_type": "code",
   "execution_count": 138,
   "id": "7c3388b4",
   "metadata": {},
   "outputs": [],
   "source": [
    "# Define the hyperparameters to search over\n",
    "params = {\n",
    "    'KNN': {'n_neighbors': [2, 5, 10]},\n",
    "    'Bagging+DT': {'n_estimators': [100, 120, 150], 'max_samples': [0.5, 0.8]},\n",
    "    'Boosting+DT': {'n_estimators': [150, 200, 250], 'learning_rate': [0.8, 1]},\n",
    "    'Random Forest': {'n_estimators': [50, 100, 150], 'max_depth': [15, 20]}\n",
    "}"
   ]
  },
  {
   "cell_type": "code",
   "execution_count": 139,
   "id": "15b34143",
   "metadata": {},
   "outputs": [],
   "source": [
    "def get_f1score(Y_true, X_prediction):\n",
    "    return f1_score(Y_true, X_prediction,average='binary', zero_division='warn')\n",
    "\n",
    "def get_CM(Y_true,X_prediction):\n",
    "    confusion_matrix = metrics.confusion_matrix(Y_true, X_prediction)\n",
    "    cm_display = metrics.ConfusionMatrixDisplay(confusion_matrix = confusion_matrix, display_labels = [False, True])\n",
    "    cm_display.plot()\n",
    "    plt.show()\n",
    "    \n",
    "def get_AUPRC(clssifier, name, X, Y):\n",
    "    display = PrecisionRecallDisplay.from_estimator(clssifier, X, Y,name=name)\n",
    "    return display\n",
    "\n",
    "def get_precision(y_true, y_pred):\n",
    "    y_true = np.array(y_true)\n",
    "    y_pred = np.array(y_pred)\n",
    "    tp = 0\n",
    "    fp = 0\n",
    "    for i in range(len(y_true)):\n",
    "        if y_pred[i] == 1 and y_true[i] == 1:\n",
    "            tp += 1\n",
    "        elif y_pred[i] == 1 and y_true[i] == 0:\n",
    "            fp += 1\n",
    "    if tp + fp == 0:\n",
    "        return 0\n",
    "    return tp / (tp + fp)\n",
    "\n",
    "def get_recall(y_true, y_pred):\n",
    "    y_true = np.array(y_true)\n",
    "    y_pred = np.array(y_pred)\n",
    "    tp = 0\n",
    "    fn = 0\n",
    "    for i in range(len(y_true)):\n",
    "        if y_pred[i] == 1 and y_true[i] == 1:\n",
    "            tp += 1\n",
    "        elif y_pred[i] == 0 and y_true[i] == 1:\n",
    "            fn += 1\n",
    "    if tp + fn == 0:\n",
    "        return 0\n",
    "    return tp / (tp + fn)"
   ]
  },
  {
   "cell_type": "code",
   "execution_count": 140,
   "id": "ed51c603",
   "metadata": {},
   "outputs": [],
   "source": [
    "# Create a function to perform the grid search and return the best model\n",
    "def grid_search(X_train, y_train, X_test, y_test, models, params):\n",
    "    best_model = None\n",
    "    best_score = 0\n",
    "    best_params = None\n",
    "    \n",
    "    for name, model in models.items():\n",
    "        print(f'Running GridSearchCV for {name}')\n",
    "        clf = GridSearchCV(model, params[name], cv=5, n_jobs=-1)\n",
    "        clf.fit(X_train, y_train)\n",
    "        \n",
    "        # Evaluate the model on the test set\n",
    "        y_pred = clf.predict(X_test)\n",
    "        f1_score_test = get_f1score(y_test, y_pred)\n",
    "        f1_score_train = get_f1score(y_train, clf.predict(X_train))\n",
    "        precision = get_precision(y_test, y_pred)\n",
    "        recall = get_recall(y_test, y_pred)\n",
    "        \n",
    "        print(f'Best Parameters: {clf.best_params_}')\n",
    "        print(f'F1 Score test: {f1_score_test}')\n",
    "        print(f'F1 Score train: {f1_score_train}')\n",
    "        print(f'Precision: {precision}')\n",
    "        print(f'Recall: {recall}')\n",
    "        get_CM(y_test,y_pred)\n",
    "        print('----------------------------------------------------------------------------------------------------')\n",
    "        \n",
    "        # Update the best model if necessary\n",
    "        if f1_score_test > best_score:\n",
    "            best_model = clf.best_estimator_\n",
    "            best_score = f1_score_test\n",
    "            best_params = clf.best_params_\n",
    "    \n",
    "    print(f'\\nBest Model: {type(best_model).__name__}')\n",
    "    print(f'Best Parameters: {best_params}')\n",
    "    print(f'F1 Score Score: {best_score}')\n",
    "    \n",
    "    return best_model"
   ]
  },
  {
   "cell_type": "code",
   "execution_count": 141,
   "id": "94ed1eeb",
   "metadata": {
    "collapsed": true
   },
   "outputs": [
    {
     "name": "stdout",
     "output_type": "stream",
     "text": [
      "Running GridSearchCV for KNN\n"
     ]
    },
    {
     "name": "stderr",
     "output_type": "stream",
     "text": [
      "C:\\ProgramData\\Anaconda3\\lib\\site-packages\\sklearn\\neighbors\\_classification.py:228: FutureWarning: Unlike other reduction functions (e.g. `skew`, `kurtosis`), the default behavior of `mode` typically preserves the axis it acts along. In SciPy 1.11.0, this behavior will change: the default value of `keepdims` will become False, the `axis` over which the statistic is taken will be eliminated, and the value None will no longer be accepted. Set `keepdims` to True or False to avoid this warning.\n",
      "  mode, _ = stats.mode(_y[neigh_ind, k], axis=1)\n",
      "C:\\ProgramData\\Anaconda3\\lib\\site-packages\\sklearn\\neighbors\\_classification.py:228: FutureWarning: Unlike other reduction functions (e.g. `skew`, `kurtosis`), the default behavior of `mode` typically preserves the axis it acts along. In SciPy 1.11.0, this behavior will change: the default value of `keepdims` will become False, the `axis` over which the statistic is taken will be eliminated, and the value None will no longer be accepted. Set `keepdims` to True or False to avoid this warning.\n",
      "  mode, _ = stats.mode(_y[neigh_ind, k], axis=1)\n"
     ]
    },
    {
     "name": "stdout",
     "output_type": "stream",
     "text": [
      "Best Parameters: {'n_neighbors': 2}\n",
      "F1 Score test: 0.7995169082125604\n",
      "F1 Score train: 0.9893759921846379\n",
      "Precision: 0.6853002070393375\n",
      "Recall: 0.9594202898550724\n"
     ]
    },
    {
     "data": {
      "image/png": "[encoded data removed]",
      "text/plain": [
       "<Figure size 640x480 with 2 Axes>"
      ]
     },
     "metadata": {},
     "output_type": "display_data"
    },
    {
     "name": "stdout",
     "output_type": "stream",
     "text": [
      "----------------------------------------------------------------------------------------------------\n",
      "Running GridSearchCV for Bagging+DT\n",
      "Best Parameters: {'max_samples': 0.8, 'n_estimators': 120}\n",
      "F1 Score test: 0.8476386036960984\n",
      "F1 Score train: 1.0\n",
      "Precision: 0.7371428571428571\n",
      "Recall: 0.9971014492753624\n"
     ]
    },
    {
     "data": {
      "image/png": "[encoded data removed]",
      "text/plain": [
       "<Figure size 640x480 with 2 Axes>"
      ]
     },
     "metadata": {},
     "output_type": "display_data"
    },
    {
     "name": "stdout",
     "output_type": "stream",
     "text": [
      "----------------------------------------------------------------------------------------------------\n",
      "Running GridSearchCV for Boosting+DT\n",
      "Best Parameters: {'learning_rate': 1, 'n_estimators': 200}\n",
      "F1 Score test: 0.7211169284467713\n",
      "F1 Score train: 1.0\n",
      "Precision: 0.5644808743169399\n",
      "Recall: 0.9980676328502416\n"
     ]
    },
    {
     "data": {
      "image/png": "[encoded data removed]",
      "text/plain": [
       "<Figure size 640x480 with 2 Axes>"
      ]
     },
     "metadata": {},
     "output_type": "display_data"
    },
    {
     "name": "stdout",
     "output_type": "stream",
     "text": [
      "----------------------------------------------------------------------------------------------------\n",
      "Running GridSearchCV for Random Forest\n",
      "Best Parameters: {'max_depth': 20, 'n_estimators': 150}\n",
      "F1 Score test: 0.9388686131386862\n",
      "F1 Score train: 1.0\n",
      "Precision: 0.8893690579083837\n",
      "Recall: 0.9942028985507246\n"
     ]
    },
    {
     "data": {
      "image/png": "[encoded data removed]",
      "text/plain": [
       "<Figure size 640x480 with 2 Axes>"
      ]
     },
     "metadata": {},
     "output_type": "display_data"
    },
    {
     "name": "stdout",
     "output_type": "stream",
     "text": [
      "----------------------------------------------------------------------------------------------------\n",
      "\n",
      "Best Model: RandomForestClassifier\n",
      "Best Parameters: {'max_depth': 20, 'n_estimators': 150}\n",
      "F1 Score Score: 0.9388686131386862\n"
     ]
    }
   ],
   "source": [
    "# Call the grid_search function with the specified models and hyperparameters\n",
    "best_model = grid_search(X_cc, Y_cc, X_test, Y_test, models, params)"
   ]
  },
  {
   "cell_type": "code",
   "execution_count": 142,
   "id": "72327fb6",
   "metadata": {
    "collapsed": true
   },
   "outputs": [
    {
     "name": "stdout",
     "output_type": "stream",
     "text": [
      "Running GridSearchCV for KNN\n"
     ]
    },
    {
     "name": "stderr",
     "output_type": "stream",
     "text": [
      "C:\\ProgramData\\Anaconda3\\lib\\site-packages\\sklearn\\neighbors\\_classification.py:228: FutureWarning: Unlike other reduction functions (e.g. `skew`, `kurtosis`), the default behavior of `mode` typically preserves the axis it acts along. In SciPy 1.11.0, this behavior will change: the default value of `keepdims` will become False, the `axis` over which the statistic is taken will be eliminated, and the value None will no longer be accepted. Set `keepdims` to True or False to avoid this warning.\n",
      "  mode, _ = stats.mode(_y[neigh_ind, k], axis=1)\n",
      "C:\\ProgramData\\Anaconda3\\lib\\site-packages\\sklearn\\neighbors\\_classification.py:228: FutureWarning: Unlike other reduction functions (e.g. `skew`, `kurtosis`), the default behavior of `mode` typically preserves the axis it acts along. In SciPy 1.11.0, this behavior will change: the default value of `keepdims` will become False, the `axis` over which the statistic is taken will be eliminated, and the value None will no longer be accepted. Set `keepdims` to True or False to avoid this warning.\n",
      "  mode, _ = stats.mode(_y[neigh_ind, k], axis=1)\n"
     ]
    },
    {
     "name": "stdout",
     "output_type": "stream",
     "text": [
      "Best Parameters: {'n_neighbors': 2}\n",
      "F1 Score test: 0.7080394922425952\n",
      "F1 Score train: 0.9960574998483653\n",
      "Precision: 0.5574680732926152\n",
      "Recall: 0.970048309178744\n"
     ]
    },
    {
     "data": {
      "image/png": "[encoded data removed]",
      "text/plain": [
       "<Figure size 640x480 with 2 Axes>"
      ]
     },
     "metadata": {},
     "output_type": "display_data"
    },
    {
     "name": "stdout",
     "output_type": "stream",
     "text": [
      "----------------------------------------------------------------------------------------------------\n",
      "Running GridSearchCV for Bagging+DT\n",
      "Best Parameters: {'max_samples': 0.5, 'n_estimators': 100}\n",
      "F1 Score test: 0.8711449091677229\n",
      "F1 Score train: 0.9993954781767621\n",
      "Precision: 0.774024024024024\n",
      "Recall: 0.996135265700483\n"
     ]
    },
    {
     "data": {
      "image/png": "[encoded data removed]",
      "text/plain": [
       "<Figure size 640x480 with 2 Axes>"
      ]
     },
     "metadata": {},
     "output_type": "display_data"
    },
    {
     "name": "stdout",
     "output_type": "stream",
     "text": [
      "----------------------------------------------------------------------------------------------------\n",
      "Running GridSearchCV for Boosting+DT\n",
      "Best Parameters: {'learning_rate': 1, 'n_estimators': 250}\n",
      "F1 Score test: 0.6550301491589972\n",
      "F1 Score train: 1.0\n",
      "Precision: 0.4877126654064272\n",
      "Recall: 0.9971014492753624\n"
     ]
    },
    {
     "data": {
      "image/png": "[encoded data removed]",
      "text/plain": [
       "<Figure size 640x480 with 2 Axes>"
      ]
     },
     "metadata": {},
     "output_type": "display_data"
    },
    {
     "name": "stdout",
     "output_type": "stream",
     "text": [
      "----------------------------------------------------------------------------------------------------\n",
      "Running GridSearchCV for Random Forest\n",
      "Best Parameters: {'max_depth': 20, 'n_estimators': 150}\n",
      "F1 Score test: 0.9282814614343707\n",
      "F1 Score train: 0.9999395806899884\n",
      "Precision: 0.8705583756345178\n",
      "Recall: 0.9942028985507246\n"
     ]
    },
    {
     "data": {
      "image/png": "[encoded data removed]",
      "text/plain": [
       "<Figure size 640x480 with 2 Axes>"
      ]
     },
     "metadata": {},
     "output_type": "display_data"
    },
    {
     "name": "stdout",
     "output_type": "stream",
     "text": [
      "----------------------------------------------------------------------------------------------------\n",
      "\n",
      "Best Model: RandomForestClassifier\n",
      "Best Parameters: {'max_depth': 20, 'n_estimators': 150}\n",
      "F1 Score Score: 0.9282814614343707\n"
     ]
    }
   ],
   "source": [
    "# Call the grid_search function with the specified models and hyperparameters\n",
    "best_model = grid_search(X_SMOTE, Y_SMOTE, X_test, Y_test, models, params)"
   ]
  },
  {
   "cell_type": "code",
   "execution_count": 143,
   "id": "0213f1b0",
   "metadata": {
    "collapsed": true
   },
   "outputs": [
    {
     "name": "stdout",
     "output_type": "stream",
     "text": [
      "Running GridSearchCV for KNN\n"
     ]
    },
    {
     "name": "stderr",
     "output_type": "stream",
     "text": [
      "C:\\ProgramData\\Anaconda3\\lib\\site-packages\\sklearn\\neighbors\\_classification.py:228: FutureWarning: Unlike other reduction functions (e.g. `skew`, `kurtosis`), the default behavior of `mode` typically preserves the axis it acts along. In SciPy 1.11.0, this behavior will change: the default value of `keepdims` will become False, the `axis` over which the statistic is taken will be eliminated, and the value None will no longer be accepted. Set `keepdims` to True or False to avoid this warning.\n",
      "  mode, _ = stats.mode(_y[neigh_ind, k], axis=1)\n",
      "C:\\ProgramData\\Anaconda3\\lib\\site-packages\\sklearn\\neighbors\\_classification.py:228: FutureWarning: Unlike other reduction functions (e.g. `skew`, `kurtosis`), the default behavior of `mode` typically preserves the axis it acts along. In SciPy 1.11.0, this behavior will change: the default value of `keepdims` will become False, the `axis` over which the statistic is taken will be eliminated, and the value None will no longer be accepted. Set `keepdims` to True or False to avoid this warning.\n",
      "  mode, _ = stats.mode(_y[neigh_ind, k], axis=1)\n"
     ]
    },
    {
     "name": "stdout",
     "output_type": "stream",
     "text": [
      "Best Parameters: {'n_neighbors': 2}\n",
      "F1 Score test: 0.4696374971138305\n",
      "F1 Score train: 0.9979962353512659\n",
      "Precision: 0.30855582524271846\n",
      "Recall: 0.9826086956521739\n"
     ]
    },
    {
     "data": {
      "image/png": "[encoded data removed]",
      "text/plain": [
       "<Figure size 640x480 with 2 Axes>"
      ]
     },
     "metadata": {},
     "output_type": "display_data"
    },
    {
     "name": "stdout",
     "output_type": "stream",
     "text": [
      "----------------------------------------------------------------------------------------------------\n",
      "Running GridSearchCV for Bagging+DT\n",
      "Best Parameters: {'max_samples': 0.8, 'n_estimators': 100}\n",
      "F1 Score test: 0.6373762376237624\n",
      "F1 Score train: 1.0\n",
      "Precision: 0.46882111970869367\n",
      "Recall: 0.9951690821256038\n"
     ]
    },
    {
     "data": {
      "image/png": "[encoded data removed]",
      "text/plain": [
       "<Figure size 640x480 with 2 Axes>"
      ]
     },
     "metadata": {},
     "output_type": "display_data"
    },
    {
     "name": "stdout",
     "output_type": "stream",
     "text": [
      "----------------------------------------------------------------------------------------------------\n",
      "Running GridSearchCV for Boosting+DT\n",
      "Best Parameters: {'learning_rate': 0.8, 'n_estimators': 250}\n",
      "F1 Score test: 0.6101393418321969\n",
      "F1 Score train: 1.0\n",
      "Precision: 0.44011976047904194\n",
      "Recall: 0.9942028985507246\n"
     ]
    },
    {
     "data": {
      "image/png": "[encoded data removed]",
      "text/plain": [
       "<Figure size 640x480 with 2 Axes>"
      ]
     },
     "metadata": {},
     "output_type": "display_data"
    },
    {
     "name": "stdout",
     "output_type": "stream",
     "text": [
      "----------------------------------------------------------------------------------------------------\n",
      "Running GridSearchCV for Random Forest\n",
      "Best Parameters: {'max_depth': 20, 'n_estimators': 150}\n",
      "F1 Score test: 0.7862595419847328\n",
      "F1 Score train: 1.0\n",
      "Precision: 0.6498422712933754\n",
      "Recall: 0.9951690821256038\n"
     ]
    },
    {
     "data": {
      "image/png": "[encoded data removed]",
      "text/plain": [
       "<Figure size 640x480 with 2 Axes>"
      ]
     },
     "metadata": {},
     "output_type": "display_data"
    },
    {
     "name": "stdout",
     "output_type": "stream",
     "text": [
      "----------------------------------------------------------------------------------------------------\n",
      "\n",
      "Best Model: RandomForestClassifier\n",
      "Best Parameters: {'max_depth': 20, 'n_estimators': 150}\n",
      "F1 Score Score: 0.7862595419847328\n"
     ]
    }
   ],
   "source": [
    "# Call the grid_search function with the specified models and hyperparameters\n",
    "best_model = grid_search(X_ADASYN, Y_ADASYN, X_test, Y_test, models, params)"
   ]
  },
  {
   "cell_type": "code",
   "execution_count": 144,
   "id": "0bb01830",
   "metadata": {
    "collapsed": true
   },
   "outputs": [
    {
     "name": "stderr",
     "output_type": "stream",
     "text": [
      "C:\\ProgramData\\Anaconda3\\lib\\site-packages\\sklearn\\svm\\_base.py:1206: ConvergenceWarning: Liblinear failed to converge, increase the number of iterations.\n",
      "  warnings.warn(\n"
     ]
    },
    {
     "name": "stdout",
     "output_type": "stream",
     "text": [
      "F1 score on training data:  0.8433537832310838\n",
      "F1 score on test data:  0.01851752166657695\n",
      "Precision test data:  0.009345540492814258\n",
      "Recall test data:  0.9971014492753624\n"
     ]
    },
    {
     "data": {
      "image/png": "[encoded data removed]",
      "text/plain": [
       "<Figure size 640x480 with 1 Axes>"
      ]
     },
     "metadata": {},
     "output_type": "display_data"
    },
    {
     "data": {
      "image/png": "[encoded data removed]",
      "text/plain": [
       "<Figure size 640x480 with 2 Axes>"
      ]
     },
     "metadata": {},
     "output_type": "display_data"
    }
   ],
   "source": [
    "from sklearn.svm import LinearSVC\n",
    "\n",
    "# Support Vector Machine\n",
    "svm=LinearSVC(C=100)\n",
    "svm.fit(X_cc, Y_cc)\n",
    "\n",
    "X_train_prediction = svm.predict(X_cc)\n",
    "X_test_prediction= svm.predict(X_test)\n",
    "\n",
    "training_data_F1Score = get_f1score(Y_cc, X_train_prediction)\n",
    "test_data_F1Score = get_f1score(Y_test, X_test_prediction)\n",
    "\n",
    "precision = get_precision(Y_test, X_test_prediction)\n",
    "recall = get_recall(Y_test, X_test_prediction)\n",
    "\n",
    "print('F1 score on training data: ', training_data_F1Score)\n",
    "print('F1 score on test data: ', test_data_F1Score)\n",
    "print('Precision test data: ', precision)\n",
    "print('Recall test data: ', recall)\n",
    "get_AUPRC(svm, \"LinearSVC\", X_test, Y_test)\n",
    "get_CM(Y_test,X_test_prediction)"
   ]
  },
  {
   "cell_type": "code",
   "execution_count": 145,
   "id": "0112f1ff",
   "metadata": {
    "collapsed": true
   },
   "outputs": [
    {
     "name": "stderr",
     "output_type": "stream",
     "text": [
      "C:\\ProgramData\\Anaconda3\\lib\\site-packages\\sklearn\\svm\\_base.py:1206: ConvergenceWarning: Liblinear failed to converge, increase the number of iterations.\n",
      "  warnings.warn(\n"
     ]
    },
    {
     "name": "stdout",
     "output_type": "stream",
     "text": [
      "F1 score on training data:  0.9432492818384935\n",
      "F1 score on test data:  0.8742228598756574\n",
      "Precision test data:  0.865530303030303\n",
      "Recall test data:  0.8830917874396135\n"
     ]
    },
    {
     "data": {
      "image/png": "[encoded data removed]",
      "text/plain": [
       "<Figure size 640x480 with 1 Axes>"
      ]
     },
     "metadata": {},
     "output_type": "display_data"
    },
    {
     "data": {
      "image/png": "[encoded data removed]",
      "text/plain": [
       "<Figure size 640x480 with 2 Axes>"
      ]
     },
     "metadata": {},
     "output_type": "display_data"
    }
   ],
   "source": [
    "from sklearn.svm import LinearSVC\n",
    "\n",
    "# Support Vector Machine\n",
    "svm=LinearSVC(C=100)\n",
    "svm.fit(X_SMOTE, Y_SMOTE)\n",
    "\n",
    "X_train_prediction = svm.predict(X_SMOTE)\n",
    "X_test_prediction= svm.predict(X_test)\n",
    "\n",
    "training_data_F1Score = get_f1score(Y_SMOTE, X_train_prediction)\n",
    "test_data_F1Score = get_f1score(Y_test, X_test_prediction)\n",
    "\n",
    "precision = get_precision(Y_test, X_test_prediction)\n",
    "recall = get_recall(Y_test, X_test_prediction)\n",
    "\n",
    "print('F1 score on training data: ', training_data_F1Score)\n",
    "print('F1 score on test data: ', test_data_F1Score)\n",
    "print('Precision test data: ', precision)\n",
    "print('Recall test data: ', recall)\n",
    "get_AUPRC(svm, \"LinearSVC\", X_test, Y_test)\n",
    "get_CM(Y_test,X_test_prediction)"
   ]
  },
  {
   "cell_type": "code",
   "execution_count": 146,
   "id": "685d7ef3",
   "metadata": {
    "collapsed": true
   },
   "outputs": [
    {
     "name": "stderr",
     "output_type": "stream",
     "text": [
      "C:\\ProgramData\\Anaconda3\\lib\\site-packages\\sklearn\\svm\\_base.py:1206: ConvergenceWarning: Liblinear failed to converge, increase the number of iterations.\n",
      "  warnings.warn(\n"
     ]
    },
    {
     "name": "stdout",
     "output_type": "stream",
     "text": [
      "F1 score on training data:  0.8865935011835593\n",
      "F1 score on test data:  0.022945612456824267\n",
      "Precision test data:  0.011606219945171003\n",
      "Recall test data:  0.9980676328502416\n"
     ]
    },
    {
     "data": {
      "image/png": "[encoded data removed]",
      "text/plain": [
       "<Figure size 640x480 with 1 Axes>"
      ]
     },
     "metadata": {},
     "output_type": "display_data"
    },
    {
     "data": {
      "image/png": "[encoded data removed]",
      "text/plain": [
       "<Figure size 640x480 with 2 Axes>"
      ]
     },
     "metadata": {},
     "output_type": "display_data"
    }
   ],
   "source": [
    "from sklearn.svm import LinearSVC\n",
    "\n",
    "# Support Vector Machine\n",
    "svm=LinearSVC(C=100)\n",
    "svm.fit(X_ADASYN, Y_ADASYN)\n",
    "\n",
    "X_train_prediction = svm.predict(X_ADASYN)\n",
    "X_test_prediction= svm.predict(X_test)\n",
    "\n",
    "training_data_F1Score = get_f1score(Y_ADASYN, X_train_prediction)\n",
    "test_data_F1Score = get_f1score(Y_test, X_test_prediction)\n",
    "\n",
    "precision = get_precision(Y_test, X_test_prediction)\n",
    "recall = get_recall(Y_test, X_test_prediction)\n",
    "\n",
    "print('F1 score on training data: ', training_data_F1Score)\n",
    "print('F1 score on test data: ', test_data_F1Score)\n",
    "print('Precision test data: ', precision)\n",
    "print('Recall test data: ', recall)\n",
    "get_AUPRC(svm, \"LinearSVC\", X_test, Y_test)\n",
    "get_CM(Y_test,X_test_prediction)"
   ]
  },
  {
   "cell_type": "code",
   "execution_count": 147,
   "id": "da3f8869",
   "metadata": {
    "scrolled": true
   },
   "outputs": [
    {
     "data": {
      "text/markdown": [
       "**Summary**"
      ],
      "text/plain": [
       "<IPython.core.display.Markdown object>"
      ]
     },
     "metadata": {},
     "output_type": "display_data"
    },
    {
     "data": {
      "text/html": [
       "<div>\n",
       "<style scoped>\n",
       "    .dataframe tbody tr th:only-of-type {\n",
       "        vertical-align: middle;\n",
       "    }\n",
       "\n",
       "    .dataframe tbody tr th {\n",
       "        vertical-align: top;\n",
       "    }\n",
       "\n",
       "    .dataframe thead th {\n",
       "        text-align: right;\n",
       "    }\n",
       "</style>\n",
       "<table border=\"1\" class=\"dataframe\">\n",
       "  <thead>\n",
       "    <tr style=\"text-align: right;\">\n",
       "      <th></th>\n",
       "      <th>Resample method</th>\n",
       "      <th>Classifier</th>\n",
       "      <th>False positives</th>\n",
       "      <th>False negatives</th>\n",
       "    </tr>\n",
       "  </thead>\n",
       "  <tbody>\n",
       "    <tr>\n",
       "      <th>0</th>\n",
       "      <td>CC</td>\n",
       "      <td>KNN</td>\n",
       "      <td>456</td>\n",
       "      <td>42</td>\n",
       "    </tr>\n",
       "    <tr>\n",
       "      <th>1</th>\n",
       "      <td>SMOTE</td>\n",
       "      <td>KNN</td>\n",
       "      <td>797</td>\n",
       "      <td>31</td>\n",
       "    </tr>\n",
       "    <tr>\n",
       "      <th>2</th>\n",
       "      <td>ADASYN</td>\n",
       "      <td>KNN</td>\n",
       "      <td>2279</td>\n",
       "      <td>18</td>\n",
       "    </tr>\n",
       "    <tr>\n",
       "      <th>3</th>\n",
       "      <td>CC</td>\n",
       "      <td>Bagging+DT</td>\n",
       "      <td>368</td>\n",
       "      <td>3</td>\n",
       "    </tr>\n",
       "    <tr>\n",
       "      <th>4</th>\n",
       "      <td>SMOTE</td>\n",
       "      <td>Bagging+DT</td>\n",
       "      <td>301</td>\n",
       "      <td>4</td>\n",
       "    </tr>\n",
       "    <tr>\n",
       "      <th>5</th>\n",
       "      <td>ADASYN</td>\n",
       "      <td>Bagging+DT</td>\n",
       "      <td>1167</td>\n",
       "      <td>5</td>\n",
       "    </tr>\n",
       "    <tr>\n",
       "      <th>6</th>\n",
       "      <td>CC</td>\n",
       "      <td>Boosting+DT</td>\n",
       "      <td>797</td>\n",
       "      <td>2</td>\n",
       "    </tr>\n",
       "    <tr>\n",
       "      <th>7</th>\n",
       "      <td>SMOTE</td>\n",
       "      <td>Boosting+DT</td>\n",
       "      <td>1084</td>\n",
       "      <td>3</td>\n",
       "    </tr>\n",
       "    <tr>\n",
       "      <th>8</th>\n",
       "      <td>ADASYN</td>\n",
       "      <td>Boosting+DT</td>\n",
       "      <td>1309</td>\n",
       "      <td>6</td>\n",
       "    </tr>\n",
       "    <tr>\n",
       "      <th>9</th>\n",
       "      <td>CC</td>\n",
       "      <td>Random Forest</td>\n",
       "      <td>128</td>\n",
       "      <td>6</td>\n",
       "    </tr>\n",
       "    <tr>\n",
       "      <th>10</th>\n",
       "      <td>SMOTE</td>\n",
       "      <td>Random Forest</td>\n",
       "      <td>153</td>\n",
       "      <td>6</td>\n",
       "    </tr>\n",
       "    <tr>\n",
       "      <th>11</th>\n",
       "      <td>ADASYN</td>\n",
       "      <td>Random Forest</td>\n",
       "      <td>555</td>\n",
       "      <td>5</td>\n",
       "    </tr>\n",
       "  </tbody>\n",
       "</table>\n",
       "</div>"
      ],
      "text/plain": [
       "   Resample method     Classifier  False positives  False negatives\n",
       "0               CC           KNN               456               42\n",
       "1            SMOTE           KNN               797               31\n",
       "2           ADASYN           KNN              2279               18\n",
       "3               CC     Bagging+DT              368                3\n",
       "4            SMOTE     Bagging+DT              301                4\n",
       "5           ADASYN     Bagging+DT             1167                5\n",
       "6               CC    Boosting+DT              797                2\n",
       "7            SMOTE    Boosting+DT             1084                3\n",
       "8           ADASYN    Boosting+DT             1309                6\n",
       "9               CC  Random Forest              128                6\n",
       "10           SMOTE  Random Forest              153                6\n",
       "11          ADASYN  Random Forest              555                5"
      ]
     },
     "metadata": {},
     "output_type": "display_data"
    }
   ],
   "source": [
    "from IPython.display import display, Markdown\n",
    "# define a title for the table\n",
    "title = 'Summary'\n",
    "\n",
    "# display the title and the DataFrame\n",
    "display(Markdown(f'**{title}**'))\n",
    "data = {\n",
    "    'Resample method': ['CC','SMOTE', 'ADASYN','CC','SMOTE', 'ADASYN','CC','SMOTE', 'ADASYN','CC','SMOTE', 'ADASYN'],\n",
    "    'Classifier': ['KNN ', 'KNN ','KNN ','Bagging+DT','Bagging+DT','Bagging+DT', 'Boosting+DT', 'Boosting+DT','Boosting+DT','Random Forest', 'Random Forest', 'Random Forest'],\n",
    "    'False positives': [456, 797, 2279, 368, 301, 1167, 797, 1084, 1309, 128, 153, 555],\n",
    "    'False negatives': [42, 31, 18, 3, 4, 5, 2, 3, 6, 6, 6, 5],\n",
    "}\n",
    "\n",
    "display(pd.DataFrame(data))\n"
   ]
  },
  {
   "cell_type": "markdown",
   "id": "ed988a52",
   "metadata": {},
   "source": [
    "### Summary\n",
    " Models trained with cc has the least total false predictions "
   ]
  },
  {
   "cell_type": "markdown",
   "id": "b29980f4",
   "metadata": {},
   "source": [
    "### Building a hybrid model"
   ]
  },
  {
   "cell_type": "markdown",
   "id": "27b7db97",
   "metadata": {},
   "source": [
    "#### Train the classifiers with the best hyperparameters"
   ]
  },
  {
   "cell_type": "code",
   "execution_count": 148,
   "id": "f22b9424",
   "metadata": {},
   "outputs": [
    {
     "data": {
      "text/plain": [
       "RandomForestClassifier(max_depth=20, n_estimators=150)"
      ]
     },
     "execution_count": 148,
     "metadata": {},
     "output_type": "execute_result"
    }
   ],
   "source": [
    "knn_best = KNeighborsClassifier(n_neighbors= 2)\n",
    "bagging_dt_best = BaggingClassifier(base_estimator=DecisionTreeClassifier(),max_samples= 0.8, n_estimators= 120)\n",
    "boosting_dt_best = AdaBoostClassifier(base_estimator=DecisionTreeClassifier(),n_estimators=200,learning_rate=1)\n",
    "rf_best = RandomForestClassifier(max_depth= 20, n_estimators=150)\n",
    "\n",
    "X_train = X_cc\n",
    "y_train = Y_cc\n",
    "\n",
    "knn_best.fit(X_train, y_train)\n",
    "bagging_dt_best.fit(X_train, y_train)\n",
    "boosting_dt_best.fit(X_train, y_train)\n",
    "rf_best.fit(X_train, y_train)"
   ]
  },
  {
   "cell_type": "code",
   "execution_count": 149,
   "id": "1bbdd8d9",
   "metadata": {},
   "outputs": [
    {
     "name": "stderr",
     "output_type": "stream",
     "text": [
      "C:\\ProgramData\\Anaconda3\\lib\\site-packages\\sklearn\\neighbors\\_classification.py:228: FutureWarning: Unlike other reduction functions (e.g. `skew`, `kurtosis`), the default behavior of `mode` typically preserves the axis it acts along. In SciPy 1.11.0, this behavior will change: the default value of `keepdims` will become False, the `axis` over which the statistic is taken will be eliminated, and the value None will no longer be accepted. Set `keepdims` to True or False to avoid this warning.\n",
      "  mode, _ = stats.mode(_y[neigh_ind, k], axis=1)\n"
     ]
    }
   ],
   "source": [
    "# make predictions using each classifier\n",
    "knn_preds = knn_best.predict(X_test)\n",
    "bagging_dt_preds = bagging_dt_best.predict(X_test)\n",
    "boosting_dt_preds = boosting_dt_best.predict(X_test)\n",
    "rf_preds = rf_best.predict(X_test)"
   ]
  },
  {
   "cell_type": "markdown",
   "id": "f8aa0177",
   "metadata": {},
   "source": [
    "#### Combine the predictions using a voting classifier"
   ]
  },
  {
   "cell_type": "code",
   "execution_count": 150,
   "id": "0fd2e56d",
   "metadata": {},
   "outputs": [
    {
     "data": {
      "text/plain": [
       "VotingClassifier(estimators=[('knn', KNeighborsClassifier(n_neighbors=2)),\n",
       "                             ('bagging_dt',\n",
       "                              BaggingClassifier(base_estimator=DecisionTreeClassifier(),\n",
       "                                                max_samples=0.8,\n",
       "                                                n_estimators=120)),\n",
       "                             ('boosting_dt',\n",
       "                              AdaBoostClassifier(base_estimator=DecisionTreeClassifier(),\n",
       "                                                 learning_rate=1,\n",
       "                                                 n_estimators=200)),\n",
       "                             ('rf',\n",
       "                              RandomForestClassifier(max_depth=20,\n",
       "                                                     n_estimators=150))])"
      ]
     },
     "execution_count": 150,
     "metadata": {},
     "output_type": "execute_result"
    }
   ],
   "source": [
    "from sklearn.ensemble import VotingClassifier\n",
    "\n",
    "estimators = [('knn', knn_best), ('bagging_dt', bagging_dt_best), ('boosting_dt', boosting_dt_best), ('rf', rf_best)]\n",
    "voting_clf = VotingClassifier(estimators=estimators, voting='hard')\n",
    "voting_clf.fit(X_train, y_train)"
   ]
  },
  {
   "cell_type": "code",
   "execution_count": 151,
   "id": "1330b889",
   "metadata": {},
   "outputs": [
    {
     "name": "stderr",
     "output_type": "stream",
     "text": [
      "C:\\ProgramData\\Anaconda3\\lib\\site-packages\\sklearn\\neighbors\\_classification.py:228: FutureWarning: Unlike other reduction functions (e.g. `skew`, `kurtosis`), the default behavior of `mode` typically preserves the axis it acts along. In SciPy 1.11.0, this behavior will change: the default value of `keepdims` will become False, the `axis` over which the statistic is taken will be eliminated, and the value None will no longer be accepted. Set `keepdims` to True or False to avoid this warning.\n",
      "  mode, _ = stats.mode(_y[neigh_ind, k], axis=1)\n",
      "C:\\ProgramData\\Anaconda3\\lib\\site-packages\\sklearn\\neighbors\\_classification.py:228: FutureWarning: Unlike other reduction functions (e.g. `skew`, `kurtosis`), the default behavior of `mode` typically preserves the axis it acts along. In SciPy 1.11.0, this behavior will change: the default value of `keepdims` will become False, the `axis` over which the statistic is taken will be eliminated, and the value None will no longer be accepted. Set `keepdims` to True or False to avoid this warning.\n",
      "  mode, _ = stats.mode(_y[neigh_ind, k], axis=1)\n"
     ]
    },
    {
     "name": "stdout",
     "output_type": "stream",
     "text": [
      "F1 score on training data:  1.0\n",
      "F1 score on test data:  0.9527340129749768\n",
      "Precision test data:  0.9154051647373108\n",
      "Recall test data:  0.9932367149758454\n"
     ]
    },
    {
     "data": {
      "image/png": "[encoded data removed]",
      "text/plain": [
       "<Figure size 640x480 with 2 Axes>"
      ]
     },
     "metadata": {},
     "output_type": "display_data"
    }
   ],
   "source": [
    "# Evaluate the voting classifier\n",
    "\n",
    "y_test = Y_test\n",
    "\n",
    "voting_preds_test = voting_clf.predict(X_test)\n",
    "voting_preds_train = voting_clf.predict(X_train)\n",
    "\n",
    "training_F1Score = get_f1score(y_train, voting_preds_train)\n",
    "test_F1Score = get_f1score(y_test, voting_preds_test)\n",
    "\n",
    "precision = get_precision(y_test, voting_preds_test)\n",
    "recall = get_recall(y_test, voting_preds_test)\n",
    "\n",
    "print('F1 score on training data: ', training_F1Score)\n",
    "print('F1 score on test data: ', test_F1Score)\n",
    "print('Precision test data: ', precision)\n",
    "print('Recall test data: ', recall)\n",
    "get_CM(y_test,voting_preds_test)"
   ]
  },
  {
   "cell_type": "code",
   "execution_count": 160,
   "id": "ad20ac73",
   "metadata": {},
   "outputs": [
    {
     "data": {
      "text/plain": [
       "Index(['amt', 'gender', 'city_pop', 'category_entertainment',\n",
       "       'category_food_dining', 'category_gas_transport',\n",
       "       'category_grocery_net', 'category_grocery_pos',\n",
       "       'category_health_fitness', 'category_home', 'category_kids_pets',\n",
       "       'category_misc_net', 'category_misc_pos', 'category_personal_care',\n",
       "       'category_shopping_net', 'category_shopping_pos', 'category_travel',\n",
       "       'state_AK', 'state_AL', 'state_AR', 'state_AZ', 'state_CA', 'state_CO',\n",
       "       'state_CT', 'state_DC', 'state_DE', 'state_FL', 'state_GA', 'state_HI',\n",
       "       'state_IA', 'state_ID', 'state_IL', 'state_IN', 'state_KS', 'state_KY',\n",
       "       'state_LA', 'state_MA', 'state_MD', 'state_ME', 'state_MI', 'state_MN',\n",
       "       'state_MO', 'state_MS', 'state_MT', 'state_NC', 'state_ND', 'state_NE',\n",
       "       'state_NH', 'state_NJ', 'state_NM', 'state_NV', 'state_NY', 'state_OH',\n",
       "       'state_OK', 'state_OR', 'state_PA', 'state_RI', 'state_SC', 'state_SD',\n",
       "       'state_TN', 'state_TX', 'state_UT', 'state_VA', 'state_VT', 'state_WA',\n",
       "       'state_WI', 'state_WV', 'state_WY', 'cc_type_American Express',\n",
       "       'cc_type_Diners Club - Carte Blanche', 'cc_type_Discover',\n",
       "       'cc_type_JCB', 'cc_type_MasterCard', 'cc_type_Other', 'cc_type_Visa',\n",
       "       'day_Friday', 'day_Monday', 'day_Saturday', 'day_Sunday',\n",
       "       'day_Thursday', 'day_Tuesday', 'day_Wednesday', 'time_period_afternoon',\n",
       "       'time_period_dawn', 'time_period_evening', 'time_period_morning',\n",
       "       'time_period_night', 'time_period_noon'],\n",
       "      dtype='object')"
      ]
     },
     "execution_count": 160,
     "metadata": {},
     "output_type": "execute_result"
    }
   ],
   "source": [
    "X.columns"
   ]
  },
  {
   "cell_type": "code",
   "execution_count": 161,
   "id": "b175bdd8",
   "metadata": {},
   "outputs": [
    {
     "data": {
      "text/plain": [
       "3"
      ]
     },
     "execution_count": 161,
     "metadata": {},
     "output_type": "execute_result"
    }
   ],
   "source": [
    "category = 'entertainment'\n",
    "np.where(X.columns =='category_'+category)[0][0]    "
   ]
  },
  {
   "cell_type": "code",
   "execution_count": 162,
   "id": "569ae789",
   "metadata": {},
   "outputs": [
    {
     "data": {
      "text/plain": [
       "61"
      ]
     },
     "execution_count": 162,
     "metadata": {},
     "output_type": "execute_result"
    }
   ],
   "source": [
    "state = 'UT'\n",
    "np.where(X.columns =='state_'+state)[0][0]  "
   ]
  },
  {
   "cell_type": "code",
   "execution_count": 163,
   "id": "3509a88f",
   "metadata": {},
   "outputs": [
    {
     "data": {
      "text/plain": [
       "69"
      ]
     },
     "execution_count": 163,
     "metadata": {},
     "output_type": "execute_result"
    }
   ],
   "source": [
    "cc_type = 'Diners Club - Carte Blanche'\n",
    "np.where(X.columns =='cc_type_'+cc_type)[0][0]"
   ]
  },
  {
   "cell_type": "code",
   "execution_count": 164,
   "id": "d0564aa4",
   "metadata": {},
   "outputs": [
    {
     "data": {
      "text/plain": [
       "79"
      ]
     },
     "execution_count": 164,
     "metadata": {},
     "output_type": "execute_result"
    }
   ],
   "source": [
    "day = 'Thursday'\n",
    "np.where(X.columns =='day_'+day)[0][0]"
   ]
  },
  {
   "cell_type": "code",
   "execution_count": 165,
   "id": "bc15ed19",
   "metadata": {},
   "outputs": [
    {
     "data": {
      "text/plain": [
       "87"
      ]
     },
     "execution_count": 165,
     "metadata": {},
     "output_type": "execute_result"
    }
   ],
   "source": [
    "time_period = 'noon'\n",
    "np.where(X.columns =='time_period_'+time_period)[0][0]"
   ]
  },
  {
   "cell_type": "code",
   "execution_count": 166,
   "id": "8563f457",
   "metadata": {},
   "outputs": [],
   "source": [
    "def predict_transaction(amnt,gender,city_pop,category,state,\n",
    "                        cc_type,day,time_period):\n",
    "    category_index = np.where(X.columns =='category_'+category)[0][0]  \n",
    "    state_index = np.where(X.columns =='state_'+state)[0][0]  \n",
    "    cc_type_index = np.where(X.columns =='cc_type_'+cc_type)[0][0]\n",
    "    day_index = np.where(X.columns =='day_'+day)[0][0]\n",
    "    time_period_index = np.where(X.columns =='time_period_'+time_period)[0][0]\n",
    "    \n",
    "    x = np.zeros(len(X.columns))\n",
    "    x[0] = amnt\n",
    "    x[1] = gender\n",
    "    x[2] = city_pop\n",
    "    \n",
    "    x[category_index] = 1\n",
    "    x[state_index] = 1\n",
    "    x[cc_type_index] = 1\n",
    "    x[day_index] = 1\n",
    "    x[time_period_index] = 1\n",
    "    \n",
    "    return voting_clf.predict([x])[0]"
   ]
  },
  {
   "cell_type": "code",
   "execution_count": 167,
   "id": "dbb2d790",
   "metadata": {},
   "outputs": [
    {
     "name": "stderr",
     "output_type": "stream",
     "text": [
      "C:\\ProgramData\\Anaconda3\\lib\\site-packages\\sklearn\\neighbors\\_classification.py:228: FutureWarning: Unlike other reduction functions (e.g. `skew`, `kurtosis`), the default behavior of `mode` typically preserves the axis it acts along. In SciPy 1.11.0, this behavior will change: the default value of `keepdims` will become False, the `axis` over which the statistic is taken will be eliminated, and the value None will no longer be accepted. Set `keepdims` to True or False to avoid this warning.\n",
      "  mode, _ = stats.mode(_y[neigh_ind, k], axis=1)\n"
     ]
    },
    {
     "data": {
      "text/plain": [
       "0"
      ]
     },
     "execution_count": 167,
     "metadata": {},
     "output_type": "execute_result"
    }
   ],
   "source": [
    "predict_transaction(43.77,\n",
    "                    1,\n",
    "                    519,\n",
    "                    'health_fitness',\n",
    "                    'MO',\n",
    "                    'Diners Club - Carte Blanche',\n",
    "                    'Tuesday',\n",
    "                    'night')"
   ]
  },
  {
   "cell_type": "code",
   "execution_count": 168,
   "id": "1a4c08b3",
   "metadata": {},
   "outputs": [],
   "source": [
    "import pickle\n",
    "with open('ccfd.pickle','wb') as f:\n",
    "    pickle.dump(voting_clf,f)"
   ]
  },
  {
   "cell_type": "code",
   "execution_count": 169,
   "id": "b064cd7f",
   "metadata": {},
   "outputs": [],
   "source": [
    "import json\n",
    "columns = {\n",
    "    'data_columns' : [col.lower() for col in X.columns]\n",
    "}\n",
    "with open(\"columns.json\",\"w\") as f:\n",
    "    f.write(json.dumps(columns))"
   ]
  },
  {
   "cell_type": "code",
   "execution_count": 179,
   "id": "e38480de",
   "metadata": {},
   "outputs": [],
   "source": [
    "def check_fraud(input_file):\n",
    "    # Load input CSV file\n",
    "    input_df = pd.read_csv(input_file)\n",
    "    \n",
    "    # Load CCFD model from pickle file\n",
    "    with open('ccfd.pickle', 'rb') as f:\n",
    "        model = pickle.load(f)\n",
    "    \n",
    "    # Apply CCFD model to input data and save results to output CSV file\n",
    "    input_df['is_fraud'] = model.predict(input_df)\n",
    "    \n",
    "    # split the input DataFrame into fraud and legit DataFrames\n",
    "    fraud_df = input_df[input_df['is_fraud'] == 1]\n",
    "    legit_df = input_df[input_df['is_fraud'] == 0]\n",
    "    \n",
    "    input_df.to_csv('output.csv', index=False)\n",
    "    fraud_df.to_csv('fraud.csv', index=False)\n",
    "    legit_df.to_csv('legit.csv', index=False)\n",
    "    \n",
    "    # Display statistics about results\n",
    "    num_fraud = input_df['is_fraud'].sum()\n",
    "    total_records = len(input_df)\n",
    "    fraud_pct = num_fraud / total_records * 100\n",
    "    print(f'Total number of fraud transactions: {num_fraud} out of {total_records} records ({fraud_pct:.2f}%)')"
   ]
  },
  {
   "cell_type": "code",
   "execution_count": 180,
   "id": "aa17c754",
   "metadata": {},
   "outputs": [
    {
     "name": "stderr",
     "output_type": "stream",
     "text": [
      "C:\\ProgramData\\Anaconda3\\lib\\site-packages\\sklearn\\base.py:443: UserWarning: X has feature names, but KNeighborsClassifier was fitted without feature names\n",
      "  warnings.warn(\n",
      "C:\\ProgramData\\Anaconda3\\lib\\site-packages\\sklearn\\neighbors\\_classification.py:228: FutureWarning: Unlike other reduction functions (e.g. `skew`, `kurtosis`), the default behavior of `mode` typically preserves the axis it acts along. In SciPy 1.11.0, this behavior will change: the default value of `keepdims` will become False, the `axis` over which the statistic is taken will be eliminated, and the value None will no longer be accepted. Set `keepdims` to True or False to avoid this warning.\n",
      "  mode, _ = stats.mode(_y[neigh_ind, k], axis=1)\n",
      "C:\\ProgramData\\Anaconda3\\lib\\site-packages\\sklearn\\base.py:443: UserWarning: X has feature names, but BaggingClassifier was fitted without feature names\n",
      "  warnings.warn(\n",
      "C:\\ProgramData\\Anaconda3\\lib\\site-packages\\sklearn\\base.py:443: UserWarning: X has feature names, but AdaBoostClassifier was fitted without feature names\n",
      "  warnings.warn(\n",
      "C:\\ProgramData\\Anaconda3\\lib\\site-packages\\sklearn\\base.py:443: UserWarning: X has feature names, but RandomForestClassifier was fitted without feature names\n",
      "  warnings.warn(\n"
     ]
    },
    {
     "name": "stdout",
     "output_type": "stream",
     "text": [
      "Total number of fraud transactions: 1123 out of 357525 records (0.31%)\n"
     ]
    }
   ],
   "source": [
    "check_fraud('testData.csv')"
   ]
  },
  {
   "cell_type": "code",
   "execution_count": 204,
   "id": "8cae4ab4",
   "metadata": {},
   "outputs": [],
   "source": [
    "def preprocess_data(filename):\n",
    "    # Load data from csv file\n",
    "    df = pd.read_csv(filename)\n",
    "    \n",
    "    # Replace values in gender field\n",
    "    df['gender'].replace({1: 'M', 0: 'F'}, inplace=True)\n",
    "    \n",
    "    # Perform reverse one-hot encoding on day columns\n",
    "    days = ['Monday', 'Tuesday', 'Wednesday', 'Thursday', 'Friday', 'Saturday', 'Sunday']\n",
    "    df['day'] = df[[f'day_{day}' for day in days]].apply(lambda x: days[x.values.argmax()], axis=1)\n",
    "    df.drop([f'day_{day}' for day in days], axis=1, inplace=True) \n",
    "    \n",
    "    # Perform reverse one-hot encoding on category columns\n",
    "    categories = ['entertainment', 'food_dining', 'gas_transport',\n",
    "                'grocery_net', 'grocery_pos', 'health_fitness',\n",
    "                'home', 'kids_pets', 'misc_net', 'misc_pos',\n",
    "                'personal_care', 'shopping_net', 'shopping_pos',\n",
    "                'travel']\n",
    "    df['category'] = df[[f'category_{category}' for category in categories]].apply(lambda x: categories[x.values.argmax()], axis=1)\n",
    "    df.drop([f'category_{category}' for category in categories], axis=1, inplace=True) \n",
    "    \n",
    "    # Perform reverse one-hot encoding on state columns\n",
    "    states = ['AK', 'AL', 'AR', 'AZ', 'CA', 'CO', 'CT', 'DC', 'DE', 'FL', 'GA', 'HI', 'IA', 'ID', 'IL', \n",
    "              'IN', 'KS', 'KY', 'LA', 'MA', 'MD', 'ME', 'MI', 'MN', 'MO', 'MS', 'MT', 'NC', 'ND', 'NE', \n",
    "              'NH', 'NJ', 'NM', 'NV', 'NY', 'OH', 'OK', 'OR', 'PA', 'RI', 'SC', 'SD', 'TN', 'TX', 'UT', \n",
    "              'VA', 'VT', 'WA', 'WI', 'WV', 'WY']\n",
    "    df['state'] = df[[f'state_{state}' for state in states]].apply(lambda x: states[x.values.argmax()], axis=1)\n",
    "    df.drop([f'state_{state}' for state in states], axis=1, inplace=True) \n",
    "    \n",
    "    # Perform reverse one-hot encoding on cc_type columns\n",
    "    cc_types=['American Express', 'Diners Club - Carte Blanche', 'Discover', 'JCB', 'MasterCard', 'Other', 'Visa']\n",
    "    df['cc_type'] = df[[f'cc_type_{cc_type}' for cc_type in cc_types]].apply(lambda x: cc_types[x.values.argmax()], axis=1)\n",
    "    df.drop([f'cc_type_{cc_type}' for cc_type in cc_types], axis=1, inplace=True) \n",
    "    \n",
    "    # Perform reverse one-hot encoding on time_period columns\n",
    "    time_periods = ['afternoon', 'dawn', 'evening', 'morning', 'night', 'noon']\n",
    "    df['time_period'] = df[[f'time_period_{time_period}' for time_period in time_periods]].apply(lambda x: time_periods[x.values.argmax()], axis=1)\n",
    "    df.drop([f'time_period_{time_period}' for time_period in time_periods], axis=1, inplace=True)\n",
    "    \n",
    "    # Save processed data to csv file\n",
    "    df.to_csv(f'processed_{filename}.csv', index=False)\n",
    "    \n",
    "    return df"
   ]
  },
  {
   "cell_type": "code",
   "execution_count": 203,
   "id": "0a8a213b",
   "metadata": {},
   "outputs": [
    {
     "data": {
      "text/html": [
       "<div>\n",
       "<style scoped>\n",
       "    .dataframe tbody tr th:only-of-type {\n",
       "        vertical-align: middle;\n",
       "    }\n",
       "\n",
       "    .dataframe tbody tr th {\n",
       "        vertical-align: top;\n",
       "    }\n",
       "\n",
       "    .dataframe thead th {\n",
       "        text-align: right;\n",
       "    }\n",
       "</style>\n",
       "<table border=\"1\" class=\"dataframe\">\n",
       "  <thead>\n",
       "    <tr style=\"text-align: right;\">\n",
       "      <th></th>\n",
       "      <th>amt</th>\n",
       "      <th>gender</th>\n",
       "      <th>city_pop</th>\n",
       "      <th>is_fraud</th>\n",
       "      <th>day</th>\n",
       "      <th>category</th>\n",
       "      <th>state</th>\n",
       "      <th>cc_type</th>\n",
       "      <th>time_period</th>\n",
       "    </tr>\n",
       "  </thead>\n",
       "  <tbody>\n",
       "    <tr>\n",
       "      <th>0</th>\n",
       "      <td>119.60</td>\n",
       "      <td>F</td>\n",
       "      <td>213</td>\n",
       "      <td>0</td>\n",
       "      <td>Saturday</td>\n",
       "      <td>grocery_pos</td>\n",
       "      <td>PA</td>\n",
       "      <td>Visa</td>\n",
       "      <td>dawn</td>\n",
       "    </tr>\n",
       "    <tr>\n",
       "      <th>1</th>\n",
       "      <td>212.47</td>\n",
       "      <td>F</td>\n",
       "      <td>310</td>\n",
       "      <td>0</td>\n",
       "      <td>Friday</td>\n",
       "      <td>kids_pets</td>\n",
       "      <td>NM</td>\n",
       "      <td>JCB</td>\n",
       "      <td>afternoon</td>\n",
       "    </tr>\n",
       "    <tr>\n",
       "      <th>2</th>\n",
       "      <td>74.97</td>\n",
       "      <td>F</td>\n",
       "      <td>34153</td>\n",
       "      <td>0</td>\n",
       "      <td>Friday</td>\n",
       "      <td>grocery_pos</td>\n",
       "      <td>TX</td>\n",
       "      <td>Diners Club - Carte Blanche</td>\n",
       "      <td>evening</td>\n",
       "    </tr>\n",
       "    <tr>\n",
       "      <th>3</th>\n",
       "      <td>68.42</td>\n",
       "      <td>F</td>\n",
       "      <td>36438</td>\n",
       "      <td>0</td>\n",
       "      <td>Friday</td>\n",
       "      <td>shopping_net</td>\n",
       "      <td>AR</td>\n",
       "      <td>Discover</td>\n",
       "      <td>noon</td>\n",
       "    </tr>\n",
       "    <tr>\n",
       "      <th>4</th>\n",
       "      <td>65.59</td>\n",
       "      <td>M</td>\n",
       "      <td>910148</td>\n",
       "      <td>0</td>\n",
       "      <td>Thursday</td>\n",
       "      <td>grocery_pos</td>\n",
       "      <td>IN</td>\n",
       "      <td>Visa</td>\n",
       "      <td>dawn</td>\n",
       "    </tr>\n",
       "    <tr>\n",
       "      <th>...</th>\n",
       "      <td>...</td>\n",
       "      <td>...</td>\n",
       "      <td>...</td>\n",
       "      <td>...</td>\n",
       "      <td>...</td>\n",
       "      <td>...</td>\n",
       "      <td>...</td>\n",
       "      <td>...</td>\n",
       "      <td>...</td>\n",
       "    </tr>\n",
       "    <tr>\n",
       "      <th>356397</th>\n",
       "      <td>8.61</td>\n",
       "      <td>F</td>\n",
       "      <td>118</td>\n",
       "      <td>0</td>\n",
       "      <td>Wednesday</td>\n",
       "      <td>misc_pos</td>\n",
       "      <td>OH</td>\n",
       "      <td>Visa</td>\n",
       "      <td>morning</td>\n",
       "    </tr>\n",
       "    <tr>\n",
       "      <th>356398</th>\n",
       "      <td>138.62</td>\n",
       "      <td>M</td>\n",
       "      <td>105549</td>\n",
       "      <td>0</td>\n",
       "      <td>Tuesday</td>\n",
       "      <td>home</td>\n",
       "      <td>CA</td>\n",
       "      <td>Visa</td>\n",
       "      <td>night</td>\n",
       "    </tr>\n",
       "    <tr>\n",
       "      <th>356399</th>\n",
       "      <td>69.25</td>\n",
       "      <td>F</td>\n",
       "      <td>16183</td>\n",
       "      <td>0</td>\n",
       "      <td>Thursday</td>\n",
       "      <td>kids_pets</td>\n",
       "      <td>WV</td>\n",
       "      <td>Visa</td>\n",
       "      <td>afternoon</td>\n",
       "    </tr>\n",
       "    <tr>\n",
       "      <th>356400</th>\n",
       "      <td>8.89</td>\n",
       "      <td>F</td>\n",
       "      <td>18128</td>\n",
       "      <td>0</td>\n",
       "      <td>Tuesday</td>\n",
       "      <td>shopping_pos</td>\n",
       "      <td>TX</td>\n",
       "      <td>Visa</td>\n",
       "      <td>evening</td>\n",
       "    </tr>\n",
       "    <tr>\n",
       "      <th>356401</th>\n",
       "      <td>5.51</td>\n",
       "      <td>M</td>\n",
       "      <td>4474</td>\n",
       "      <td>0</td>\n",
       "      <td>Tuesday</td>\n",
       "      <td>shopping_pos</td>\n",
       "      <td>MI</td>\n",
       "      <td>JCB</td>\n",
       "      <td>evening</td>\n",
       "    </tr>\n",
       "  </tbody>\n",
       "</table>\n",
       "<p>356402 rows × 9 columns</p>\n",
       "</div>"
      ],
      "text/plain": [
       "           amt gender  city_pop  is_fraud        day      category state  \\\n",
       "0       119.60      F       213         0   Saturday   grocery_pos    PA   \n",
       "1       212.47      F       310         0     Friday     kids_pets    NM   \n",
       "2        74.97      F     34153         0     Friday   grocery_pos    TX   \n",
       "3        68.42      F     36438         0     Friday  shopping_net    AR   \n",
       "4        65.59      M    910148         0   Thursday   grocery_pos    IN   \n",
       "...        ...    ...       ...       ...        ...           ...   ...   \n",
       "356397    8.61      F       118         0  Wednesday      misc_pos    OH   \n",
       "356398  138.62      M    105549         0    Tuesday          home    CA   \n",
       "356399   69.25      F     16183         0   Thursday     kids_pets    WV   \n",
       "356400    8.89      F     18128         0    Tuesday  shopping_pos    TX   \n",
       "356401    5.51      M      4474         0    Tuesday  shopping_pos    MI   \n",
       "\n",
       "                            cc_type time_period  \n",
       "0                              Visa        dawn  \n",
       "1                               JCB   afternoon  \n",
       "2       Diners Club - Carte Blanche     evening  \n",
       "3                          Discover        noon  \n",
       "4                              Visa        dawn  \n",
       "...                             ...         ...  \n",
       "356397                         Visa     morning  \n",
       "356398                         Visa       night  \n",
       "356399                         Visa   afternoon  \n",
       "356400                         Visa     evening  \n",
       "356401                          JCB     evening  \n",
       "\n",
       "[356402 rows x 9 columns]"
      ]
     },
     "execution_count": 203,
     "metadata": {},
     "output_type": "execute_result"
    }
   ],
   "source": [
    "preprocess_data('legit.csv')"
   ]
  },
  {
   "cell_type": "code",
   "execution_count": 207,
   "id": "8f52e2b3",
   "metadata": {},
   "outputs": [
    {
     "name": "stdout",
     "output_type": "stream",
     "text": [
      "Enter your gender (M/F/O): m\n",
      "Enter the amount in dollars: 64654\n",
      "Enter the category of the payment: homr\n",
      "Enter your current latitude: 5454\n",
      "Enter your current longitude: 54\n",
      "Enter the city name you are currently in: hfh\n"
     ]
    },
    {
     "ename": "JSONDecodeError",
     "evalue": "Expecting value: line 2 column 1 (char 1)",
     "output_type": "error",
     "traceback": [
      "\u001b[1;31m---------------------------------------------------------------------------\u001b[0m",
      "\u001b[1;31mJSONDecodeError\u001b[0m                           Traceback (most recent call last)",
      "\u001b[1;32mC:\\ProgramData\\Anaconda3\\lib\\site-packages\\requests\\models.py\u001b[0m in \u001b[0;36mjson\u001b[1;34m(self, **kwargs)\u001b[0m\n\u001b[0;32m    970\u001b[0m         \u001b[1;32mtry\u001b[0m\u001b[1;33m:\u001b[0m\u001b[1;33m\u001b[0m\u001b[1;33m\u001b[0m\u001b[0m\n\u001b[1;32m--> 971\u001b[1;33m             \u001b[1;32mreturn\u001b[0m \u001b[0mcomplexjson\u001b[0m\u001b[1;33m.\u001b[0m\u001b[0mloads\u001b[0m\u001b[1;33m(\u001b[0m\u001b[0mself\u001b[0m\u001b[1;33m.\u001b[0m\u001b[0mtext\u001b[0m\u001b[1;33m,\u001b[0m \u001b[1;33m**\u001b[0m\u001b[0mkwargs\u001b[0m\u001b[1;33m)\u001b[0m\u001b[1;33m\u001b[0m\u001b[1;33m\u001b[0m\u001b[0m\n\u001b[0m\u001b[0;32m    972\u001b[0m         \u001b[1;32mexcept\u001b[0m \u001b[0mJSONDecodeError\u001b[0m \u001b[1;32mas\u001b[0m \u001b[0me\u001b[0m\u001b[1;33m:\u001b[0m\u001b[1;33m\u001b[0m\u001b[1;33m\u001b[0m\u001b[0m\n",
      "\u001b[1;32mC:\\ProgramData\\Anaconda3\\lib\\json\\__init__.py\u001b[0m in \u001b[0;36mloads\u001b[1;34m(s, cls, object_hook, parse_float, parse_int, parse_constant, object_pairs_hook, **kw)\u001b[0m\n\u001b[0;32m    345\u001b[0m             parse_constant is None and object_pairs_hook is None and not kw):\n\u001b[1;32m--> 346\u001b[1;33m         \u001b[1;32mreturn\u001b[0m \u001b[0m_default_decoder\u001b[0m\u001b[1;33m.\u001b[0m\u001b[0mdecode\u001b[0m\u001b[1;33m(\u001b[0m\u001b[0ms\u001b[0m\u001b[1;33m)\u001b[0m\u001b[1;33m\u001b[0m\u001b[1;33m\u001b[0m\u001b[0m\n\u001b[0m\u001b[0;32m    347\u001b[0m     \u001b[1;32mif\u001b[0m \u001b[0mcls\u001b[0m \u001b[1;32mis\u001b[0m \u001b[1;32mNone\u001b[0m\u001b[1;33m:\u001b[0m\u001b[1;33m\u001b[0m\u001b[1;33m\u001b[0m\u001b[0m\n",
      "\u001b[1;32mC:\\ProgramData\\Anaconda3\\lib\\json\\decoder.py\u001b[0m in \u001b[0;36mdecode\u001b[1;34m(self, s, _w)\u001b[0m\n\u001b[0;32m    336\u001b[0m         \"\"\"\n\u001b[1;32m--> 337\u001b[1;33m         \u001b[0mobj\u001b[0m\u001b[1;33m,\u001b[0m \u001b[0mend\u001b[0m \u001b[1;33m=\u001b[0m \u001b[0mself\u001b[0m\u001b[1;33m.\u001b[0m\u001b[0mraw_decode\u001b[0m\u001b[1;33m(\u001b[0m\u001b[0ms\u001b[0m\u001b[1;33m,\u001b[0m \u001b[0midx\u001b[0m\u001b[1;33m=\u001b[0m\u001b[0m_w\u001b[0m\u001b[1;33m(\u001b[0m\u001b[0ms\u001b[0m\u001b[1;33m,\u001b[0m \u001b[1;36m0\u001b[0m\u001b[1;33m)\u001b[0m\u001b[1;33m.\u001b[0m\u001b[0mend\u001b[0m\u001b[1;33m(\u001b[0m\u001b[1;33m)\u001b[0m\u001b[1;33m)\u001b[0m\u001b[1;33m\u001b[0m\u001b[1;33m\u001b[0m\u001b[0m\n\u001b[0m\u001b[0;32m    338\u001b[0m         \u001b[0mend\u001b[0m \u001b[1;33m=\u001b[0m \u001b[0m_w\u001b[0m\u001b[1;33m(\u001b[0m\u001b[0ms\u001b[0m\u001b[1;33m,\u001b[0m \u001b[0mend\u001b[0m\u001b[1;33m)\u001b[0m\u001b[1;33m.\u001b[0m\u001b[0mend\u001b[0m\u001b[1;33m(\u001b[0m\u001b[1;33m)\u001b[0m\u001b[1;33m\u001b[0m\u001b[1;33m\u001b[0m\u001b[0m\n",
      "\u001b[1;32mC:\\ProgramData\\Anaconda3\\lib\\json\\decoder.py\u001b[0m in \u001b[0;36mraw_decode\u001b[1;34m(self, s, idx)\u001b[0m\n\u001b[0;32m    354\u001b[0m         \u001b[1;32mexcept\u001b[0m \u001b[0mStopIteration\u001b[0m \u001b[1;32mas\u001b[0m \u001b[0merr\u001b[0m\u001b[1;33m:\u001b[0m\u001b[1;33m\u001b[0m\u001b[1;33m\u001b[0m\u001b[0m\n\u001b[1;32m--> 355\u001b[1;33m             \u001b[1;32mraise\u001b[0m \u001b[0mJSONDecodeError\u001b[0m\u001b[1;33m(\u001b[0m\u001b[1;34m\"Expecting value\"\u001b[0m\u001b[1;33m,\u001b[0m \u001b[0ms\u001b[0m\u001b[1;33m,\u001b[0m \u001b[0merr\u001b[0m\u001b[1;33m.\u001b[0m\u001b[0mvalue\u001b[0m\u001b[1;33m)\u001b[0m \u001b[1;32mfrom\u001b[0m \u001b[1;32mNone\u001b[0m\u001b[1;33m\u001b[0m\u001b[1;33m\u001b[0m\u001b[0m\n\u001b[0m\u001b[0;32m    356\u001b[0m         \u001b[1;32mreturn\u001b[0m \u001b[0mobj\u001b[0m\u001b[1;33m,\u001b[0m \u001b[0mend\u001b[0m\u001b[1;33m\u001b[0m\u001b[1;33m\u001b[0m\u001b[0m\n",
      "\u001b[1;31mJSONDecodeError\u001b[0m: Expecting value: line 2 column 1 (char 1)",
      "\nDuring handling of the above exception, another exception occurred:\n",
      "\u001b[1;31mJSONDecodeError\u001b[0m                           Traceback (most recent call last)",
      "\u001b[1;32m~\\AppData\\Local\\Temp\\ipykernel_12416\\1811820755.py\u001b[0m in \u001b[0;36m<module>\u001b[1;34m\u001b[0m\n\u001b[0;32m     35\u001b[0m \u001b[0mtransaction_day\u001b[0m \u001b[1;33m=\u001b[0m \u001b[0mdatetime\u001b[0m\u001b[1;33m.\u001b[0m\u001b[0mdatetime\u001b[0m\u001b[1;33m.\u001b[0m\u001b[0mnow\u001b[0m\u001b[1;33m(\u001b[0m\u001b[1;33m)\u001b[0m\u001b[1;33m.\u001b[0m\u001b[0mstrftime\u001b[0m\u001b[1;33m(\u001b[0m\u001b[1;34m'%A'\u001b[0m\u001b[1;33m)\u001b[0m\u001b[1;33m\u001b[0m\u001b[1;33m\u001b[0m\u001b[0m\n\u001b[0;32m     36\u001b[0m \u001b[0mcity_name\u001b[0m \u001b[1;33m=\u001b[0m \u001b[0minput\u001b[0m\u001b[1;33m(\u001b[0m\u001b[1;34m'Enter the city name you are currently in: '\u001b[0m\u001b[1;33m)\u001b[0m\u001b[1;33m\u001b[0m\u001b[1;33m\u001b[0m\u001b[0m\n\u001b[1;32m---> 37\u001b[1;33m \u001b[0mcity_population\u001b[0m \u001b[1;33m=\u001b[0m \u001b[0mget_city_population\u001b[0m\u001b[1;33m(\u001b[0m\u001b[0mcity_name\u001b[0m\u001b[1;33m)\u001b[0m\u001b[1;33m\u001b[0m\u001b[1;33m\u001b[0m\u001b[0m\n\u001b[0m\u001b[0;32m     38\u001b[0m \u001b[1;33m\u001b[0m\u001b[0m\n\u001b[0;32m     39\u001b[0m \u001b[1;31m# validate credit card\u001b[0m\u001b[1;33m\u001b[0m\u001b[1;33m\u001b[0m\u001b[0m\n",
      "\u001b[1;32m~\\AppData\\Local\\Temp\\ipykernel_12416\\1811820755.py\u001b[0m in \u001b[0;36mget_city_population\u001b[1;34m(city_name)\u001b[0m\n\u001b[0;32m     22\u001b[0m     \u001b[0mresponse\u001b[0m \u001b[1;33m=\u001b[0m \u001b[0mrequests\u001b[0m\u001b[1;33m.\u001b[0m\u001b[0mget\u001b[0m\u001b[1;33m(\u001b[0m\u001b[1;34mf'https://api.census.gov/data/2019/pep/population?get=POP&for=place:*&in=state:*&NAME={city_name}&key=YOUR_API_KEY'\u001b[0m\u001b[1;33m)\u001b[0m\u001b[1;33m\u001b[0m\u001b[1;33m\u001b[0m\u001b[0m\n\u001b[0;32m     23\u001b[0m     \u001b[1;32mif\u001b[0m \u001b[0mresponse\u001b[0m\u001b[1;33m.\u001b[0m\u001b[0mstatus_code\u001b[0m \u001b[1;33m==\u001b[0m \u001b[1;36m200\u001b[0m\u001b[1;33m:\u001b[0m\u001b[1;33m\u001b[0m\u001b[1;33m\u001b[0m\u001b[0m\n\u001b[1;32m---> 24\u001b[1;33m         \u001b[1;32mreturn\u001b[0m \u001b[0mint\u001b[0m\u001b[1;33m(\u001b[0m\u001b[0mresponse\u001b[0m\u001b[1;33m.\u001b[0m\u001b[0mjson\u001b[0m\u001b[1;33m(\u001b[0m\u001b[1;33m)\u001b[0m\u001b[1;33m[\u001b[0m\u001b[1;36m1\u001b[0m\u001b[1;33m]\u001b[0m\u001b[1;33m[\u001b[0m\u001b[1;36m0\u001b[0m\u001b[1;33m]\u001b[0m\u001b[1;33m)\u001b[0m\u001b[1;33m\u001b[0m\u001b[1;33m\u001b[0m\u001b[0m\n\u001b[0m\u001b[0;32m     25\u001b[0m     \u001b[1;32melse\u001b[0m\u001b[1;33m:\u001b[0m\u001b[1;33m\u001b[0m\u001b[1;33m\u001b[0m\u001b[0m\n\u001b[0;32m     26\u001b[0m         \u001b[1;32mreturn\u001b[0m \u001b[1;32mNone\u001b[0m\u001b[1;33m\u001b[0m\u001b[1;33m\u001b[0m\u001b[0m\n",
      "\u001b[1;32mC:\\ProgramData\\Anaconda3\\lib\\site-packages\\requests\\models.py\u001b[0m in \u001b[0;36mjson\u001b[1;34m(self, **kwargs)\u001b[0m\n\u001b[0;32m    973\u001b[0m             \u001b[1;31m# Catch JSON-related errors and raise as requests.JSONDecodeError\u001b[0m\u001b[1;33m\u001b[0m\u001b[1;33m\u001b[0m\u001b[0m\n\u001b[0;32m    974\u001b[0m             \u001b[1;31m# This aliases json.JSONDecodeError and simplejson.JSONDecodeError\u001b[0m\u001b[1;33m\u001b[0m\u001b[1;33m\u001b[0m\u001b[0m\n\u001b[1;32m--> 975\u001b[1;33m             \u001b[1;32mraise\u001b[0m \u001b[0mRequestsJSONDecodeError\u001b[0m\u001b[1;33m(\u001b[0m\u001b[0me\u001b[0m\u001b[1;33m.\u001b[0m\u001b[0mmsg\u001b[0m\u001b[1;33m,\u001b[0m \u001b[0me\u001b[0m\u001b[1;33m.\u001b[0m\u001b[0mdoc\u001b[0m\u001b[1;33m,\u001b[0m \u001b[0me\u001b[0m\u001b[1;33m.\u001b[0m\u001b[0mpos\u001b[0m\u001b[1;33m)\u001b[0m\u001b[1;33m\u001b[0m\u001b[1;33m\u001b[0m\u001b[0m\n\u001b[0m\u001b[0;32m    976\u001b[0m \u001b[1;33m\u001b[0m\u001b[0m\n\u001b[0;32m    977\u001b[0m     \u001b[1;33m@\u001b[0m\u001b[0mproperty\u001b[0m\u001b[1;33m\u001b[0m\u001b[1;33m\u001b[0m\u001b[0m\n",
      "\u001b[1;31mJSONDecodeError\u001b[0m: Expecting value: line 2 column 1 (char 1)"
     ]
    }
   ],
   "source": [
    "import requests\n",
    "import datetime\n",
    "\n",
    "# function to validate credit card using API\n",
    "def validate_credit_card(card_number):\n",
    "    response = requests.get(f'https://api.creditcardvalidator.co/validate?card_number={card_number}&apikey=YOUR_API_KEY')\n",
    "    if response.status_code == 200:\n",
    "        return response.json()['valid']\n",
    "    else:\n",
    "        return False\n",
    "\n",
    "# function to get state using API\n",
    "def get_state(latitude, longitude):\n",
    "    response = requests.get(f'https://api.geocod.io/v1.6/reverse?q={latitude},{longitude}&api_key=YOUR_API_KEY')\n",
    "    if response.status_code == 200:\n",
    "        return response.json()['results'][0]['address_components']['state']\n",
    "    else:\n",
    "        return None\n",
    "\n",
    "# function to get city population using API\n",
    "def get_city_population(city_name):\n",
    "    response = requests.get(f'https://api.census.gov/data/2019/pep/population?get=POP&for=place:*&in=state:*&NAME={city_name}&key=YOUR_API_KEY')\n",
    "    if response.status_code == 200:\n",
    "        return int(response.json()[1][0])\n",
    "    else:\n",
    "        return None\n",
    "\n",
    "# get user inputs\n",
    "gender = input('Enter your gender (M/F/O): ')\n",
    "amount = float(input('Enter the amount in dollars: '))\n",
    "category = input('Enter the category of the payment: ')\n",
    "latitude = float(input('Enter your current latitude: '))\n",
    "longitude = float(input('Enter your current longitude: '))\n",
    "transaction_time = datetime.datetime.now().strftime('%H:%M:%S')\n",
    "transaction_day = datetime.datetime.now().strftime('%A')\n",
    "city_name = input('Enter the city name you are currently in: ')\n",
    "city_population = get_city_population(city_name)\n",
    "\n",
    "# validate credit card\n",
    "credit_card_number = input('Enter your credit card number: ')\n",
    "if validate_credit_card(credit_card_number):\n",
    "    print('Credit card is valid')\n",
    "else:\n",
    "    print('Credit card is invalid')\n",
    "\n",
    "# get state using API\n",
    "state = get_state(latitude, longitude)\n",
    "\n",
    "# print transaction details\n",
    "print(f'Gender: {gender}')\n",
    "print(f'Amount: ${amount:.2f}')\n",
    "print(f'Category: {category}')\n",
    "print(f'Location: {city_name}, {state}')\n",
    "print(f'Time: {transaction_time}')\n",
    "print(f'Day: {transaction_day}')\n",
    "print(f'Population of the city: {city_population}')"
   ]
  },
  {
   "cell_type": "code",
   "execution_count": null,
   "id": "e3931d5a",
   "metadata": {},
   "outputs": [],
   "source": []
  }
 ],
 "metadata": {
  "kernelspec": {
   "display_name": "Python 3 (ipykernel)",
   "language": "python",
   "name": "python3"
  },
  "language_info": {
   "codemirror_mode": {
    "name": "ipython",
    "version": 3
   },
   "file_extension": ".py",
   "mimetype": "text/x-python",
   "name": "python",
   "nbconvert_exporter": "python",
   "pygments_lexer": "ipython3",
   "version": "3.9.13"
  }
 },
 "nbformat": 4,
 "nbformat_minor": 5
}
